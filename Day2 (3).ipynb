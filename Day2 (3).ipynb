{
 "cells": [
  {
   "cell_type": "raw",
   "id": "4e260079",
   "metadata": {},
   "source": [
    "1) Combining random seed, random.randint, reshape \n",
    "np.random.seed(0)\n",
    "arr = np.random.randint(low = 10, high=100, size = 9)\n",
    "arr1 = arr.reshape(3,3)\n",
    "arr1\n",
    "\n",
    "2) np.concatenate(   ( arr,arr1d ) ): combining arr and arr1d\n",
    "3) np.concatenate(  (arr1, arr2d) ,axis=1): combines on columns (must have same dimensions to concatenate)\n",
    "4) newarr = arr2d[  : , 0 ]\n",
    "newarr: columns will get selected but it gonna show us as row\n",
    "and so write,\n",
    "5) newarr = arr2d[:, 0:1]\n",
    "newarr: columns will get selected but it gonna show us as columns\n",
    "6) np.stack(  (arr1,arr2d), axis=1 ): combines but as a 2 list, for combining as 1 list use concatenate\n",
    "\n",
    "1D:\n",
    "7) np.split(b, 4 ): there were 8 and so among them it got paired in 4 groups, if its odd it wont happen\n",
    "if u want, do:\n",
    "8) np.split(b,[2, 6])\n",
    "\n",
    "2D:\n",
    "9) np.split(ArrA,2)\n",
    "10) np.split(ArrA, [2,3], axis=0)\n",
    "11) np.split(ArrA, [2,3], axis=1)\n",
    "\n",
    "12)go to for loop(that's 3) \n",
    "a) for i in ArrA: print(i)\n",
    "b) for i in ArrA: for j in i: print(j)\n",
    "c) for i in np.nditer(ArrA): print (i)\n",
    "\n",
    "13)to change a value, write: ArrA[0,0] = 100\n",
    "ArrA\n",
    "\n",
    "14) pd.series(ages): places the given value in column having an random index, can be done in all datatypes\n",
    "15) ages = [12,24,18,92]\n",
    "pd.Series(ages, index = [\"A\",\"B\",\"C\", \"D\"] ): replaces the random index to the given value\n",
    "\n",
    "pd.DataFrame:\n",
    "stud_data = [[\"S101\", 45, \"BLR\"],\n",
    "            [\"S102\", 32, \"CHN\"]]\n",
    "16) pd.DataFrame(stud_data, index = [\"A\",\"B\"]): rows gets replaced, row=index\n",
    "17) pd.DataFrame(stud_data, column = [\"A\",\"B\", \"C\"]): columns gets replaced, column=column\n",
    "18) df.to_csv(\"stud_data.csv\"): saves the dataframe as .cvs file\n",
    "\n",
    "19) cannot do indexing in dataframe so do it by: \n",
    "iloc: used when indexing is default: 0 1 2, loc:used when indexing is labeled and default: 0 1 2 or say A B C\n",
    "20) df.iloc[0] #0 row\n",
    "21) df.iloc[ : , 0] #all rows 0 column\n",
    "22) df.iloc[0, 1]: to find the exact value we want\n",
    "23) df.iloc[0, 1] = 35\n",
    "df: change the value there at 0 row 1 column\n",
    "24) df.loc[ 0 :2]  # end is included\n",
    "\n",
    "25) filtering data:\n",
    "a) df[df[\"Marks\"]  > 40] [[ \"S@ID\", \"Marks\"]]\n",
    "b) df[   (df[\"Marks\"] > 30 ) & (df[\"city\"] == \"BLR\")]\n",
    "c) df[   (df[\"Marks\"] > 30 ) | (df[\"city\"] == \"BLR\")]\n",
    "d) df[~df[\"Marks\"]  > 40]: will show that's opposite\n",
    "e) d[\"Age\"] = 20\n",
    "d: adding new column named Age and giving all rows the value 20\n",
    "f) df.drop(columns = \"age\", inplace=True): droping age\n",
    "g) data[\"Description\"].str.split(\"-\", expand=True): spliting and expanding"
   ]
  },
  {
   "cell_type": "code",
   "execution_count": 1,
   "id": "d985988b",
   "metadata": {},
   "outputs": [
    {
     "name": "stdout",
     "output_type": "stream",
     "text": [
      "a1: 2 rows, 5 columns: \n",
      " [[83 66 21 78 13]\n",
      " [67 32 35 85 12]] \n",
      "\n",
      "a2: 5 columns, 2 rows: \n",
      " [[83 66]\n",
      " [21 78]\n",
      " [13 67]\n",
      " [32 35]\n",
      " [85 12]] \n",
      "\n",
      "a3: 5 columns, 2 rows: \n",
      " [[83 66]\n",
      " [21 78]\n",
      " [13 67]\n",
      " [32 35]\n",
      " [85 12]]\n"
     ]
    }
   ],
   "source": [
    "import numpy as np\n",
    "np.random.seed(5)\n",
    "a=np.random.randint(low=5, high=100, size=10)\n",
    "a1=a.reshape(2,5)\n",
    "a2=a.reshape(5,2)\n",
    "a3=a1.reshape(5,2)\n",
    "print('a1: 2 rows, 5 columns:','\\n', a1, '\\n')\n",
    "print('a2: 5 columns, 2 rows:', '\\n', a2, '\\n')\n",
    "print('a3: 5 columns, 2 rows:', '\\n', a3)"
   ]
  },
  {
   "cell_type": "code",
   "execution_count": 2,
   "id": "61b27010",
   "metadata": {},
   "outputs": [
    {
     "data": {
      "text/plain": [
       "array([[54, 57, 74],\n",
       "       [77, 77, 19],\n",
       "       [93, 31, 46]])"
      ]
     },
     "execution_count": 2,
     "metadata": {},
     "output_type": "execute_result"
    }
   ],
   "source": [
    "import numpy as np\n",
    "\n",
    "np.random.seed(0)\n",
    "arr = np.random.randint(low = 10, high=100, size = 9)\n",
    "arr1 = arr.reshape(3,3)\n",
    "arr1"
   ]
  },
  {
   "cell_type": "code",
   "execution_count": 3,
   "id": "626fb7c9",
   "metadata": {},
   "outputs": [
    {
     "data": {
      "text/plain": [
       "array([[91, 31, 84],\n",
       "       [19, 95, 32],\n",
       "       [51, 86, 70]])"
      ]
     },
     "execution_count": 3,
     "metadata": {},
     "output_type": "execute_result"
    }
   ],
   "source": [
    "np.random.seed(300)\n",
    "arr1d = np.random.randint(low = 10, high=100, size = 9)\n",
    "arr2d = arr1d.reshape(3,3)\n",
    "arr2d"
   ]
  },
  {
   "cell_type": "code",
   "execution_count": 4,
   "id": "c57089a0",
   "metadata": {},
   "outputs": [
    {
     "data": {
      "text/plain": [
       "array([54, 57, 74, 77, 77, 19, 93, 31, 46])"
      ]
     },
     "execution_count": 4,
     "metadata": {},
     "output_type": "execute_result"
    }
   ],
   "source": [
    "arr"
   ]
  },
  {
   "cell_type": "code",
   "execution_count": 5,
   "id": "5682813b",
   "metadata": {},
   "outputs": [
    {
     "data": {
      "text/plain": [
       "array([91, 31, 84, 19, 95, 32, 51, 86, 70])"
      ]
     },
     "execution_count": 5,
     "metadata": {},
     "output_type": "execute_result"
    }
   ],
   "source": [
    "arr1d"
   ]
  },
  {
   "cell_type": "code",
   "execution_count": 6,
   "id": "8550393f",
   "metadata": {},
   "outputs": [
    {
     "data": {
      "text/plain": [
       "array([54, 57, 74, 77, 77, 19, 93, 31, 46, 91, 31, 84, 19, 95, 32, 51, 86,\n",
       "       70])"
      ]
     },
     "execution_count": 6,
     "metadata": {},
     "output_type": "execute_result"
    }
   ],
   "source": [
    "np.concatenate(   ( arr,arr1d ) )"
   ]
  },
  {
   "cell_type": "code",
   "execution_count": 7,
   "id": "f61d687a",
   "metadata": {},
   "outputs": [
    {
     "data": {
      "text/plain": [
       "array([[54, 57, 74],\n",
       "       [77, 77, 19],\n",
       "       [93, 31, 46]])"
      ]
     },
     "execution_count": 7,
     "metadata": {},
     "output_type": "execute_result"
    }
   ],
   "source": [
    "arr1"
   ]
  },
  {
   "cell_type": "code",
   "execution_count": 8,
   "id": "b288f441",
   "metadata": {},
   "outputs": [
    {
     "data": {
      "text/plain": [
       "array([[91, 31, 84],\n",
       "       [19, 95, 32],\n",
       "       [51, 86, 70]])"
      ]
     },
     "execution_count": 8,
     "metadata": {},
     "output_type": "execute_result"
    }
   ],
   "source": [
    "arr2d"
   ]
  },
  {
   "cell_type": "code",
   "execution_count": 9,
   "id": "ef7778b7",
   "metadata": {},
   "outputs": [
    {
     "data": {
      "text/plain": [
       "array([[54, 57, 74],\n",
       "       [77, 77, 19],\n",
       "       [93, 31, 46],\n",
       "       [91, 31, 84],\n",
       "       [19, 95, 32],\n",
       "       [51, 86, 70]])"
      ]
     },
     "execution_count": 9,
     "metadata": {},
     "output_type": "execute_result"
    }
   ],
   "source": [
    "np.concatenate(  (arr1, arr2d) )"
   ]
  },
  {
   "cell_type": "code",
   "execution_count": 10,
   "id": "d92c68eb",
   "metadata": {},
   "outputs": [
    {
     "data": {
      "text/plain": [
       "array([[54, 57, 74, 91, 31, 84],\n",
       "       [77, 77, 19, 19, 95, 32],\n",
       "       [93, 31, 46, 51, 86, 70]])"
      ]
     },
     "execution_count": 10,
     "metadata": {},
     "output_type": "execute_result"
    }
   ],
   "source": [
    "np.concatenate(  (arr1, arr2d) ,axis=1)"
   ]
  },
  {
   "cell_type": "code",
   "execution_count": 11,
   "id": "871d9798",
   "metadata": {},
   "outputs": [
    {
     "data": {
      "text/plain": [
       "array([91, 19, 51])"
      ]
     },
     "execution_count": 11,
     "metadata": {},
     "output_type": "execute_result"
    }
   ],
   "source": [
    "newarr = arr2d[  : , 0 ]\n",
    "newarr"
   ]
  },
  {
   "cell_type": "code",
   "execution_count": 12,
   "id": "1dad82c8",
   "metadata": {},
   "outputs": [
    {
     "data": {
      "text/plain": [
       "array([[91, 31, 84],\n",
       "       [19, 95, 32],\n",
       "       [51, 86, 70]])"
      ]
     },
     "execution_count": 12,
     "metadata": {},
     "output_type": "execute_result"
    }
   ],
   "source": [
    "arr2d"
   ]
  },
  {
   "cell_type": "code",
   "execution_count": 13,
   "id": "2610ade9",
   "metadata": {
    "collapsed": true
   },
   "outputs": [
    {
     "ename": "ValueError",
     "evalue": "all the input arrays must have same number of dimensions, but the array at index 0 has 2 dimension(s) and the array at index 1 has 1 dimension(s)",
     "output_type": "error",
     "traceback": [
      "\u001b[1;31m---------------------------------------------------------------------------\u001b[0m",
      "\u001b[1;31mValueError\u001b[0m                                Traceback (most recent call last)",
      "Cell \u001b[1;32mIn[13], line 1\u001b[0m\n\u001b[1;32m----> 1\u001b[0m \u001b[43mnp\u001b[49m\u001b[38;5;241;43m.\u001b[39;49m\u001b[43mconcatenate\u001b[49m\u001b[43m(\u001b[49m\u001b[43m  \u001b[49m\u001b[43m(\u001b[49m\u001b[43marr2d\u001b[49m\u001b[43m,\u001b[49m\u001b[43m \u001b[49m\u001b[43mnewarr\u001b[49m\u001b[43m)\u001b[49m\u001b[43m \u001b[49m\u001b[43m,\u001b[49m\u001b[43m \u001b[49m\u001b[43maxis\u001b[49m\u001b[38;5;241;43m=\u001b[39;49m\u001b[38;5;241;43m0\u001b[39;49m\u001b[43m)\u001b[49m\n",
      "File \u001b[1;32m<__array_function__ internals>:180\u001b[0m, in \u001b[0;36mconcatenate\u001b[1;34m(*args, **kwargs)\u001b[0m\n",
      "\u001b[1;31mValueError\u001b[0m: all the input arrays must have same number of dimensions, but the array at index 0 has 2 dimension(s) and the array at index 1 has 1 dimension(s)"
     ]
    }
   ],
   "source": [
    "np.concatenate(  (arr2d, newarr) , axis=0)"
   ]
  },
  {
   "cell_type": "code",
   "execution_count": 16,
   "id": "4b16a766",
   "metadata": {},
   "outputs": [
    {
     "data": {
      "text/plain": [
       "array([91, 19, 51])"
      ]
     },
     "execution_count": 16,
     "metadata": {},
     "output_type": "execute_result"
    }
   ],
   "source": [
    "newarr = arr2d[  : , 0 ]\n",
    "newarr"
   ]
  },
  {
   "cell_type": "code",
   "execution_count": 17,
   "id": "4c8ad32e",
   "metadata": {},
   "outputs": [
    {
     "data": {
      "text/plain": [
       "array([[91],\n",
       "       [19],\n",
       "       [51]])"
      ]
     },
     "execution_count": 17,
     "metadata": {},
     "output_type": "execute_result"
    }
   ],
   "source": [
    "newarr = arr2d[  : , 0 : 1 ]\n",
    "newarr"
   ]
  },
  {
   "cell_type": "code",
   "execution_count": 19,
   "id": "c68d94fc",
   "metadata": {},
   "outputs": [
    {
     "data": {
      "text/plain": [
       "array([], shape=(3, 0), dtype=int32)"
      ]
     },
     "execution_count": 19,
     "metadata": {},
     "output_type": "execute_result"
    }
   ],
   "source": [
    "newarr = arr2d[:,0:0]\n",
    "newarr"
   ]
  },
  {
   "cell_type": "code",
   "execution_count": 19,
   "id": "51970159",
   "metadata": {},
   "outputs": [
    {
     "data": {
      "text/plain": [
       "array([[91, 31, 84, 91],\n",
       "       [19, 95, 32, 19],\n",
       "       [51, 86, 70, 51]])"
      ]
     },
     "execution_count": 19,
     "metadata": {},
     "output_type": "execute_result"
    }
   ],
   "source": [
    "np.concatenate(  (arr2d, newarr) , axis=1)"
   ]
  },
  {
   "cell_type": "code",
   "execution_count": 20,
   "id": "c320cb4f",
   "metadata": {},
   "outputs": [
    {
     "data": {
      "text/plain": [
       "(3, 3)"
      ]
     },
     "execution_count": 20,
     "metadata": {},
     "output_type": "execute_result"
    }
   ],
   "source": [
    "arr2d.shape"
   ]
  },
  {
   "cell_type": "code",
   "execution_count": 21,
   "id": "df33f2c8",
   "metadata": {},
   "outputs": [
    {
     "data": {
      "text/plain": [
       "(3, 1)"
      ]
     },
     "execution_count": 21,
     "metadata": {},
     "output_type": "execute_result"
    }
   ],
   "source": [
    "newarr.shape"
   ]
  },
  {
   "cell_type": "code",
   "execution_count": 22,
   "id": "2904c4c5",
   "metadata": {},
   "outputs": [
    {
     "data": {
      "text/plain": [
       "array([[91, 31, 84, 91],\n",
       "       [19, 95, 32, 19],\n",
       "       [51, 86, 70, 51]])"
      ]
     },
     "execution_count": 22,
     "metadata": {},
     "output_type": "execute_result"
    }
   ],
   "source": [
    "np.concatenate(  (arr2d, newarr) , axis=1)"
   ]
  },
  {
   "cell_type": "code",
   "execution_count": 24,
   "id": "38e54935",
   "metadata": {},
   "outputs": [
    {
     "name": "stdout",
     "output_type": "stream",
     "text": [
      "(1, 3)\n",
      "[[91 31 84]]\n"
     ]
    }
   ],
   "source": [
    "n = arr2d[0:1, : ]\n",
    "print(n.shape)\n",
    "print(n)"
   ]
  },
  {
   "cell_type": "code",
   "execution_count": 25,
   "id": "493f22df",
   "metadata": {},
   "outputs": [
    {
     "data": {
      "text/plain": [
       "(3, 3)"
      ]
     },
     "execution_count": 25,
     "metadata": {},
     "output_type": "execute_result"
    }
   ],
   "source": [
    "arr2d.shape"
   ]
  },
  {
   "cell_type": "code",
   "execution_count": 26,
   "id": "07f5ed85",
   "metadata": {},
   "outputs": [
    {
     "data": {
      "text/plain": [
       "array([[91, 31, 84],\n",
       "       [19, 95, 32],\n",
       "       [51, 86, 70],\n",
       "       [91, 31, 84]])"
      ]
     },
     "execution_count": 26,
     "metadata": {},
     "output_type": "execute_result"
    }
   ],
   "source": [
    "np.concatenate(  (arr2d, n) , axis=0)"
   ]
  },
  {
   "cell_type": "code",
   "execution_count": null,
   "id": "ac8624be",
   "metadata": {},
   "outputs": [],
   "source": []
  },
  {
   "cell_type": "code",
   "execution_count": 27,
   "id": "81cc0423",
   "metadata": {},
   "outputs": [
    {
     "data": {
      "text/plain": [
       "array([54, 57, 74, 77, 77, 19, 93, 31, 46])"
      ]
     },
     "execution_count": 27,
     "metadata": {},
     "output_type": "execute_result"
    }
   ],
   "source": [
    "arr"
   ]
  },
  {
   "cell_type": "code",
   "execution_count": 28,
   "id": "c06e99ff",
   "metadata": {},
   "outputs": [
    {
     "data": {
      "text/plain": [
       "array([91, 31, 84, 19, 95, 32, 51, 86, 70])"
      ]
     },
     "execution_count": 28,
     "metadata": {},
     "output_type": "execute_result"
    }
   ],
   "source": [
    "arr1d"
   ]
  },
  {
   "cell_type": "code",
   "execution_count": 39,
   "id": "f64bb0d4",
   "metadata": {},
   "outputs": [
    {
     "data": {
      "text/plain": [
       "array([[54, 57, 74, 77, 77, 19, 93, 31, 46],\n",
       "       [91, 31, 84, 19, 95, 32, 51, 86, 70]])"
      ]
     },
     "execution_count": 39,
     "metadata": {},
     "output_type": "execute_result"
    }
   ],
   "source": [
    "np.stack( (arr,arr1d))"
   ]
  },
  {
   "cell_type": "code",
   "execution_count": 32,
   "id": "cb43188d",
   "metadata": {},
   "outputs": [
    {
     "data": {
      "text/plain": [
       "array([[54, 91],\n",
       "       [57, 31],\n",
       "       [74, 84],\n",
       "       [77, 19],\n",
       "       [77, 95],\n",
       "       [19, 32],\n",
       "       [93, 51],\n",
       "       [31, 86],\n",
       "       [46, 70]])"
      ]
     },
     "execution_count": 32,
     "metadata": {},
     "output_type": "execute_result"
    }
   ],
   "source": [
    "np.stack( (arr,arr1d), axis=1)"
   ]
  },
  {
   "cell_type": "code",
   "execution_count": 33,
   "id": "f2933b52",
   "metadata": {},
   "outputs": [
    {
     "data": {
      "text/plain": [
       "array([[54, 57, 74],\n",
       "       [77, 77, 19],\n",
       "       [93, 31, 46]])"
      ]
     },
     "execution_count": 33,
     "metadata": {},
     "output_type": "execute_result"
    }
   ],
   "source": [
    "arr1"
   ]
  },
  {
   "cell_type": "code",
   "execution_count": 34,
   "id": "2ec711b3",
   "metadata": {},
   "outputs": [
    {
     "data": {
      "text/plain": [
       "array([[91, 31, 84],\n",
       "       [19, 95, 32],\n",
       "       [51, 86, 70]])"
      ]
     },
     "execution_count": 34,
     "metadata": {},
     "output_type": "execute_result"
    }
   ],
   "source": [
    "arr2d"
   ]
  },
  {
   "cell_type": "code",
   "execution_count": 35,
   "id": "249a3b9b",
   "metadata": {},
   "outputs": [
    {
     "data": {
      "text/plain": [
       "array([[[54, 57, 74],\n",
       "        [77, 77, 19],\n",
       "        [93, 31, 46]],\n",
       "\n",
       "       [[91, 31, 84],\n",
       "        [19, 95, 32],\n",
       "        [51, 86, 70]]])"
      ]
     },
     "execution_count": 35,
     "metadata": {},
     "output_type": "execute_result"
    }
   ],
   "source": [
    "np.stack(  (arr1,arr2d) )  "
   ]
  },
  {
   "cell_type": "code",
   "execution_count": 36,
   "id": "64c5bd04",
   "metadata": {},
   "outputs": [
    {
     "data": {
      "text/plain": [
       "array([[[54, 57, 74],\n",
       "        [91, 31, 84]],\n",
       "\n",
       "       [[77, 77, 19],\n",
       "        [19, 95, 32]],\n",
       "\n",
       "       [[93, 31, 46],\n",
       "        [51, 86, 70]]])"
      ]
     },
     "execution_count": 36,
     "metadata": {},
     "output_type": "execute_result"
    }
   ],
   "source": [
    "np.stack(  (arr1,arr2d), axis=1 )"
   ]
  },
  {
   "cell_type": "code",
   "execution_count": 40,
   "id": "25a7a47b",
   "metadata": {},
   "outputs": [
    {
     "data": {
      "text/plain": [
       "array([[54, 57, 74, 77, 77],\n",
       "       [19, 93, 31, 46, 97],\n",
       "       [80, 98, 98, 22, 68],\n",
       "       [75, 49, 97, 56, 98]])"
      ]
     },
     "execution_count": 40,
     "metadata": {},
     "output_type": "execute_result"
    }
   ],
   "source": [
    "np.random.seed(0)\n",
    "ArrA = np.random.randint(low = 10, high=100, size = 20)\n",
    "ArrA = ArrA.reshape(4,5)\n",
    "ArrA"
   ]
  },
  {
   "cell_type": "code",
   "execution_count": 42,
   "id": "662cc2d0",
   "metadata": {},
   "outputs": [
    {
     "data": {
      "text/plain": [
       "array([54, 57, 74, 77, 77, 19, 93, 31, 46])"
      ]
     },
     "execution_count": 42,
     "metadata": {},
     "output_type": "execute_result"
    }
   ],
   "source": [
    "arr"
   ]
  },
  {
   "cell_type": "code",
   "execution_count": 46,
   "id": "6af94cd0",
   "metadata": {},
   "outputs": [
    {
     "data": {
      "text/plain": [
       "array([54, 57, 74, 77, 77, 19, 93, 31])"
      ]
     },
     "execution_count": 46,
     "metadata": {},
     "output_type": "execute_result"
    }
   ],
   "source": [
    "b = arr[ : 8]\n",
    "b"
   ]
  },
  {
   "cell_type": "code",
   "execution_count": 47,
   "id": "cbd4e21b",
   "metadata": {},
   "outputs": [
    {
     "data": {
      "text/plain": [
       "[array([54, 57]), array([74, 77]), array([77, 19]), array([93, 31])]"
      ]
     },
     "execution_count": 47,
     "metadata": {},
     "output_type": "execute_result"
    }
   ],
   "source": [
    "np.split(b, 4 )"
   ]
  },
  {
   "cell_type": "code",
   "execution_count": 48,
   "id": "cec3b943",
   "metadata": {},
   "outputs": [
    {
     "data": {
      "text/plain": [
       "array([54, 57, 74, 77, 77, 19, 93, 31, 46])"
      ]
     },
     "execution_count": 48,
     "metadata": {},
     "output_type": "execute_result"
    }
   ],
   "source": [
    "arr"
   ]
  },
  {
   "cell_type": "code",
   "execution_count": 49,
   "id": "0ccb2fae",
   "metadata": {},
   "outputs": [
    {
     "ename": "ValueError",
     "evalue": "array split does not result in an equal division",
     "output_type": "error",
     "traceback": [
      "\u001b[1;31m---------------------------------------------------------------------------\u001b[0m",
      "\u001b[1;31mValueError\u001b[0m                                Traceback (most recent call last)",
      "Cell \u001b[1;32mIn[49], line 1\u001b[0m\n\u001b[1;32m----> 1\u001b[0m \u001b[43mnp\u001b[49m\u001b[38;5;241;43m.\u001b[39;49m\u001b[43msplit\u001b[49m\u001b[43m(\u001b[49m\u001b[43marr\u001b[49m\u001b[43m,\u001b[49m\u001b[43m \u001b[49m\u001b[38;5;241;43m2\u001b[39;49m\u001b[43m \u001b[49m\u001b[43m)\u001b[49m\n",
      "File \u001b[1;32m<__array_function__ internals>:180\u001b[0m, in \u001b[0;36msplit\u001b[1;34m(*args, **kwargs)\u001b[0m\n",
      "File \u001b[1;32m~\\anaconda3\\lib\\site-packages\\numpy\\lib\\shape_base.py:872\u001b[0m, in \u001b[0;36msplit\u001b[1;34m(ary, indices_or_sections, axis)\u001b[0m\n\u001b[0;32m    870\u001b[0m     N \u001b[38;5;241m=\u001b[39m ary\u001b[38;5;241m.\u001b[39mshape[axis]\n\u001b[0;32m    871\u001b[0m     \u001b[38;5;28;01mif\u001b[39;00m N \u001b[38;5;241m%\u001b[39m sections:\n\u001b[1;32m--> 872\u001b[0m         \u001b[38;5;28;01mraise\u001b[39;00m \u001b[38;5;167;01mValueError\u001b[39;00m(\n\u001b[0;32m    873\u001b[0m             \u001b[38;5;124m'\u001b[39m\u001b[38;5;124marray split does not result in an equal division\u001b[39m\u001b[38;5;124m'\u001b[39m) \u001b[38;5;28;01mfrom\u001b[39;00m \u001b[38;5;28mNone\u001b[39m\n\u001b[0;32m    874\u001b[0m \u001b[38;5;28;01mreturn\u001b[39;00m array_split(ary, indices_or_sections, axis)\n",
      "\u001b[1;31mValueError\u001b[0m: array split does not result in an equal division"
     ]
    }
   ],
   "source": [
    "np.split(arr, 2 )"
   ]
  },
  {
   "cell_type": "code",
   "execution_count": 55,
   "id": "b0a6a9c1",
   "metadata": {},
   "outputs": [
    {
     "data": {
      "text/plain": [
       "[array([54, 57]), array([74, 77, 77, 19]), array([93, 31, 46])]"
      ]
     },
     "execution_count": 55,
     "metadata": {},
     "output_type": "execute_result"
    }
   ],
   "source": [
    "np.split(arr,[2, 6])"
   ]
  },
  {
   "cell_type": "code",
   "execution_count": 56,
   "id": "682e6a66",
   "metadata": {},
   "outputs": [
    {
     "data": {
      "text/plain": [
       "array([[54, 57, 74, 77, 77],\n",
       "       [19, 93, 31, 46, 97],\n",
       "       [80, 98, 98, 22, 68],\n",
       "       [75, 49, 97, 56, 98]])"
      ]
     },
     "execution_count": 56,
     "metadata": {},
     "output_type": "execute_result"
    }
   ],
   "source": [
    "ArrA"
   ]
  },
  {
   "cell_type": "code",
   "execution_count": 57,
   "id": "bb8cdfbd",
   "metadata": {},
   "outputs": [
    {
     "data": {
      "text/plain": [
       "[array([[54, 57, 74, 77, 77],\n",
       "        [19, 93, 31, 46, 97]]),\n",
       " array([[80, 98, 98, 22, 68],\n",
       "        [75, 49, 97, 56, 98]])]"
      ]
     },
     "execution_count": 57,
     "metadata": {},
     "output_type": "execute_result"
    }
   ],
   "source": [
    "np.split(ArrA, 2)"
   ]
  },
  {
   "cell_type": "code",
   "execution_count": 63,
   "id": "b896b01a",
   "metadata": {
    "collapsed": true
   },
   "outputs": [
    {
     "ename": "ValueError",
     "evalue": "array split does not result in an equal division",
     "output_type": "error",
     "traceback": [
      "\u001b[1;31m---------------------------------------------------------------------------\u001b[0m",
      "\u001b[1;31mValueError\u001b[0m                                Traceback (most recent call last)",
      "Cell \u001b[1;32mIn[63], line 1\u001b[0m\n\u001b[1;32m----> 1\u001b[0m \u001b[43mnp\u001b[49m\u001b[38;5;241;43m.\u001b[39;49m\u001b[43msplit\u001b[49m\u001b[43m(\u001b[49m\u001b[43mArrA\u001b[49m\u001b[43m,\u001b[49m\u001b[43m \u001b[49m\u001b[38;5;241;43m2\u001b[39;49m\u001b[43m,\u001b[49m\u001b[43m \u001b[49m\u001b[43maxis\u001b[49m\u001b[38;5;241;43m=\u001b[39;49m\u001b[38;5;241;43m1\u001b[39;49m\u001b[43m)\u001b[49m\n",
      "File \u001b[1;32m<__array_function__ internals>:180\u001b[0m, in \u001b[0;36msplit\u001b[1;34m(*args, **kwargs)\u001b[0m\n",
      "File \u001b[1;32m~\\anaconda3\\lib\\site-packages\\numpy\\lib\\shape_base.py:872\u001b[0m, in \u001b[0;36msplit\u001b[1;34m(ary, indices_or_sections, axis)\u001b[0m\n\u001b[0;32m    870\u001b[0m     N \u001b[38;5;241m=\u001b[39m ary\u001b[38;5;241m.\u001b[39mshape[axis]\n\u001b[0;32m    871\u001b[0m     \u001b[38;5;28;01mif\u001b[39;00m N \u001b[38;5;241m%\u001b[39m sections:\n\u001b[1;32m--> 872\u001b[0m         \u001b[38;5;28;01mraise\u001b[39;00m \u001b[38;5;167;01mValueError\u001b[39;00m(\n\u001b[0;32m    873\u001b[0m             \u001b[38;5;124m'\u001b[39m\u001b[38;5;124marray split does not result in an equal division\u001b[39m\u001b[38;5;124m'\u001b[39m) \u001b[38;5;28;01mfrom\u001b[39;00m \u001b[38;5;28mNone\u001b[39m\n\u001b[0;32m    874\u001b[0m \u001b[38;5;28;01mreturn\u001b[39;00m array_split(ary, indices_or_sections, axis)\n",
      "\u001b[1;31mValueError\u001b[0m: array split does not result in an equal division"
     ]
    }
   ],
   "source": [
    "np.split(ArrA, 2, axis=1)"
   ]
  },
  {
   "cell_type": "code",
   "execution_count": 62,
   "id": "d90a9bd1",
   "metadata": {},
   "outputs": [
    {
     "data": {
      "text/plain": [
       "[array([[54, 57, 74, 77, 77],\n",
       "        [19, 93, 31, 46, 97],\n",
       "        [80, 98, 98, 22, 68],\n",
       "        [75, 49, 97, 56, 98]])]"
      ]
     },
     "execution_count": 62,
     "metadata": {},
     "output_type": "execute_result"
    }
   ],
   "source": [
    "np.split(ArrA, 1, axis=1)"
   ]
  },
  {
   "cell_type": "code",
   "execution_count": 61,
   "id": "90c2e90c",
   "metadata": {},
   "outputs": [
    {
     "data": {
      "text/plain": [
       "[array([[54],\n",
       "        [19],\n",
       "        [80],\n",
       "        [75]]),\n",
       " array([[57],\n",
       "        [93],\n",
       "        [98],\n",
       "        [49]]),\n",
       " array([[74],\n",
       "        [31],\n",
       "        [98],\n",
       "        [97]]),\n",
       " array([[77],\n",
       "        [46],\n",
       "        [22],\n",
       "        [56]]),\n",
       " array([[77],\n",
       "        [97],\n",
       "        [68],\n",
       "        [98]])]"
      ]
     },
     "execution_count": 61,
     "metadata": {},
     "output_type": "execute_result"
    }
   ],
   "source": [
    "np.split(ArrA, 5, axis=1)"
   ]
  },
  {
   "cell_type": "code",
   "execution_count": 64,
   "id": "cc291d47",
   "metadata": {},
   "outputs": [
    {
     "data": {
      "text/plain": [
       "array([[54, 57, 74, 77, 77],\n",
       "       [19, 93, 31, 46, 97],\n",
       "       [80, 98, 98, 22, 68],\n",
       "       [75, 49, 97, 56, 98]])"
      ]
     },
     "execution_count": 64,
     "metadata": {},
     "output_type": "execute_result"
    }
   ],
   "source": [
    "ArrA"
   ]
  },
  {
   "cell_type": "code",
   "execution_count": 77,
   "id": "4f93a6d4",
   "metadata": {},
   "outputs": [
    {
     "data": {
      "text/plain": [
       "[array([[54, 57, 74, 77, 77],\n",
       "        [19, 93, 31, 46, 97]]),\n",
       " array([[80, 98, 98, 22, 68]]),\n",
       " array([[75, 49, 97, 56, 98]])]"
      ]
     },
     "execution_count": 77,
     "metadata": {},
     "output_type": "execute_result"
    }
   ],
   "source": [
    "np.split(ArrA, [2,3], axis=0)"
   ]
  },
  {
   "cell_type": "code",
   "execution_count": 78,
   "id": "527205e3",
   "metadata": {},
   "outputs": [
    {
     "data": {
      "text/plain": [
       "[array([[54, 57],\n",
       "        [19, 93],\n",
       "        [80, 98],\n",
       "        [75, 49]]),\n",
       " array([[74],\n",
       "        [31],\n",
       "        [98],\n",
       "        [97]]),\n",
       " array([[77, 77],\n",
       "        [46, 97],\n",
       "        [22, 68],\n",
       "        [56, 98]])]"
      ]
     },
     "execution_count": 78,
     "metadata": {},
     "output_type": "execute_result"
    }
   ],
   "source": [
    "np.split(ArrA, [2,3], axis=1)"
   ]
  },
  {
   "cell_type": "code",
   "execution_count": null,
   "id": "21ef89e3",
   "metadata": {},
   "outputs": [],
   "source": []
  },
  {
   "cell_type": "code",
   "execution_count": 79,
   "id": "65160947",
   "metadata": {},
   "outputs": [
    {
     "data": {
      "text/plain": [
       "array([[54, 57, 74, 77, 77],\n",
       "       [19, 93, 31, 46, 97],\n",
       "       [80, 98, 98, 22, 68],\n",
       "       [75, 49, 97, 56, 98]])"
      ]
     },
     "execution_count": 79,
     "metadata": {},
     "output_type": "execute_result"
    }
   ],
   "source": [
    "import numpy as np\n",
    "np.random.seed(0)\n",
    "Arr = np.random.randint(low = 10, high=100, size = 20)\n",
    "ArrA = Arr.reshape(4,5)\n",
    "ArrA"
   ]
  },
  {
   "cell_type": "code",
   "execution_count": 80,
   "id": "858c2fb4",
   "metadata": {},
   "outputs": [
    {
     "data": {
      "text/plain": [
       "array([54, 57, 74, 77, 77, 19, 93, 31, 46, 97, 80, 98, 98, 22, 68, 75, 49,\n",
       "       97, 56, 98])"
      ]
     },
     "execution_count": 80,
     "metadata": {},
     "output_type": "execute_result"
    }
   ],
   "source": [
    "Arr"
   ]
  },
  {
   "cell_type": "code",
   "execution_count": 81,
   "id": "edcd624e",
   "metadata": {
    "collapsed": true
   },
   "outputs": [
    {
     "name": "stdout",
     "output_type": "stream",
     "text": [
      "54\n",
      "57\n",
      "74\n",
      "77\n",
      "77\n",
      "19\n",
      "93\n",
      "31\n",
      "46\n",
      "97\n",
      "80\n",
      "98\n",
      "98\n",
      "22\n",
      "68\n",
      "75\n",
      "49\n",
      "97\n",
      "56\n",
      "98\n"
     ]
    }
   ],
   "source": [
    "for i in Arr:\n",
    "    print(i)"
   ]
  },
  {
   "cell_type": "code",
   "execution_count": 84,
   "id": "c3f059a6",
   "metadata": {
    "collapsed": true
   },
   "outputs": [
    {
     "name": "stdout",
     "output_type": "stream",
     "text": [
      "54\n",
      "57\n",
      "74\n",
      "77\n",
      "77\n",
      "19\n",
      "93\n",
      "31\n",
      "46\n",
      "97\n",
      "80\n",
      "98\n",
      "98\n",
      "22\n",
      "68\n",
      "75\n",
      "49\n",
      "97\n",
      "56\n",
      "98\n"
     ]
    }
   ],
   "source": [
    "for i in ArrA:\n",
    "    for j in i:\n",
    "        print(j)"
   ]
  },
  {
   "cell_type": "code",
   "execution_count": 85,
   "id": "0e6a36f8",
   "metadata": {
    "collapsed": true
   },
   "outputs": [
    {
     "name": "stdout",
     "output_type": "stream",
     "text": [
      "54\n",
      "57\n",
      "74\n",
      "77\n",
      "77\n",
      "19\n",
      "93\n",
      "31\n",
      "46\n",
      "97\n",
      "80\n",
      "98\n",
      "98\n",
      "22\n",
      "68\n",
      "75\n",
      "49\n",
      "97\n",
      "56\n",
      "98\n"
     ]
    }
   ],
   "source": [
    "for i in np.nditer(ArrA):\n",
    "    print(i)"
   ]
  },
  {
   "cell_type": "code",
   "execution_count": 86,
   "id": "068525a0",
   "metadata": {},
   "outputs": [
    {
     "data": {
      "text/plain": [
       "array([[100,  57,  74,  77,  77],\n",
       "       [ 19,  93,  31,  46,  97],\n",
       "       [ 80,  98,  98,  22,  68],\n",
       "       [ 75,  49,  97,  56,  98]])"
      ]
     },
     "execution_count": 86,
     "metadata": {},
     "output_type": "execute_result"
    }
   ],
   "source": [
    "ArrA[0,0] = 100\n",
    "ArrA"
   ]
  },
  {
   "cell_type": "code",
   "execution_count": null,
   "id": "5eab566c",
   "metadata": {},
   "outputs": [],
   "source": []
  },
  {
   "cell_type": "code",
   "execution_count": 2,
   "id": "2ab3b327",
   "metadata": {},
   "outputs": [
    {
     "data": {
      "text/plain": [
       "[12, 24, 18, 92]"
      ]
     },
     "execution_count": 2,
     "metadata": {},
     "output_type": "execute_result"
    }
   ],
   "source": [
    "import pandas as pd\n",
    "ages = [12,24,18,92]\n",
    "ages"
   ]
  },
  {
   "cell_type": "code",
   "execution_count": 3,
   "id": "ac3fec6a",
   "metadata": {},
   "outputs": [
    {
     "data": {
      "text/plain": [
       "0    12\n",
       "1    24\n",
       "2    18\n",
       "3    92\n",
       "dtype: int64"
      ]
     },
     "execution_count": 3,
     "metadata": {},
     "output_type": "execute_result"
    }
   ],
   "source": [
    "import pandas as pd\n",
    "ages = [12,24,18,92]\n",
    "pd.Series(ages)"
   ]
  },
  {
   "cell_type": "code",
   "execution_count": 8,
   "id": "45a28b75",
   "metadata": {},
   "outputs": [
    {
     "data": {
      "text/plain": [
       "A    12\n",
       "B    24\n",
       "C    18\n",
       "D    92\n",
       "dtype: int64"
      ]
     },
     "execution_count": 8,
     "metadata": {},
     "output_type": "execute_result"
    }
   ],
   "source": [
    "ages1 = [12,24,18,92]\n",
    "pd.Series(ages, index = [\"A\",\"B\",\"C\", \"D\"] )"
   ]
  },
  {
   "cell_type": "code",
   "execution_count": 9,
   "id": "5d57f9cb",
   "metadata": {},
   "outputs": [
    {
     "data": {
      "text/plain": [
       "101    12\n",
       "102    24\n",
       "103    18\n",
       "104    92\n",
       "dtype: int64"
      ]
     },
     "execution_count": 9,
     "metadata": {},
     "output_type": "execute_result"
    }
   ],
   "source": [
    "ages2 = [12,24,18,92]\n",
    "pd.Series(ages, index = [101, 102, 103, 104] )"
   ]
  },
  {
   "cell_type": "code",
   "execution_count": 10,
   "id": "1504bd67",
   "metadata": {},
   "outputs": [
    {
     "data": {
      "text/plain": [
       "101    12\n",
       "102    24\n",
       "103    18\n",
       "104    92\n",
       "dtype: int64"
      ]
     },
     "execution_count": 10,
     "metadata": {},
     "output_type": "execute_result"
    }
   ],
   "source": [
    "ages3 = (12,24,18,92)\n",
    "pd.Series(ages, index = [101, 102, 103, 104] )"
   ]
  },
  {
   "cell_type": "code",
   "execution_count": 20,
   "id": "412ccebb",
   "metadata": {},
   "outputs": [
    {
     "data": {
      "text/plain": [
       "tuple"
      ]
     },
     "execution_count": 20,
     "metadata": {},
     "output_type": "execute_result"
    }
   ],
   "source": [
    "type(ages)"
   ]
  },
  {
   "cell_type": "code",
   "execution_count": 17,
   "id": "f8f37955",
   "metadata": {},
   "outputs": [
    {
     "data": {
      "text/plain": [
       "A    12\n",
       "B    24\n",
       "C    18\n",
       "D    92\n",
       "dtype: int32"
      ]
     },
     "execution_count": 17,
     "metadata": {},
     "output_type": "execute_result"
    }
   ],
   "source": [
    "import numpy as np\n",
    "age4 = np.array([12,24,18,92])\n",
    "pd.Series(age4, index = [\"A\",\"B\",\"C\", \"D\"] )"
   ]
  },
  {
   "cell_type": "code",
   "execution_count": 93,
   "id": "a59474f7",
   "metadata": {},
   "outputs": [
    {
     "data": {
      "text/plain": [
       "A    12\n",
       "B    24\n",
       "C    18\n",
       "D    92\n",
       "dtype: int64"
      ]
     },
     "execution_count": 93,
     "metadata": {},
     "output_type": "execute_result"
    }
   ],
   "source": [
    "ages = {\"A\" : 12, \"B\" : 24, \"C\" : 18, \"D\" : 92}\n",
    "s = pd.Series(ages )\n",
    "s"
   ]
  },
  {
   "cell_type": "code",
   "execution_count": 94,
   "id": "f0512745",
   "metadata": {},
   "outputs": [
    {
     "data": {
      "text/plain": [
       "18"
      ]
     },
     "execution_count": 94,
     "metadata": {},
     "output_type": "execute_result"
    }
   ],
   "source": [
    "s[\"C\"]"
   ]
  },
  {
   "cell_type": "code",
   "execution_count": 95,
   "id": "28eb329e",
   "metadata": {},
   "outputs": [
    {
     "data": {
      "text/plain": [
       "0    12\n",
       "1    24\n",
       "2    18\n",
       "3    92\n",
       "dtype: int64"
      ]
     },
     "execution_count": 95,
     "metadata": {},
     "output_type": "execute_result"
    }
   ],
   "source": [
    "ages = [12,24,18,92]\n",
    "s1 = pd.Series(ages )\n",
    "s1"
   ]
  },
  {
   "cell_type": "code",
   "execution_count": 96,
   "id": "0f45b150",
   "metadata": {},
   "outputs": [
    {
     "data": {
      "text/plain": [
       "18"
      ]
     },
     "execution_count": 96,
     "metadata": {},
     "output_type": "execute_result"
    }
   ],
   "source": [
    "s1[2]"
   ]
  },
  {
   "cell_type": "code",
   "execution_count": 97,
   "id": "51962eee",
   "metadata": {},
   "outputs": [
    {
     "data": {
      "text/plain": [
       "M    12\n",
       "M    24\n",
       "F    18\n",
       "F    92\n",
       "dtype: int64"
      ]
     },
     "execution_count": 97,
     "metadata": {},
     "output_type": "execute_result"
    }
   ],
   "source": [
    "ages = [12,24,18,92]\n",
    "s1 = pd.Series(ages, index = [\"M\" ,\"M\",\"F\", \"F\"] )\n",
    "s1"
   ]
  },
  {
   "cell_type": "code",
   "execution_count": 98,
   "id": "1ff8934f",
   "metadata": {},
   "outputs": [
    {
     "data": {
      "text/plain": [
       "F    18\n",
       "F    92\n",
       "dtype: int64"
      ]
     },
     "execution_count": 98,
     "metadata": {},
     "output_type": "execute_result"
    }
   ],
   "source": [
    "s1[\"F\"]"
   ]
  },
  {
   "cell_type": "code",
   "execution_count": 99,
   "id": "86d4c17f",
   "metadata": {},
   "outputs": [
    {
     "data": {
      "text/plain": [
       "Index(['M', 'M', 'F', 'F'], dtype='object')"
      ]
     },
     "execution_count": 99,
     "metadata": {},
     "output_type": "execute_result"
    }
   ],
   "source": [
    "s1.index"
   ]
  },
  {
   "cell_type": "code",
   "execution_count": 100,
   "id": "048789f6",
   "metadata": {},
   "outputs": [
    {
     "data": {
      "text/plain": [
       "Index(['A', 'B', 'C', 'D'], dtype='object')"
      ]
     },
     "execution_count": 100,
     "metadata": {},
     "output_type": "execute_result"
    }
   ],
   "source": [
    "s.index"
   ]
  },
  {
   "cell_type": "code",
   "execution_count": 101,
   "id": "c3a4d43c",
   "metadata": {},
   "outputs": [
    {
     "data": {
      "text/plain": [
       "array([12, 24, 18, 92], dtype=int64)"
      ]
     },
     "execution_count": 101,
     "metadata": {},
     "output_type": "execute_result"
    }
   ],
   "source": [
    "s1.values"
   ]
  },
  {
   "cell_type": "code",
   "execution_count": 102,
   "id": "d4b84e33",
   "metadata": {},
   "outputs": [
    {
     "data": {
      "text/plain": [
       "0    12\n",
       "1    24\n",
       "2    18\n",
       "3    92\n",
       "dtype: int64"
      ]
     },
     "execution_count": 102,
     "metadata": {},
     "output_type": "execute_result"
    }
   ],
   "source": [
    "ages = [12,24,18,92]\n",
    "s1 = pd.Series(ages )\n",
    "s1"
   ]
  },
  {
   "cell_type": "code",
   "execution_count": 103,
   "id": "9f921289",
   "metadata": {},
   "outputs": [
    {
     "data": {
      "text/plain": [
       "0    12\n",
       "1    24\n",
       "dtype: int64"
      ]
     },
     "execution_count": 103,
     "metadata": {},
     "output_type": "execute_result"
    }
   ],
   "source": [
    "s1[0 : 2]"
   ]
  },
  {
   "cell_type": "code",
   "execution_count": 104,
   "id": "a4ac8aa0",
   "metadata": {},
   "outputs": [
    {
     "data": {
      "text/plain": [
       "A    12\n",
       "C    18\n",
       "dtype: int64"
      ]
     },
     "execution_count": 104,
     "metadata": {},
     "output_type": "execute_result"
    }
   ],
   "source": [
    "s[\"A\" : \"C\" : 2]"
   ]
  },
  {
   "cell_type": "code",
   "execution_count": 105,
   "id": "82839b72",
   "metadata": {},
   "outputs": [
    {
     "data": {
      "text/plain": [
       "A    False\n",
       "B     True\n",
       "C    False\n",
       "D     True\n",
       "dtype: bool"
      ]
     },
     "execution_count": 105,
     "metadata": {},
     "output_type": "execute_result"
    }
   ],
   "source": [
    "s > 20"
   ]
  },
  {
   "cell_type": "code",
   "execution_count": 106,
   "id": "b6516515",
   "metadata": {},
   "outputs": [
    {
     "data": {
      "text/plain": [
       "B    24\n",
       "D    92\n",
       "dtype: int64"
      ]
     },
     "execution_count": 106,
     "metadata": {},
     "output_type": "execute_result"
    }
   ],
   "source": [
    "s[s > 20]"
   ]
  },
  {
   "cell_type": "code",
   "execution_count": 107,
   "id": "d2d8fec9",
   "metadata": {},
   "outputs": [
    {
     "data": {
      "text/plain": [
       "A    12\n",
       "B    24\n",
       "A    18\n",
       "C    92\n",
       "dtype: int64"
      ]
     },
     "execution_count": 107,
     "metadata": {},
     "output_type": "execute_result"
    }
   ],
   "source": [
    "ages = [12,24,18,92]\n",
    "s1 = pd.Series(ages, index = [\"A\",\"B\",\"A\",\"C\"] )\n",
    "s1"
   ]
  },
  {
   "cell_type": "code",
   "execution_count": 108,
   "id": "88ec5974",
   "metadata": {
    "collapsed": true
   },
   "outputs": [
    {
     "ename": "KeyError",
     "evalue": "\"Cannot get left slice bound for non-unique label: 'A'\"",
     "output_type": "error",
     "traceback": [
      "\u001b[1;31m---------------------------------------------------------------------------\u001b[0m",
      "\u001b[1;31mKeyError\u001b[0m                                  Traceback (most recent call last)",
      "Cell \u001b[1;32mIn[108], line 1\u001b[0m\n\u001b[1;32m----> 1\u001b[0m \u001b[43ms1\u001b[49m\u001b[43m[\u001b[49m\u001b[38;5;124;43m\"\u001b[39;49m\u001b[38;5;124;43mA\u001b[39;49m\u001b[38;5;124;43m\"\u001b[39;49m\u001b[43m \u001b[49m\u001b[43m:\u001b[49m\u001b[43m \u001b[49m\u001b[38;5;124;43m\"\u001b[39;49m\u001b[38;5;124;43mA\u001b[39;49m\u001b[38;5;124;43m\"\u001b[39;49m\u001b[43m]\u001b[49m\n",
      "File \u001b[1;32m~\\anaconda3\\lib\\site-packages\\pandas\\core\\series.py:1007\u001b[0m, in \u001b[0;36mSeries.__getitem__\u001b[1;34m(self, key)\u001b[0m\n\u001b[0;32m   1004\u001b[0m     key \u001b[38;5;241m=\u001b[39m np\u001b[38;5;241m.\u001b[39masarray(key, dtype\u001b[38;5;241m=\u001b[39m\u001b[38;5;28mbool\u001b[39m)\n\u001b[0;32m   1005\u001b[0m     \u001b[38;5;28;01mreturn\u001b[39;00m \u001b[38;5;28mself\u001b[39m\u001b[38;5;241m.\u001b[39m_get_values(key)\n\u001b[1;32m-> 1007\u001b[0m \u001b[38;5;28;01mreturn\u001b[39;00m \u001b[38;5;28;43mself\u001b[39;49m\u001b[38;5;241;43m.\u001b[39;49m\u001b[43m_get_with\u001b[49m\u001b[43m(\u001b[49m\u001b[43mkey\u001b[49m\u001b[43m)\u001b[49m\n",
      "File \u001b[1;32m~\\anaconda3\\lib\\site-packages\\pandas\\core\\series.py:1014\u001b[0m, in \u001b[0;36mSeries._get_with\u001b[1;34m(self, key)\u001b[0m\n\u001b[0;32m   1009\u001b[0m \u001b[38;5;28;01mdef\u001b[39;00m \u001b[38;5;21m_get_with\u001b[39m(\u001b[38;5;28mself\u001b[39m, key):\n\u001b[0;32m   1010\u001b[0m     \u001b[38;5;66;03m# other: fancy integer or otherwise\u001b[39;00m\n\u001b[0;32m   1011\u001b[0m     \u001b[38;5;28;01mif\u001b[39;00m \u001b[38;5;28misinstance\u001b[39m(key, \u001b[38;5;28mslice\u001b[39m):\n\u001b[0;32m   1012\u001b[0m         \u001b[38;5;66;03m# _convert_slice_indexer to determine if this slice is positional\u001b[39;00m\n\u001b[0;32m   1013\u001b[0m         \u001b[38;5;66;03m#  or label based, and if the latter, convert to positional\u001b[39;00m\n\u001b[1;32m-> 1014\u001b[0m         slobj \u001b[38;5;241m=\u001b[39m \u001b[38;5;28;43mself\u001b[39;49m\u001b[38;5;241;43m.\u001b[39;49m\u001b[43mindex\u001b[49m\u001b[38;5;241;43m.\u001b[39;49m\u001b[43m_convert_slice_indexer\u001b[49m\u001b[43m(\u001b[49m\u001b[43mkey\u001b[49m\u001b[43m,\u001b[49m\u001b[43m \u001b[49m\u001b[43mkind\u001b[49m\u001b[38;5;241;43m=\u001b[39;49m\u001b[38;5;124;43m\"\u001b[39;49m\u001b[38;5;124;43mgetitem\u001b[39;49m\u001b[38;5;124;43m\"\u001b[39;49m\u001b[43m)\u001b[49m\n\u001b[0;32m   1015\u001b[0m         \u001b[38;5;28;01mreturn\u001b[39;00m \u001b[38;5;28mself\u001b[39m\u001b[38;5;241m.\u001b[39m_slice(slobj)\n\u001b[0;32m   1016\u001b[0m     \u001b[38;5;28;01melif\u001b[39;00m \u001b[38;5;28misinstance\u001b[39m(key, ABCDataFrame):\n",
      "File \u001b[1;32m~\\anaconda3\\lib\\site-packages\\pandas\\core\\indexes\\base.py:4284\u001b[0m, in \u001b[0;36mIndex._convert_slice_indexer\u001b[1;34m(self, key, kind)\u001b[0m\n\u001b[0;32m   4282\u001b[0m     indexer \u001b[38;5;241m=\u001b[39m key\n\u001b[0;32m   4283\u001b[0m \u001b[38;5;28;01melse\u001b[39;00m:\n\u001b[1;32m-> 4284\u001b[0m     indexer \u001b[38;5;241m=\u001b[39m \u001b[38;5;28;43mself\u001b[39;49m\u001b[38;5;241;43m.\u001b[39;49m\u001b[43mslice_indexer\u001b[49m\u001b[43m(\u001b[49m\u001b[43mstart\u001b[49m\u001b[43m,\u001b[49m\u001b[43m \u001b[49m\u001b[43mstop\u001b[49m\u001b[43m,\u001b[49m\u001b[43m \u001b[49m\u001b[43mstep\u001b[49m\u001b[43m)\u001b[49m\n\u001b[0;32m   4286\u001b[0m \u001b[38;5;28;01mreturn\u001b[39;00m indexer\n",
      "File \u001b[1;32m~\\anaconda3\\lib\\site-packages\\pandas\\core\\indexes\\base.py:6559\u001b[0m, in \u001b[0;36mIndex.slice_indexer\u001b[1;34m(self, start, end, step, kind)\u001b[0m\n\u001b[0;32m   6516\u001b[0m \u001b[38;5;124;03m\"\"\"\u001b[39;00m\n\u001b[0;32m   6517\u001b[0m \u001b[38;5;124;03mCompute the slice indexer for input labels and step.\u001b[39;00m\n\u001b[0;32m   6518\u001b[0m \n\u001b[1;32m   (...)\u001b[0m\n\u001b[0;32m   6555\u001b[0m \u001b[38;5;124;03mslice(1, 3, None)\u001b[39;00m\n\u001b[0;32m   6556\u001b[0m \u001b[38;5;124;03m\"\"\"\u001b[39;00m\n\u001b[0;32m   6557\u001b[0m \u001b[38;5;28mself\u001b[39m\u001b[38;5;241m.\u001b[39m_deprecated_arg(kind, \u001b[38;5;124m\"\u001b[39m\u001b[38;5;124mkind\u001b[39m\u001b[38;5;124m\"\u001b[39m, \u001b[38;5;124m\"\u001b[39m\u001b[38;5;124mslice_indexer\u001b[39m\u001b[38;5;124m\"\u001b[39m)\n\u001b[1;32m-> 6559\u001b[0m start_slice, end_slice \u001b[38;5;241m=\u001b[39m \u001b[38;5;28;43mself\u001b[39;49m\u001b[38;5;241;43m.\u001b[39;49m\u001b[43mslice_locs\u001b[49m\u001b[43m(\u001b[49m\u001b[43mstart\u001b[49m\u001b[43m,\u001b[49m\u001b[43m \u001b[49m\u001b[43mend\u001b[49m\u001b[43m,\u001b[49m\u001b[43m \u001b[49m\u001b[43mstep\u001b[49m\u001b[38;5;241;43m=\u001b[39;49m\u001b[43mstep\u001b[49m\u001b[43m)\u001b[49m\n\u001b[0;32m   6561\u001b[0m \u001b[38;5;66;03m# return a slice\u001b[39;00m\n\u001b[0;32m   6562\u001b[0m \u001b[38;5;28;01mif\u001b[39;00m \u001b[38;5;129;01mnot\u001b[39;00m is_scalar(start_slice):\n",
      "File \u001b[1;32m~\\anaconda3\\lib\\site-packages\\pandas\\core\\indexes\\base.py:6767\u001b[0m, in \u001b[0;36mIndex.slice_locs\u001b[1;34m(self, start, end, step, kind)\u001b[0m\n\u001b[0;32m   6765\u001b[0m start_slice \u001b[38;5;241m=\u001b[39m \u001b[38;5;28;01mNone\u001b[39;00m\n\u001b[0;32m   6766\u001b[0m \u001b[38;5;28;01mif\u001b[39;00m start \u001b[38;5;129;01mis\u001b[39;00m \u001b[38;5;129;01mnot\u001b[39;00m \u001b[38;5;28;01mNone\u001b[39;00m:\n\u001b[1;32m-> 6767\u001b[0m     start_slice \u001b[38;5;241m=\u001b[39m \u001b[38;5;28;43mself\u001b[39;49m\u001b[38;5;241;43m.\u001b[39;49m\u001b[43mget_slice_bound\u001b[49m\u001b[43m(\u001b[49m\u001b[43mstart\u001b[49m\u001b[43m,\u001b[49m\u001b[43m \u001b[49m\u001b[38;5;124;43m\"\u001b[39;49m\u001b[38;5;124;43mleft\u001b[39;49m\u001b[38;5;124;43m\"\u001b[39;49m\u001b[43m)\u001b[49m\n\u001b[0;32m   6768\u001b[0m \u001b[38;5;28;01mif\u001b[39;00m start_slice \u001b[38;5;129;01mis\u001b[39;00m \u001b[38;5;28;01mNone\u001b[39;00m:\n\u001b[0;32m   6769\u001b[0m     start_slice \u001b[38;5;241m=\u001b[39m \u001b[38;5;241m0\u001b[39m\n",
      "File \u001b[1;32m~\\anaconda3\\lib\\site-packages\\pandas\\core\\indexes\\base.py:6694\u001b[0m, in \u001b[0;36mIndex.get_slice_bound\u001b[1;34m(self, label, side, kind)\u001b[0m\n\u001b[0;32m   6692\u001b[0m     slc \u001b[38;5;241m=\u001b[39m lib\u001b[38;5;241m.\u001b[39mmaybe_booleans_to_slice(slc\u001b[38;5;241m.\u001b[39mview(\u001b[38;5;124m\"\u001b[39m\u001b[38;5;124mu1\u001b[39m\u001b[38;5;124m\"\u001b[39m))\n\u001b[0;32m   6693\u001b[0m     \u001b[38;5;28;01mif\u001b[39;00m \u001b[38;5;28misinstance\u001b[39m(slc, np\u001b[38;5;241m.\u001b[39mndarray):\n\u001b[1;32m-> 6694\u001b[0m         \u001b[38;5;28;01mraise\u001b[39;00m \u001b[38;5;167;01mKeyError\u001b[39;00m(\n\u001b[0;32m   6695\u001b[0m             \u001b[38;5;124mf\u001b[39m\u001b[38;5;124m\"\u001b[39m\u001b[38;5;124mCannot get \u001b[39m\u001b[38;5;132;01m{\u001b[39;00mside\u001b[38;5;132;01m}\u001b[39;00m\u001b[38;5;124m slice bound for non-unique \u001b[39m\u001b[38;5;124m\"\u001b[39m\n\u001b[0;32m   6696\u001b[0m             \u001b[38;5;124mf\u001b[39m\u001b[38;5;124m\"\u001b[39m\u001b[38;5;124mlabel: \u001b[39m\u001b[38;5;132;01m{\u001b[39;00m\u001b[38;5;28mrepr\u001b[39m(original_label)\u001b[38;5;132;01m}\u001b[39;00m\u001b[38;5;124m\"\u001b[39m\n\u001b[0;32m   6697\u001b[0m         )\n\u001b[0;32m   6699\u001b[0m \u001b[38;5;28;01mif\u001b[39;00m \u001b[38;5;28misinstance\u001b[39m(slc, \u001b[38;5;28mslice\u001b[39m):\n\u001b[0;32m   6700\u001b[0m     \u001b[38;5;28;01mif\u001b[39;00m side \u001b[38;5;241m==\u001b[39m \u001b[38;5;124m\"\u001b[39m\u001b[38;5;124mleft\u001b[39m\u001b[38;5;124m\"\u001b[39m:\n",
      "\u001b[1;31mKeyError\u001b[0m: \"Cannot get left slice bound for non-unique label: 'A'\""
     ]
    }
   ],
   "source": [
    "s1[\"A\" : \"A\"]"
   ]
  },
  {
   "cell_type": "code",
   "execution_count": 109,
   "id": "46d51cdd",
   "metadata": {},
   "outputs": [
    {
     "data": {
      "text/plain": [
       "A    12\n",
       "B    24\n",
       "A    18\n",
       "dtype: int64"
      ]
     },
     "execution_count": 109,
     "metadata": {},
     "output_type": "execute_result"
    }
   ],
   "source": [
    "s1[0 : 3]  "
   ]
  },
  {
   "cell_type": "code",
   "execution_count": 110,
   "id": "5d0e4992",
   "metadata": {},
   "outputs": [
    {
     "data": {
      "text/plain": [
       "[12, 24, 18, 92]"
      ]
     },
     "execution_count": 110,
     "metadata": {},
     "output_type": "execute_result"
    }
   ],
   "source": [
    "ages"
   ]
  },
  {
   "cell_type": "code",
   "execution_count": null,
   "id": "75eef9f7",
   "metadata": {},
   "outputs": [],
   "source": []
  },
  {
   "cell_type": "code",
   "execution_count": 111,
   "id": "be86ea6a",
   "metadata": {},
   "outputs": [
    {
     "data": {
      "text/plain": [
       "101    12\n",
       "102    24\n",
       "103    18\n",
       "104    92\n",
       "dtype: int64"
      ]
     },
     "execution_count": 111,
     "metadata": {},
     "output_type": "execute_result"
    }
   ],
   "source": [
    "ages = (12,24,18,92)\n",
    "s2 = pd.Series(ages, index = [101, 102, 103, 104] )\n",
    "s2"
   ]
  },
  {
   "cell_type": "code",
   "execution_count": 112,
   "id": "d2490ad9",
   "metadata": {},
   "outputs": [
    {
     "data": {
      "text/plain": [
       "24"
      ]
     },
     "execution_count": 112,
     "metadata": {},
     "output_type": "execute_result"
    }
   ],
   "source": [
    "s2[102]"
   ]
  },
  {
   "cell_type": "code",
   "execution_count": 113,
   "id": "44d2727a",
   "metadata": {},
   "outputs": [
    {
     "data": {
      "text/plain": [
       "Series([], dtype: int64)"
      ]
     },
     "execution_count": 113,
     "metadata": {},
     "output_type": "execute_result"
    }
   ],
   "source": [
    "s2[101  : 103]  # loc, iloc"
   ]
  },
  {
   "cell_type": "code",
   "execution_count": 114,
   "id": "f6313894",
   "metadata": {},
   "outputs": [
    {
     "data": {
      "text/plain": [
       "A    14\n",
       "B    26\n",
       "C    20\n",
       "D    94\n",
       "dtype: int64"
      ]
     },
     "execution_count": 114,
     "metadata": {},
     "output_type": "execute_result"
    }
   ],
   "source": [
    "s + 2"
   ]
  },
  {
   "cell_type": "code",
   "execution_count": null,
   "id": "a53dc306",
   "metadata": {},
   "outputs": [],
   "source": [
    "# DataFrames"
   ]
  },
  {
   "cell_type": "code",
   "execution_count": 22,
   "id": "de0f31fb",
   "metadata": {},
   "outputs": [
    {
     "data": {
      "text/html": [
       "<div>\n",
       "<style scoped>\n",
       "    .dataframe tbody tr th:only-of-type {\n",
       "        vertical-align: middle;\n",
       "    }\n",
       "\n",
       "    .dataframe tbody tr th {\n",
       "        vertical-align: top;\n",
       "    }\n",
       "\n",
       "    .dataframe thead th {\n",
       "        text-align: right;\n",
       "    }\n",
       "</style>\n",
       "<table border=\"1\" class=\"dataframe\">\n",
       "  <thead>\n",
       "    <tr style=\"text-align: right;\">\n",
       "      <th></th>\n",
       "      <th>0</th>\n",
       "      <th>1</th>\n",
       "      <th>2</th>\n",
       "    </tr>\n",
       "  </thead>\n",
       "  <tbody>\n",
       "    <tr>\n",
       "      <th>A</th>\n",
       "      <td>S101</td>\n",
       "      <td>45</td>\n",
       "      <td>BLR</td>\n",
       "    </tr>\n",
       "    <tr>\n",
       "      <th>B</th>\n",
       "      <td>S102</td>\n",
       "      <td>32</td>\n",
       "      <td>CHN</td>\n",
       "    </tr>\n",
       "  </tbody>\n",
       "</table>\n",
       "</div>"
      ],
      "text/plain": [
       "      0   1    2\n",
       "A  S101  45  BLR\n",
       "B  S102  32  CHN"
      ]
     },
     "execution_count": 22,
     "metadata": {},
     "output_type": "execute_result"
    }
   ],
   "source": [
    "stud_data = [[\"S101\", 45, \"BLR\"],\n",
    "            [\"S102\", 32, \"CHN\"]]\n",
    "pd.DataFrame(stud_data, index = [\"A\",\"B\"])"
   ]
  },
  {
   "cell_type": "code",
   "execution_count": 116,
   "id": "f9241b94",
   "metadata": {},
   "outputs": [
    {
     "data": {
      "text/html": [
       "<div>\n",
       "<style scoped>\n",
       "    .dataframe tbody tr th:only-of-type {\n",
       "        vertical-align: middle;\n",
       "    }\n",
       "\n",
       "    .dataframe tbody tr th {\n",
       "        vertical-align: top;\n",
       "    }\n",
       "\n",
       "    .dataframe thead th {\n",
       "        text-align: right;\n",
       "    }\n",
       "</style>\n",
       "<table border=\"1\" class=\"dataframe\">\n",
       "  <thead>\n",
       "    <tr style=\"text-align: right;\">\n",
       "      <th></th>\n",
       "      <th>SID</th>\n",
       "      <th>Marks</th>\n",
       "      <th>City</th>\n",
       "    </tr>\n",
       "  </thead>\n",
       "  <tbody>\n",
       "    <tr>\n",
       "      <th>0</th>\n",
       "      <td>S101</td>\n",
       "      <td>45</td>\n",
       "      <td>BLR</td>\n",
       "    </tr>\n",
       "    <tr>\n",
       "      <th>1</th>\n",
       "      <td>S102</td>\n",
       "      <td>32</td>\n",
       "      <td>CHN</td>\n",
       "    </tr>\n",
       "  </tbody>\n",
       "</table>\n",
       "</div>"
      ],
      "text/plain": [
       "    SID  Marks City\n",
       "0  S101     45  BLR\n",
       "1  S102     32  CHN"
      ]
     },
     "execution_count": 116,
     "metadata": {},
     "output_type": "execute_result"
    }
   ],
   "source": [
    "stud_data = [  [\"S101\", 45, \"BLR\"],\n",
    "            [\"S102\", 32, \"CHN\"]]\n",
    "pd.DataFrame(stud_data, \n",
    "             columns = [\"SID\",\"Marks\",\"City\"] )"
   ]
  },
  {
   "cell_type": "code",
   "execution_count": 117,
   "id": "d084c3e5",
   "metadata": {},
   "outputs": [
    {
     "data": {
      "text/html": [
       "<div>\n",
       "<style scoped>\n",
       "    .dataframe tbody tr th:only-of-type {\n",
       "        vertical-align: middle;\n",
       "    }\n",
       "\n",
       "    .dataframe tbody tr th {\n",
       "        vertical-align: top;\n",
       "    }\n",
       "\n",
       "    .dataframe thead th {\n",
       "        text-align: right;\n",
       "    }\n",
       "</style>\n",
       "<table border=\"1\" class=\"dataframe\">\n",
       "  <thead>\n",
       "    <tr style=\"text-align: right;\">\n",
       "      <th></th>\n",
       "      <th>col1</th>\n",
       "      <th>col2</th>\n",
       "      <th>col3</th>\n",
       "      <th>col4</th>\n",
       "      <th>col5</th>\n",
       "    </tr>\n",
       "  </thead>\n",
       "  <tbody>\n",
       "    <tr>\n",
       "      <th>0</th>\n",
       "      <td>91</td>\n",
       "      <td>47</td>\n",
       "      <td>35</td>\n",
       "      <td>87</td>\n",
       "      <td>82</td>\n",
       "    </tr>\n",
       "    <tr>\n",
       "      <th>1</th>\n",
       "      <td>19</td>\n",
       "      <td>30</td>\n",
       "      <td>90</td>\n",
       "      <td>79</td>\n",
       "      <td>89</td>\n",
       "    </tr>\n",
       "    <tr>\n",
       "      <th>2</th>\n",
       "      <td>57</td>\n",
       "      <td>74</td>\n",
       "      <td>92</td>\n",
       "      <td>98</td>\n",
       "      <td>59</td>\n",
       "    </tr>\n",
       "    <tr>\n",
       "      <th>3</th>\n",
       "      <td>39</td>\n",
       "      <td>29</td>\n",
       "      <td>29</td>\n",
       "      <td>24</td>\n",
       "      <td>49</td>\n",
       "    </tr>\n",
       "    <tr>\n",
       "      <th>4</th>\n",
       "      <td>42</td>\n",
       "      <td>75</td>\n",
       "      <td>19</td>\n",
       "      <td>67</td>\n",
       "      <td>42</td>\n",
       "    </tr>\n",
       "  </tbody>\n",
       "</table>\n",
       "</div>"
      ],
      "text/plain": [
       "   col1  col2  col3  col4  col5\n",
       "0    91    47    35    87    82\n",
       "1    19    30    90    79    89\n",
       "2    57    74    92    98    59\n",
       "3    39    29    29    24    49\n",
       "4    42    75    19    67    42"
      ]
     },
     "execution_count": 117,
     "metadata": {},
     "output_type": "execute_result"
    }
   ],
   "source": [
    "stud_data = np.random.randint(10,100, 25).reshape(5,5)\n",
    "pd.DataFrame(stud_data, \n",
    "             columns = [\"col1\", \"col2\",\"col3\",\"col4\",\"col5\"])"
   ]
  },
  {
   "cell_type": "code",
   "execution_count": 23,
   "id": "0dd5b3b0",
   "metadata": {},
   "outputs": [
    {
     "data": {
      "text/html": [
       "<div>\n",
       "<style scoped>\n",
       "    .dataframe tbody tr th:only-of-type {\n",
       "        vertical-align: middle;\n",
       "    }\n",
       "\n",
       "    .dataframe tbody tr th {\n",
       "        vertical-align: top;\n",
       "    }\n",
       "\n",
       "    .dataframe thead th {\n",
       "        text-align: right;\n",
       "    }\n",
       "</style>\n",
       "<table border=\"1\" class=\"dataframe\">\n",
       "  <thead>\n",
       "    <tr style=\"text-align: right;\">\n",
       "      <th></th>\n",
       "      <th>SID</th>\n",
       "      <th>Marks</th>\n",
       "      <th>city</th>\n",
       "    </tr>\n",
       "  </thead>\n",
       "  <tbody>\n",
       "    <tr>\n",
       "      <th>1</th>\n",
       "      <td>S101</td>\n",
       "      <td>32</td>\n",
       "      <td>BLR</td>\n",
       "    </tr>\n",
       "    <tr>\n",
       "      <th>2</th>\n",
       "      <td>S102</td>\n",
       "      <td>45</td>\n",
       "      <td>CHN</td>\n",
       "    </tr>\n",
       "    <tr>\n",
       "      <th>3</th>\n",
       "      <td>S103</td>\n",
       "      <td>18</td>\n",
       "      <td>MUM</td>\n",
       "    </tr>\n",
       "    <tr>\n",
       "      <th>4</th>\n",
       "      <td>S104</td>\n",
       "      <td>22</td>\n",
       "      <td>CHN</td>\n",
       "    </tr>\n",
       "  </tbody>\n",
       "</table>\n",
       "</div>"
      ],
      "text/plain": [
       "    SID  Marks city\n",
       "1  S101     32  BLR\n",
       "2  S102     45  CHN\n",
       "3  S103     18  MUM\n",
       "4  S104     22  CHN"
      ]
     },
     "execution_count": 23,
     "metadata": {},
     "output_type": "execute_result"
    }
   ],
   "source": [
    "d = {\"SID\"    :   [\"S101\",\"S102\",\"S103\",\"S104\"],\n",
    "    \"Marks\" : [32,45,18,22],\n",
    "    \"city\" : [\"BLR\",\"CHN\",\"MUM\",\"CHN\"]}\n",
    "pd.DataFrame(d, index=['1','2','3','4'])"
   ]
  },
  {
   "cell_type": "code",
   "execution_count": 119,
   "id": "05d7beee",
   "metadata": {},
   "outputs": [
    {
     "data": {
      "text/html": [
       "<div>\n",
       "<style scoped>\n",
       "    .dataframe tbody tr th:only-of-type {\n",
       "        vertical-align: middle;\n",
       "    }\n",
       "\n",
       "    .dataframe tbody tr th {\n",
       "        vertical-align: top;\n",
       "    }\n",
       "\n",
       "    .dataframe thead th {\n",
       "        text-align: right;\n",
       "    }\n",
       "</style>\n",
       "<table border=\"1\" class=\"dataframe\">\n",
       "  <thead>\n",
       "    <tr style=\"text-align: right;\">\n",
       "      <th></th>\n",
       "      <th>SID</th>\n",
       "      <th>Marks</th>\n",
       "      <th>city</th>\n",
       "    </tr>\n",
       "  </thead>\n",
       "  <tbody>\n",
       "    <tr>\n",
       "      <th>0</th>\n",
       "      <td>S101</td>\n",
       "      <td>32</td>\n",
       "      <td>BLR</td>\n",
       "    </tr>\n",
       "    <tr>\n",
       "      <th>1</th>\n",
       "      <td>S102</td>\n",
       "      <td>45</td>\n",
       "      <td>CHN</td>\n",
       "    </tr>\n",
       "    <tr>\n",
       "      <th>2</th>\n",
       "      <td>S103</td>\n",
       "      <td>18</td>\n",
       "      <td>MUM</td>\n",
       "    </tr>\n",
       "    <tr>\n",
       "      <th>3</th>\n",
       "      <td>S104</td>\n",
       "      <td>22</td>\n",
       "      <td>CHN</td>\n",
       "    </tr>\n",
       "  </tbody>\n",
       "</table>\n",
       "</div>"
      ],
      "text/plain": [
       "    SID  Marks city\n",
       "0  S101     32  BLR\n",
       "1  S102     45  CHN\n",
       "2  S103     18  MUM\n",
       "3  S104     22  CHN"
      ]
     },
     "execution_count": 119,
     "metadata": {},
     "output_type": "execute_result"
    }
   ],
   "source": [
    "d = {\"SID\"    :   [\"S101\",\"S102\",\"S103\",\"S104\"],\n",
    "    \"Marks\" : [32,45,18, 22],\n",
    "    \"city\" : [\"BLR\",\"CHN\",\"MUM\",\"CHN\"]}\n",
    "df = pd.DataFrame(d)\n",
    "df"
   ]
  },
  {
   "cell_type": "code",
   "execution_count": 120,
   "id": "5dae9c57",
   "metadata": {},
   "outputs": [],
   "source": [
    "df.to_csv(\"stud_data.csv\")"
   ]
  },
  {
   "cell_type": "code",
   "execution_count": 25,
   "id": "ca11bf51",
   "metadata": {},
   "outputs": [
    {
     "data": {
      "text/html": [
       "<div>\n",
       "<style scoped>\n",
       "    .dataframe tbody tr th:only-of-type {\n",
       "        vertical-align: middle;\n",
       "    }\n",
       "\n",
       "    .dataframe tbody tr th {\n",
       "        vertical-align: top;\n",
       "    }\n",
       "\n",
       "    .dataframe thead th {\n",
       "        text-align: right;\n",
       "    }\n",
       "</style>\n",
       "<table border=\"1\" class=\"dataframe\">\n",
       "  <thead>\n",
       "    <tr style=\"text-align: right;\">\n",
       "      <th></th>\n",
       "      <th>S@ID</th>\n",
       "      <th>Marks</th>\n",
       "      <th>city</th>\n",
       "      <th>course</th>\n",
       "    </tr>\n",
       "  </thead>\n",
       "  <tbody>\n",
       "    <tr>\n",
       "      <th>0</th>\n",
       "      <td>S101</td>\n",
       "      <td>32</td>\n",
       "      <td>BLR</td>\n",
       "      <td>DSE</td>\n",
       "    </tr>\n",
       "    <tr>\n",
       "      <th>1</th>\n",
       "      <td>S102</td>\n",
       "      <td>45</td>\n",
       "      <td>CHN</td>\n",
       "      <td>DSE</td>\n",
       "    </tr>\n",
       "    <tr>\n",
       "      <th>2</th>\n",
       "      <td>S103</td>\n",
       "      <td>18</td>\n",
       "      <td>MUM</td>\n",
       "      <td>DSE</td>\n",
       "    </tr>\n",
       "    <tr>\n",
       "      <th>3</th>\n",
       "      <td>S104</td>\n",
       "      <td>22</td>\n",
       "      <td>CHN</td>\n",
       "      <td>DSE</td>\n",
       "    </tr>\n",
       "  </tbody>\n",
       "</table>\n",
       "</div>"
      ],
      "text/plain": [
       "   S@ID  Marks city course\n",
       "0  S101     32  BLR    DSE\n",
       "1  S102     45  CHN    DSE\n",
       "2  S103     18  MUM    DSE\n",
       "3  S104     22  CHN    DSE"
      ]
     },
     "execution_count": 25,
     "metadata": {},
     "output_type": "execute_result"
    }
   ],
   "source": [
    "d = {\"S@ID\"    :   [\"S101\",\"S102\",\"S103\",\"S104\"],\n",
    "    \"Marks\" : (32,45,18, 22),\n",
    "    \"city\" : [\"BLR\",\"CHN\",\"MUM\",\"CHN\"],\n",
    "    \"course\" : \"DSE\"}\n",
    "df = pd.DataFrame(d)\n",
    "df"
   ]
  },
  {
   "cell_type": "code",
   "execution_count": 26,
   "id": "38267309",
   "metadata": {},
   "outputs": [
    {
     "data": {
      "text/plain": [
       "RangeIndex(start=0, stop=4, step=1)"
      ]
     },
     "execution_count": 26,
     "metadata": {},
     "output_type": "execute_result"
    }
   ],
   "source": [
    "df.index"
   ]
  },
  {
   "cell_type": "code",
   "execution_count": 27,
   "id": "edccc96f",
   "metadata": {},
   "outputs": [
    {
     "data": {
      "text/plain": [
       "array([['S101', 32, 'BLR', 'DSE'],\n",
       "       ['S102', 45, 'CHN', 'DSE'],\n",
       "       ['S103', 18, 'MUM', 'DSE'],\n",
       "       ['S104', 22, 'CHN', 'DSE']], dtype=object)"
      ]
     },
     "execution_count": 27,
     "metadata": {},
     "output_type": "execute_result"
    }
   ],
   "source": [
    "df.values"
   ]
  },
  {
   "cell_type": "code",
   "execution_count": 30,
   "id": "b2d09f9b",
   "metadata": {
    "collapsed": true
   },
   "outputs": [
    {
     "ename": "KeyError",
     "evalue": "\"None of ['SID'] are in the columns\"",
     "output_type": "error",
     "traceback": [
      "\u001b[1;31m---------------------------------------------------------------------------\u001b[0m",
      "\u001b[1;31mKeyError\u001b[0m                                  Traceback (most recent call last)",
      "Cell \u001b[1;32mIn[30], line 1\u001b[0m\n\u001b[1;32m----> 1\u001b[0m \u001b[43mdf\u001b[49m\u001b[38;5;241;43m.\u001b[39;49m\u001b[43mset_index\u001b[49m\u001b[43m(\u001b[49m\u001b[38;5;124;43m\"\u001b[39;49m\u001b[38;5;124;43mSID\u001b[39;49m\u001b[38;5;124;43m\"\u001b[39;49m\u001b[43m,\u001b[49m\u001b[43m \u001b[49m\u001b[43minplace\u001b[49m\u001b[38;5;241;43m=\u001b[39;49m\u001b[38;5;28;43;01mTrue\u001b[39;49;00m\u001b[43m)\u001b[49m\n",
      "File \u001b[1;32m~\\anaconda3\\lib\\site-packages\\pandas\\util\\_decorators.py:331\u001b[0m, in \u001b[0;36mdeprecate_nonkeyword_arguments.<locals>.decorate.<locals>.wrapper\u001b[1;34m(*args, **kwargs)\u001b[0m\n\u001b[0;32m    325\u001b[0m \u001b[38;5;28;01mif\u001b[39;00m \u001b[38;5;28mlen\u001b[39m(args) \u001b[38;5;241m>\u001b[39m num_allow_args:\n\u001b[0;32m    326\u001b[0m     warnings\u001b[38;5;241m.\u001b[39mwarn(\n\u001b[0;32m    327\u001b[0m         msg\u001b[38;5;241m.\u001b[39mformat(arguments\u001b[38;5;241m=\u001b[39m_format_argument_list(allow_args)),\n\u001b[0;32m    328\u001b[0m         \u001b[38;5;167;01mFutureWarning\u001b[39;00m,\n\u001b[0;32m    329\u001b[0m         stacklevel\u001b[38;5;241m=\u001b[39mfind_stack_level(),\n\u001b[0;32m    330\u001b[0m     )\n\u001b[1;32m--> 331\u001b[0m \u001b[38;5;28;01mreturn\u001b[39;00m func(\u001b[38;5;241m*\u001b[39margs, \u001b[38;5;241m*\u001b[39m\u001b[38;5;241m*\u001b[39mkwargs)\n",
      "File \u001b[1;32m~\\anaconda3\\lib\\site-packages\\pandas\\core\\frame.py:6012\u001b[0m, in \u001b[0;36mDataFrame.set_index\u001b[1;34m(self, keys, drop, append, inplace, verify_integrity)\u001b[0m\n\u001b[0;32m   6009\u001b[0m                 missing\u001b[38;5;241m.\u001b[39mappend(col)\n\u001b[0;32m   6011\u001b[0m \u001b[38;5;28;01mif\u001b[39;00m missing:\n\u001b[1;32m-> 6012\u001b[0m     \u001b[38;5;28;01mraise\u001b[39;00m \u001b[38;5;167;01mKeyError\u001b[39;00m(\u001b[38;5;124mf\u001b[39m\u001b[38;5;124m\"\u001b[39m\u001b[38;5;124mNone of \u001b[39m\u001b[38;5;132;01m{\u001b[39;00mmissing\u001b[38;5;132;01m}\u001b[39;00m\u001b[38;5;124m are in the columns\u001b[39m\u001b[38;5;124m\"\u001b[39m)\n\u001b[0;32m   6014\u001b[0m \u001b[38;5;28;01mif\u001b[39;00m inplace:\n\u001b[0;32m   6015\u001b[0m     frame \u001b[38;5;241m=\u001b[39m \u001b[38;5;28mself\u001b[39m\n",
      "\u001b[1;31mKeyError\u001b[0m: \"None of ['SID'] are in the columns\""
     ]
    }
   ],
   "source": [
    "df.set_index(\"SID\", inplace=True)"
   ]
  },
  {
   "cell_type": "code",
   "execution_count": 31,
   "id": "8a4fdce3",
   "metadata": {},
   "outputs": [],
   "source": [
    "df.reset_index(inplace=True)"
   ]
  },
  {
   "cell_type": "code",
   "execution_count": 32,
   "id": "b992b4f8",
   "metadata": {},
   "outputs": [
    {
     "data": {
      "text/html": [
       "<div>\n",
       "<style scoped>\n",
       "    .dataframe tbody tr th:only-of-type {\n",
       "        vertical-align: middle;\n",
       "    }\n",
       "\n",
       "    .dataframe tbody tr th {\n",
       "        vertical-align: top;\n",
       "    }\n",
       "\n",
       "    .dataframe thead th {\n",
       "        text-align: right;\n",
       "    }\n",
       "</style>\n",
       "<table border=\"1\" class=\"dataframe\">\n",
       "  <thead>\n",
       "    <tr style=\"text-align: right;\">\n",
       "      <th></th>\n",
       "      <th>S@ID</th>\n",
       "      <th>Marks</th>\n",
       "      <th>city</th>\n",
       "      <th>course</th>\n",
       "    </tr>\n",
       "  </thead>\n",
       "  <tbody>\n",
       "    <tr>\n",
       "      <th>0</th>\n",
       "      <td>S101</td>\n",
       "      <td>32</td>\n",
       "      <td>BLR</td>\n",
       "      <td>DSE</td>\n",
       "    </tr>\n",
       "    <tr>\n",
       "      <th>1</th>\n",
       "      <td>S102</td>\n",
       "      <td>45</td>\n",
       "      <td>CHN</td>\n",
       "      <td>DSE</td>\n",
       "    </tr>\n",
       "    <tr>\n",
       "      <th>2</th>\n",
       "      <td>S103</td>\n",
       "      <td>18</td>\n",
       "      <td>MUM</td>\n",
       "      <td>DSE</td>\n",
       "    </tr>\n",
       "    <tr>\n",
       "      <th>3</th>\n",
       "      <td>S104</td>\n",
       "      <td>22</td>\n",
       "      <td>CHN</td>\n",
       "      <td>DSE</td>\n",
       "    </tr>\n",
       "  </tbody>\n",
       "</table>\n",
       "</div>"
      ],
      "text/plain": [
       "   S@ID  Marks city course\n",
       "0  S101     32  BLR    DSE\n",
       "1  S102     45  CHN    DSE\n",
       "2  S103     18  MUM    DSE\n",
       "3  S104     22  CHN    DSE"
      ]
     },
     "execution_count": 32,
     "metadata": {},
     "output_type": "execute_result"
    }
   ],
   "source": [
    "df"
   ]
  },
  {
   "cell_type": "code",
   "execution_count": 38,
   "id": "c3f9afde",
   "metadata": {
    "scrolled": true
   },
   "outputs": [
    {
     "ename": "AttributeError",
     "evalue": "'DataFrame' object has no attribute 'S'",
     "output_type": "error",
     "traceback": [
      "\u001b[1;31m---------------------------------------------------------------------------\u001b[0m",
      "\u001b[1;31mAttributeError\u001b[0m                            Traceback (most recent call last)",
      "Cell \u001b[1;32mIn[38], line 2\u001b[0m\n\u001b[0;32m      1\u001b[0m \u001b[38;5;66;03m# fetching cols and rows\u001b[39;00m\n\u001b[1;32m----> 2\u001b[0m \u001b[43mdf\u001b[49m\u001b[38;5;241;43m.\u001b[39;49m\u001b[43mS\u001b[49m\u001b[38;5;129m@ID\u001b[39m\n",
      "File \u001b[1;32m~\\anaconda3\\lib\\site-packages\\pandas\\core\\generic.py:5902\u001b[0m, in \u001b[0;36mNDFrame.__getattr__\u001b[1;34m(self, name)\u001b[0m\n\u001b[0;32m   5895\u001b[0m \u001b[38;5;28;01mif\u001b[39;00m (\n\u001b[0;32m   5896\u001b[0m     name \u001b[38;5;129;01mnot\u001b[39;00m \u001b[38;5;129;01min\u001b[39;00m \u001b[38;5;28mself\u001b[39m\u001b[38;5;241m.\u001b[39m_internal_names_set\n\u001b[0;32m   5897\u001b[0m     \u001b[38;5;129;01mand\u001b[39;00m name \u001b[38;5;129;01mnot\u001b[39;00m \u001b[38;5;129;01min\u001b[39;00m \u001b[38;5;28mself\u001b[39m\u001b[38;5;241m.\u001b[39m_metadata\n\u001b[0;32m   5898\u001b[0m     \u001b[38;5;129;01mand\u001b[39;00m name \u001b[38;5;129;01mnot\u001b[39;00m \u001b[38;5;129;01min\u001b[39;00m \u001b[38;5;28mself\u001b[39m\u001b[38;5;241m.\u001b[39m_accessors\n\u001b[0;32m   5899\u001b[0m     \u001b[38;5;129;01mand\u001b[39;00m \u001b[38;5;28mself\u001b[39m\u001b[38;5;241m.\u001b[39m_info_axis\u001b[38;5;241m.\u001b[39m_can_hold_identifiers_and_holds_name(name)\n\u001b[0;32m   5900\u001b[0m ):\n\u001b[0;32m   5901\u001b[0m     \u001b[38;5;28;01mreturn\u001b[39;00m \u001b[38;5;28mself\u001b[39m[name]\n\u001b[1;32m-> 5902\u001b[0m \u001b[38;5;28;01mreturn\u001b[39;00m \u001b[38;5;28;43mobject\u001b[39;49m\u001b[38;5;241;43m.\u001b[39;49m\u001b[38;5;21;43m__getattribute__\u001b[39;49m\u001b[43m(\u001b[49m\u001b[38;5;28;43mself\u001b[39;49m\u001b[43m,\u001b[49m\u001b[43m \u001b[49m\u001b[43mname\u001b[49m\u001b[43m)\u001b[49m\n",
      "\u001b[1;31mAttributeError\u001b[0m: 'DataFrame' object has no attribute 'S'"
     ]
    }
   ],
   "source": [
    "# fetching cols and rows\n",
    "df.S@ID"
   ]
  },
  {
   "cell_type": "code",
   "execution_count": 39,
   "id": "94876ea5",
   "metadata": {},
   "outputs": [
    {
     "data": {
      "text/plain": [
       "0    S101\n",
       "1    S102\n",
       "2    S103\n",
       "3    S104\n",
       "Name: S@ID, dtype: object"
      ]
     },
     "execution_count": 39,
     "metadata": {},
     "output_type": "execute_result"
    }
   ],
   "source": [
    "df[\"S@ID\"]"
   ]
  },
  {
   "cell_type": "code",
   "execution_count": 40,
   "id": "e4e1ee17",
   "metadata": {},
   "outputs": [
    {
     "data": {
      "text/html": [
       "<div>\n",
       "<style scoped>\n",
       "    .dataframe tbody tr th:only-of-type {\n",
       "        vertical-align: middle;\n",
       "    }\n",
       "\n",
       "    .dataframe tbody tr th {\n",
       "        vertical-align: top;\n",
       "    }\n",
       "\n",
       "    .dataframe thead th {\n",
       "        text-align: right;\n",
       "    }\n",
       "</style>\n",
       "<table border=\"1\" class=\"dataframe\">\n",
       "  <thead>\n",
       "    <tr style=\"text-align: right;\">\n",
       "      <th></th>\n",
       "      <th>course</th>\n",
       "      <th>S@ID</th>\n",
       "    </tr>\n",
       "  </thead>\n",
       "  <tbody>\n",
       "    <tr>\n",
       "      <th>0</th>\n",
       "      <td>DSE</td>\n",
       "      <td>S101</td>\n",
       "    </tr>\n",
       "    <tr>\n",
       "      <th>1</th>\n",
       "      <td>DSE</td>\n",
       "      <td>S102</td>\n",
       "    </tr>\n",
       "    <tr>\n",
       "      <th>2</th>\n",
       "      <td>DSE</td>\n",
       "      <td>S103</td>\n",
       "    </tr>\n",
       "    <tr>\n",
       "      <th>3</th>\n",
       "      <td>DSE</td>\n",
       "      <td>S104</td>\n",
       "    </tr>\n",
       "  </tbody>\n",
       "</table>\n",
       "</div>"
      ],
      "text/plain": [
       "  course  S@ID\n",
       "0    DSE  S101\n",
       "1    DSE  S102\n",
       "2    DSE  S103\n",
       "3    DSE  S104"
      ]
     },
     "execution_count": 40,
     "metadata": {},
     "output_type": "execute_result"
    }
   ],
   "source": [
    "df[   [\"course\",\"S@ID\"]   ]"
   ]
  },
  {
   "cell_type": "code",
   "execution_count": 50,
   "id": "fb6c1088",
   "metadata": {},
   "outputs": [
    {
     "ename": "KeyError",
     "evalue": "0",
     "output_type": "error",
     "traceback": [
      "\u001b[1;31m---------------------------------------------------------------------------\u001b[0m",
      "\u001b[1;31mKeyError\u001b[0m                                  Traceback (most recent call last)",
      "File \u001b[1;32m~\\anaconda3\\lib\\site-packages\\pandas\\core\\indexes\\base.py:3802\u001b[0m, in \u001b[0;36mIndex.get_loc\u001b[1;34m(self, key, method, tolerance)\u001b[0m\n\u001b[0;32m   3801\u001b[0m \u001b[38;5;28;01mtry\u001b[39;00m:\n\u001b[1;32m-> 3802\u001b[0m     \u001b[38;5;28;01mreturn\u001b[39;00m \u001b[38;5;28;43mself\u001b[39;49m\u001b[38;5;241;43m.\u001b[39;49m\u001b[43m_engine\u001b[49m\u001b[38;5;241;43m.\u001b[39;49m\u001b[43mget_loc\u001b[49m\u001b[43m(\u001b[49m\u001b[43mcasted_key\u001b[49m\u001b[43m)\u001b[49m\n\u001b[0;32m   3803\u001b[0m \u001b[38;5;28;01mexcept\u001b[39;00m \u001b[38;5;167;01mKeyError\u001b[39;00m \u001b[38;5;28;01mas\u001b[39;00m err:\n",
      "File \u001b[1;32m~\\anaconda3\\lib\\site-packages\\pandas\\_libs\\index.pyx:138\u001b[0m, in \u001b[0;36mpandas._libs.index.IndexEngine.get_loc\u001b[1;34m()\u001b[0m\n",
      "File \u001b[1;32m~\\anaconda3\\lib\\site-packages\\pandas\\_libs\\index.pyx:165\u001b[0m, in \u001b[0;36mpandas._libs.index.IndexEngine.get_loc\u001b[1;34m()\u001b[0m\n",
      "File \u001b[1;32mpandas\\_libs\\hashtable_class_helper.pxi:5745\u001b[0m, in \u001b[0;36mpandas._libs.hashtable.PyObjectHashTable.get_item\u001b[1;34m()\u001b[0m\n",
      "File \u001b[1;32mpandas\\_libs\\hashtable_class_helper.pxi:5753\u001b[0m, in \u001b[0;36mpandas._libs.hashtable.PyObjectHashTable.get_item\u001b[1;34m()\u001b[0m\n",
      "\u001b[1;31mKeyError\u001b[0m: 0",
      "\nThe above exception was the direct cause of the following exception:\n",
      "\u001b[1;31mKeyError\u001b[0m                                  Traceback (most recent call last)",
      "Cell \u001b[1;32mIn[50], line 1\u001b[0m\n\u001b[1;32m----> 1\u001b[0m \u001b[43mdf\u001b[49m\u001b[43m[\u001b[49m\u001b[38;5;241;43m0\u001b[39;49m\u001b[43m]\u001b[49m\n",
      "File \u001b[1;32m~\\anaconda3\\lib\\site-packages\\pandas\\core\\frame.py:3807\u001b[0m, in \u001b[0;36mDataFrame.__getitem__\u001b[1;34m(self, key)\u001b[0m\n\u001b[0;32m   3805\u001b[0m \u001b[38;5;28;01mif\u001b[39;00m \u001b[38;5;28mself\u001b[39m\u001b[38;5;241m.\u001b[39mcolumns\u001b[38;5;241m.\u001b[39mnlevels \u001b[38;5;241m>\u001b[39m \u001b[38;5;241m1\u001b[39m:\n\u001b[0;32m   3806\u001b[0m     \u001b[38;5;28;01mreturn\u001b[39;00m \u001b[38;5;28mself\u001b[39m\u001b[38;5;241m.\u001b[39m_getitem_multilevel(key)\n\u001b[1;32m-> 3807\u001b[0m indexer \u001b[38;5;241m=\u001b[39m \u001b[38;5;28;43mself\u001b[39;49m\u001b[38;5;241;43m.\u001b[39;49m\u001b[43mcolumns\u001b[49m\u001b[38;5;241;43m.\u001b[39;49m\u001b[43mget_loc\u001b[49m\u001b[43m(\u001b[49m\u001b[43mkey\u001b[49m\u001b[43m)\u001b[49m\n\u001b[0;32m   3808\u001b[0m \u001b[38;5;28;01mif\u001b[39;00m is_integer(indexer):\n\u001b[0;32m   3809\u001b[0m     indexer \u001b[38;5;241m=\u001b[39m [indexer]\n",
      "File \u001b[1;32m~\\anaconda3\\lib\\site-packages\\pandas\\core\\indexes\\base.py:3804\u001b[0m, in \u001b[0;36mIndex.get_loc\u001b[1;34m(self, key, method, tolerance)\u001b[0m\n\u001b[0;32m   3802\u001b[0m     \u001b[38;5;28;01mreturn\u001b[39;00m \u001b[38;5;28mself\u001b[39m\u001b[38;5;241m.\u001b[39m_engine\u001b[38;5;241m.\u001b[39mget_loc(casted_key)\n\u001b[0;32m   3803\u001b[0m \u001b[38;5;28;01mexcept\u001b[39;00m \u001b[38;5;167;01mKeyError\u001b[39;00m \u001b[38;5;28;01mas\u001b[39;00m err:\n\u001b[1;32m-> 3804\u001b[0m     \u001b[38;5;28;01mraise\u001b[39;00m \u001b[38;5;167;01mKeyError\u001b[39;00m(key) \u001b[38;5;28;01mfrom\u001b[39;00m \u001b[38;5;21;01merr\u001b[39;00m\n\u001b[0;32m   3805\u001b[0m \u001b[38;5;28;01mexcept\u001b[39;00m \u001b[38;5;167;01mTypeError\u001b[39;00m:\n\u001b[0;32m   3806\u001b[0m     \u001b[38;5;66;03m# If we have a listlike key, _check_indexing_error will raise\u001b[39;00m\n\u001b[0;32m   3807\u001b[0m     \u001b[38;5;66;03m#  InvalidIndexError. Otherwise we fall through and re-raise\u001b[39;00m\n\u001b[0;32m   3808\u001b[0m     \u001b[38;5;66;03m#  the TypeError.\u001b[39;00m\n\u001b[0;32m   3809\u001b[0m     \u001b[38;5;28mself\u001b[39m\u001b[38;5;241m.\u001b[39m_check_indexing_error(key)\n",
      "\u001b[1;31mKeyError\u001b[0m: 0"
     ]
    }
   ],
   "source": [
    "df[0]"
   ]
  },
  {
   "cell_type": "code",
   "execution_count": 51,
   "id": "fb018b47",
   "metadata": {},
   "outputs": [
    {
     "data": {
      "text/html": [
       "<div>\n",
       "<style scoped>\n",
       "    .dataframe tbody tr th:only-of-type {\n",
       "        vertical-align: middle;\n",
       "    }\n",
       "\n",
       "    .dataframe tbody tr th {\n",
       "        vertical-align: top;\n",
       "    }\n",
       "\n",
       "    .dataframe thead th {\n",
       "        text-align: right;\n",
       "    }\n",
       "</style>\n",
       "<table border=\"1\" class=\"dataframe\">\n",
       "  <thead>\n",
       "    <tr style=\"text-align: right;\">\n",
       "      <th></th>\n",
       "      <th>S@ID</th>\n",
       "      <th>Marks</th>\n",
       "      <th>city</th>\n",
       "      <th>course</th>\n",
       "    </tr>\n",
       "  </thead>\n",
       "  <tbody>\n",
       "    <tr>\n",
       "      <th>0</th>\n",
       "      <td>S101</td>\n",
       "      <td>32</td>\n",
       "      <td>BLR</td>\n",
       "      <td>DSE</td>\n",
       "    </tr>\n",
       "    <tr>\n",
       "      <th>1</th>\n",
       "      <td>S102</td>\n",
       "      <td>45</td>\n",
       "      <td>CHN</td>\n",
       "      <td>DSE</td>\n",
       "    </tr>\n",
       "  </tbody>\n",
       "</table>\n",
       "</div>"
      ],
      "text/plain": [
       "   S@ID  Marks city course\n",
       "0  S101     32  BLR    DSE\n",
       "1  S102     45  CHN    DSE"
      ]
     },
     "execution_count": 51,
     "metadata": {},
     "output_type": "execute_result"
    }
   ],
   "source": [
    "df[0 : 2]  # loc, iloc"
   ]
  },
  {
   "cell_type": "code",
   "execution_count": 52,
   "id": "8cd5c297",
   "metadata": {},
   "outputs": [],
   "source": [
    "# iloc - integer based default labels\n",
    "#   0   1   2\n",
    "# 0\n",
    "# 1\n",
    "# 2"
   ]
  },
  {
   "cell_type": "code",
   "execution_count": 53,
   "id": "b9f2273e",
   "metadata": {},
   "outputs": [
    {
     "data": {
      "text/plain": [
       "S@ID      S101\n",
       "Marks       32\n",
       "city       BLR\n",
       "course     DSE\n",
       "Name: 0, dtype: object"
      ]
     },
     "execution_count": 53,
     "metadata": {},
     "output_type": "execute_result"
    }
   ],
   "source": [
    "df.iloc[0] #0 row"
   ]
  },
  {
   "cell_type": "code",
   "execution_count": 54,
   "id": "d373d958",
   "metadata": {},
   "outputs": [
    {
     "data": {
      "text/plain": [
       "0    S101\n",
       "1    S102\n",
       "2    S103\n",
       "3    S104\n",
       "Name: S@ID, dtype: object"
      ]
     },
     "execution_count": 54,
     "metadata": {},
     "output_type": "execute_result"
    }
   ],
   "source": [
    "df.iloc[ : , 0] #all rows 0 column"
   ]
  },
  {
   "cell_type": "code",
   "execution_count": 55,
   "id": "6fd6ab16",
   "metadata": {},
   "outputs": [
    {
     "data": {
      "text/html": [
       "<div>\n",
       "<style scoped>\n",
       "    .dataframe tbody tr th:only-of-type {\n",
       "        vertical-align: middle;\n",
       "    }\n",
       "\n",
       "    .dataframe tbody tr th {\n",
       "        vertical-align: top;\n",
       "    }\n",
       "\n",
       "    .dataframe thead th {\n",
       "        text-align: right;\n",
       "    }\n",
       "</style>\n",
       "<table border=\"1\" class=\"dataframe\">\n",
       "  <thead>\n",
       "    <tr style=\"text-align: right;\">\n",
       "      <th></th>\n",
       "      <th>S@ID</th>\n",
       "      <th>Marks</th>\n",
       "      <th>city</th>\n",
       "      <th>course</th>\n",
       "    </tr>\n",
       "  </thead>\n",
       "  <tbody>\n",
       "    <tr>\n",
       "      <th>0</th>\n",
       "      <td>S101</td>\n",
       "      <td>32</td>\n",
       "      <td>BLR</td>\n",
       "      <td>DSE</td>\n",
       "    </tr>\n",
       "    <tr>\n",
       "      <th>1</th>\n",
       "      <td>S102</td>\n",
       "      <td>45</td>\n",
       "      <td>CHN</td>\n",
       "      <td>DSE</td>\n",
       "    </tr>\n",
       "    <tr>\n",
       "      <th>2</th>\n",
       "      <td>S103</td>\n",
       "      <td>18</td>\n",
       "      <td>MUM</td>\n",
       "      <td>DSE</td>\n",
       "    </tr>\n",
       "  </tbody>\n",
       "</table>\n",
       "</div>"
      ],
      "text/plain": [
       "   S@ID  Marks city course\n",
       "0  S101     32  BLR    DSE\n",
       "1  S102     45  CHN    DSE\n",
       "2  S103     18  MUM    DSE"
      ]
     },
     "execution_count": 55,
     "metadata": {},
     "output_type": "execute_result"
    }
   ],
   "source": [
    "df.iloc[0 : 3 ]"
   ]
  },
  {
   "cell_type": "code",
   "execution_count": 56,
   "id": "3d7a9f31",
   "metadata": {},
   "outputs": [
    {
     "data": {
      "text/html": [
       "<div>\n",
       "<style scoped>\n",
       "    .dataframe tbody tr th:only-of-type {\n",
       "        vertical-align: middle;\n",
       "    }\n",
       "\n",
       "    .dataframe tbody tr th {\n",
       "        vertical-align: top;\n",
       "    }\n",
       "\n",
       "    .dataframe thead th {\n",
       "        text-align: right;\n",
       "    }\n",
       "</style>\n",
       "<table border=\"1\" class=\"dataframe\">\n",
       "  <thead>\n",
       "    <tr style=\"text-align: right;\">\n",
       "      <th></th>\n",
       "      <th>S@ID</th>\n",
       "      <th>Marks</th>\n",
       "    </tr>\n",
       "  </thead>\n",
       "  <tbody>\n",
       "    <tr>\n",
       "      <th>0</th>\n",
       "      <td>S101</td>\n",
       "      <td>32</td>\n",
       "    </tr>\n",
       "    <tr>\n",
       "      <th>1</th>\n",
       "      <td>S102</td>\n",
       "      <td>45</td>\n",
       "    </tr>\n",
       "    <tr>\n",
       "      <th>2</th>\n",
       "      <td>S103</td>\n",
       "      <td>18</td>\n",
       "    </tr>\n",
       "  </tbody>\n",
       "</table>\n",
       "</div>"
      ],
      "text/plain": [
       "   S@ID  Marks\n",
       "0  S101     32\n",
       "1  S102     45\n",
       "2  S103     18"
      ]
     },
     "execution_count": 56,
     "metadata": {},
     "output_type": "execute_result"
    }
   ],
   "source": [
    "df.iloc[0 : 3,  0 : 2 ]"
   ]
  },
  {
   "cell_type": "code",
   "execution_count": 57,
   "id": "f28b8dd9",
   "metadata": {},
   "outputs": [
    {
     "data": {
      "text/html": [
       "<div>\n",
       "<style scoped>\n",
       "    .dataframe tbody tr th:only-of-type {\n",
       "        vertical-align: middle;\n",
       "    }\n",
       "\n",
       "    .dataframe tbody tr th {\n",
       "        vertical-align: top;\n",
       "    }\n",
       "\n",
       "    .dataframe thead th {\n",
       "        text-align: right;\n",
       "    }\n",
       "</style>\n",
       "<table border=\"1\" class=\"dataframe\">\n",
       "  <thead>\n",
       "    <tr style=\"text-align: right;\">\n",
       "      <th></th>\n",
       "      <th>S@ID</th>\n",
       "      <th>Marks</th>\n",
       "    </tr>\n",
       "  </thead>\n",
       "  <tbody>\n",
       "    <tr>\n",
       "      <th>0</th>\n",
       "      <td>S101</td>\n",
       "      <td>32</td>\n",
       "    </tr>\n",
       "    <tr>\n",
       "      <th>2</th>\n",
       "      <td>S103</td>\n",
       "      <td>18</td>\n",
       "    </tr>\n",
       "  </tbody>\n",
       "</table>\n",
       "</div>"
      ],
      "text/plain": [
       "   S@ID  Marks\n",
       "0  S101     32\n",
       "2  S103     18"
      ]
     },
     "execution_count": 57,
     "metadata": {},
     "output_type": "execute_result"
    }
   ],
   "source": [
    "df.iloc[0 : 3 : 2,  0 : 2 ]"
   ]
  },
  {
   "cell_type": "code",
   "execution_count": 60,
   "id": "52505e3f",
   "metadata": {},
   "outputs": [
    {
     "data": {
      "text/plain": [
       "35"
      ]
     },
     "execution_count": 60,
     "metadata": {},
     "output_type": "execute_result"
    }
   ],
   "source": [
    "df.iloc[0, 1]"
   ]
  },
  {
   "cell_type": "code",
   "execution_count": 61,
   "id": "19c32624",
   "metadata": {},
   "outputs": [
    {
     "data": {
      "text/html": [
       "<div>\n",
       "<style scoped>\n",
       "    .dataframe tbody tr th:only-of-type {\n",
       "        vertical-align: middle;\n",
       "    }\n",
       "\n",
       "    .dataframe tbody tr th {\n",
       "        vertical-align: top;\n",
       "    }\n",
       "\n",
       "    .dataframe thead th {\n",
       "        text-align: right;\n",
       "    }\n",
       "</style>\n",
       "<table border=\"1\" class=\"dataframe\">\n",
       "  <thead>\n",
       "    <tr style=\"text-align: right;\">\n",
       "      <th></th>\n",
       "      <th>S@ID</th>\n",
       "      <th>Marks</th>\n",
       "      <th>city</th>\n",
       "      <th>course</th>\n",
       "    </tr>\n",
       "  </thead>\n",
       "  <tbody>\n",
       "    <tr>\n",
       "      <th>0</th>\n",
       "      <td>S101</td>\n",
       "      <td>38</td>\n",
       "      <td>BLR</td>\n",
       "      <td>DSE</td>\n",
       "    </tr>\n",
       "    <tr>\n",
       "      <th>1</th>\n",
       "      <td>S102</td>\n",
       "      <td>45</td>\n",
       "      <td>CHN</td>\n",
       "      <td>DSE</td>\n",
       "    </tr>\n",
       "    <tr>\n",
       "      <th>2</th>\n",
       "      <td>S103</td>\n",
       "      <td>18</td>\n",
       "      <td>MUM</td>\n",
       "      <td>DSE</td>\n",
       "    </tr>\n",
       "    <tr>\n",
       "      <th>3</th>\n",
       "      <td>S104</td>\n",
       "      <td>22</td>\n",
       "      <td>CHN</td>\n",
       "      <td>DSE</td>\n",
       "    </tr>\n",
       "  </tbody>\n",
       "</table>\n",
       "</div>"
      ],
      "text/plain": [
       "   S@ID  Marks city course\n",
       "0  S101     38  BLR    DSE\n",
       "1  S102     45  CHN    DSE\n",
       "2  S103     18  MUM    DSE\n",
       "3  S104     22  CHN    DSE"
      ]
     },
     "execution_count": 61,
     "metadata": {},
     "output_type": "execute_result"
    }
   ],
   "source": [
    "df.iloc[0, 1] = 38\n",
    "df"
   ]
  },
  {
   "cell_type": "code",
   "execution_count": 59,
   "id": "36c86653",
   "metadata": {},
   "outputs": [
    {
     "data": {
      "text/html": [
       "<div>\n",
       "<style scoped>\n",
       "    .dataframe tbody tr th:only-of-type {\n",
       "        vertical-align: middle;\n",
       "    }\n",
       "\n",
       "    .dataframe tbody tr th {\n",
       "        vertical-align: top;\n",
       "    }\n",
       "\n",
       "    .dataframe thead th {\n",
       "        text-align: right;\n",
       "    }\n",
       "</style>\n",
       "<table border=\"1\" class=\"dataframe\">\n",
       "  <thead>\n",
       "    <tr style=\"text-align: right;\">\n",
       "      <th></th>\n",
       "      <th>S@ID</th>\n",
       "      <th>Marks</th>\n",
       "      <th>city</th>\n",
       "      <th>course</th>\n",
       "    </tr>\n",
       "  </thead>\n",
       "  <tbody>\n",
       "    <tr>\n",
       "      <th>1</th>\n",
       "      <td>S102</td>\n",
       "      <td>45</td>\n",
       "      <td>CHN</td>\n",
       "      <td>DSE</td>\n",
       "    </tr>\n",
       "    <tr>\n",
       "      <th>3</th>\n",
       "      <td>S104</td>\n",
       "      <td>22</td>\n",
       "      <td>CHN</td>\n",
       "      <td>DSE</td>\n",
       "    </tr>\n",
       "    <tr>\n",
       "      <th>0</th>\n",
       "      <td>S101</td>\n",
       "      <td>35</td>\n",
       "      <td>BLR</td>\n",
       "      <td>DSE</td>\n",
       "    </tr>\n",
       "    <tr>\n",
       "      <th>0</th>\n",
       "      <td>S101</td>\n",
       "      <td>35</td>\n",
       "      <td>BLR</td>\n",
       "      <td>DSE</td>\n",
       "    </tr>\n",
       "  </tbody>\n",
       "</table>\n",
       "</div>"
      ],
      "text/plain": [
       "   S@ID  Marks city course\n",
       "1  S102     45  CHN    DSE\n",
       "3  S104     22  CHN    DSE\n",
       "0  S101     35  BLR    DSE\n",
       "0  S101     35  BLR    DSE"
      ]
     },
     "execution_count": 59,
     "metadata": {},
     "output_type": "execute_result"
    }
   ],
   "source": [
    "df.iloc[ [1,3,0,0]]"
   ]
  },
  {
   "cell_type": "code",
   "execution_count": 62,
   "id": "48cf6514",
   "metadata": {},
   "outputs": [
    {
     "data": {
      "text/html": [
       "<div>\n",
       "<style scoped>\n",
       "    .dataframe tbody tr th:only-of-type {\n",
       "        vertical-align: middle;\n",
       "    }\n",
       "\n",
       "    .dataframe tbody tr th {\n",
       "        vertical-align: top;\n",
       "    }\n",
       "\n",
       "    .dataframe thead th {\n",
       "        text-align: right;\n",
       "    }\n",
       "</style>\n",
       "<table border=\"1\" class=\"dataframe\">\n",
       "  <thead>\n",
       "    <tr style=\"text-align: right;\">\n",
       "      <th></th>\n",
       "      <th>S@ID</th>\n",
       "      <th>course</th>\n",
       "    </tr>\n",
       "  </thead>\n",
       "  <tbody>\n",
       "    <tr>\n",
       "      <th>0</th>\n",
       "      <td>S101</td>\n",
       "      <td>DSE</td>\n",
       "    </tr>\n",
       "    <tr>\n",
       "      <th>1</th>\n",
       "      <td>S102</td>\n",
       "      <td>DSE</td>\n",
       "    </tr>\n",
       "    <tr>\n",
       "      <th>2</th>\n",
       "      <td>S103</td>\n",
       "      <td>DSE</td>\n",
       "    </tr>\n",
       "    <tr>\n",
       "      <th>3</th>\n",
       "      <td>S104</td>\n",
       "      <td>DSE</td>\n",
       "    </tr>\n",
       "  </tbody>\n",
       "</table>\n",
       "</div>"
      ],
      "text/plain": [
       "   S@ID course\n",
       "0  S101    DSE\n",
       "1  S102    DSE\n",
       "2  S103    DSE\n",
       "3  S104    DSE"
      ]
     },
     "execution_count": 62,
     "metadata": {},
     "output_type": "execute_result"
    }
   ],
   "source": [
    "df.iloc[ : , [0, -1]]"
   ]
  },
  {
   "cell_type": "code",
   "execution_count": 63,
   "id": "7c14e236",
   "metadata": {},
   "outputs": [
    {
     "data": {
      "text/html": [
       "<div>\n",
       "<style scoped>\n",
       "    .dataframe tbody tr th:only-of-type {\n",
       "        vertical-align: middle;\n",
       "    }\n",
       "\n",
       "    .dataframe tbody tr th {\n",
       "        vertical-align: top;\n",
       "    }\n",
       "\n",
       "    .dataframe thead th {\n",
       "        text-align: right;\n",
       "    }\n",
       "</style>\n",
       "<table border=\"1\" class=\"dataframe\">\n",
       "  <thead>\n",
       "    <tr style=\"text-align: right;\">\n",
       "      <th></th>\n",
       "      <th>S@ID</th>\n",
       "      <th>Marks</th>\n",
       "      <th>city</th>\n",
       "      <th>course</th>\n",
       "    </tr>\n",
       "  </thead>\n",
       "  <tbody>\n",
       "    <tr>\n",
       "      <th>0</th>\n",
       "      <td>S101</td>\n",
       "      <td>38</td>\n",
       "      <td>BLR</td>\n",
       "      <td>DSE</td>\n",
       "    </tr>\n",
       "    <tr>\n",
       "      <th>1</th>\n",
       "      <td>S102</td>\n",
       "      <td>45</td>\n",
       "      <td>CHN</td>\n",
       "      <td>DSE</td>\n",
       "    </tr>\n",
       "    <tr>\n",
       "      <th>2</th>\n",
       "      <td>S103</td>\n",
       "      <td>18</td>\n",
       "      <td>MUM</td>\n",
       "      <td>DSE</td>\n",
       "    </tr>\n",
       "  </tbody>\n",
       "</table>\n",
       "</div>"
      ],
      "text/plain": [
       "   S@ID  Marks city course\n",
       "0  S101     38  BLR    DSE\n",
       "1  S102     45  CHN    DSE\n",
       "2  S103     18  MUM    DSE"
      ]
     },
     "execution_count": 63,
     "metadata": {},
     "output_type": "execute_result"
    }
   ],
   "source": [
    "df.loc[ 0 :2]  # end is inclusive"
   ]
  },
  {
   "cell_type": "code",
   "execution_count": 64,
   "id": "7438b420",
   "metadata": {},
   "outputs": [
    {
     "data": {
      "text/html": [
       "<div>\n",
       "<style scoped>\n",
       "    .dataframe tbody tr th:only-of-type {\n",
       "        vertical-align: middle;\n",
       "    }\n",
       "\n",
       "    .dataframe tbody tr th {\n",
       "        vertical-align: top;\n",
       "    }\n",
       "\n",
       "    .dataframe thead th {\n",
       "        text-align: right;\n",
       "    }\n",
       "</style>\n",
       "<table border=\"1\" class=\"dataframe\">\n",
       "  <thead>\n",
       "    <tr style=\"text-align: right;\">\n",
       "      <th></th>\n",
       "      <th>S@ID</th>\n",
       "      <th>Marks</th>\n",
       "    </tr>\n",
       "  </thead>\n",
       "  <tbody>\n",
       "    <tr>\n",
       "      <th>0</th>\n",
       "      <td>S101</td>\n",
       "      <td>38</td>\n",
       "    </tr>\n",
       "    <tr>\n",
       "      <th>1</th>\n",
       "      <td>S102</td>\n",
       "      <td>45</td>\n",
       "    </tr>\n",
       "    <tr>\n",
       "      <th>2</th>\n",
       "      <td>S103</td>\n",
       "      <td>18</td>\n",
       "    </tr>\n",
       "  </tbody>\n",
       "</table>\n",
       "</div>"
      ],
      "text/plain": [
       "   S@ID  Marks\n",
       "0  S101     38\n",
       "1  S102     45\n",
       "2  S103     18"
      ]
     },
     "execution_count": 64,
     "metadata": {},
     "output_type": "execute_result"
    }
   ],
   "source": [
    "df.loc[ 0 :2, \"S@ID\" : \"Marks\"]  # end is inclusive"
   ]
  },
  {
   "cell_type": "code",
   "execution_count": 65,
   "id": "4d7ec9f4",
   "metadata": {},
   "outputs": [
    {
     "data": {
      "text/html": [
       "<div>\n",
       "<style scoped>\n",
       "    .dataframe tbody tr th:only-of-type {\n",
       "        vertical-align: middle;\n",
       "    }\n",
       "\n",
       "    .dataframe tbody tr th {\n",
       "        vertical-align: top;\n",
       "    }\n",
       "\n",
       "    .dataframe thead th {\n",
       "        text-align: right;\n",
       "    }\n",
       "</style>\n",
       "<table border=\"1\" class=\"dataframe\">\n",
       "  <thead>\n",
       "    <tr style=\"text-align: right;\">\n",
       "      <th></th>\n",
       "      <th>S@ID</th>\n",
       "      <th>city</th>\n",
       "    </tr>\n",
       "  </thead>\n",
       "  <tbody>\n",
       "    <tr>\n",
       "      <th>0</th>\n",
       "      <td>S101</td>\n",
       "      <td>BLR</td>\n",
       "    </tr>\n",
       "    <tr>\n",
       "      <th>1</th>\n",
       "      <td>S102</td>\n",
       "      <td>CHN</td>\n",
       "    </tr>\n",
       "    <tr>\n",
       "      <th>2</th>\n",
       "      <td>S103</td>\n",
       "      <td>MUM</td>\n",
       "    </tr>\n",
       "  </tbody>\n",
       "</table>\n",
       "</div>"
      ],
      "text/plain": [
       "   S@ID city\n",
       "0  S101  BLR\n",
       "1  S102  CHN\n",
       "2  S103  MUM"
      ]
     },
     "execution_count": 65,
     "metadata": {},
     "output_type": "execute_result"
    }
   ],
   "source": [
    "df.loc[ 0 :2, [\"S@ID\",\"city\"]]  # end is inclusive"
   ]
  },
  {
   "cell_type": "code",
   "execution_count": 66,
   "id": "d838bc07",
   "metadata": {},
   "outputs": [
    {
     "data": {
      "text/html": [
       "<div>\n",
       "<style scoped>\n",
       "    .dataframe tbody tr th:only-of-type {\n",
       "        vertical-align: middle;\n",
       "    }\n",
       "\n",
       "    .dataframe tbody tr th {\n",
       "        vertical-align: top;\n",
       "    }\n",
       "\n",
       "    .dataframe thead th {\n",
       "        text-align: right;\n",
       "    }\n",
       "</style>\n",
       "<table border=\"1\" class=\"dataframe\">\n",
       "  <thead>\n",
       "    <tr style=\"text-align: right;\">\n",
       "      <th></th>\n",
       "      <th>S@ID</th>\n",
       "      <th>Marks</th>\n",
       "      <th>city</th>\n",
       "      <th>course</th>\n",
       "    </tr>\n",
       "  </thead>\n",
       "  <tbody>\n",
       "    <tr>\n",
       "      <th>1</th>\n",
       "      <td>S102</td>\n",
       "      <td>45</td>\n",
       "      <td>CHN</td>\n",
       "      <td>DSE</td>\n",
       "    </tr>\n",
       "  </tbody>\n",
       "</table>\n",
       "</div>"
      ],
      "text/plain": [
       "   S@ID  Marks city course\n",
       "1  S102     45  CHN    DSE"
      ]
     },
     "execution_count": 66,
     "metadata": {},
     "output_type": "execute_result"
    }
   ],
   "source": [
    "# filtering data\n",
    "df[df[\"Marks\"]  > 40]"
   ]
  },
  {
   "cell_type": "code",
   "execution_count": 67,
   "id": "71bccfb6",
   "metadata": {},
   "outputs": [
    {
     "data": {
      "text/plain": [
       "1    S102\n",
       "Name: S@ID, dtype: object"
      ]
     },
     "execution_count": 67,
     "metadata": {},
     "output_type": "execute_result"
    }
   ],
   "source": [
    "df[df[\"Marks\"]  > 40] [\"S@ID\"]"
   ]
  },
  {
   "cell_type": "code",
   "execution_count": 68,
   "id": "9e92d165",
   "metadata": {},
   "outputs": [
    {
     "data": {
      "text/html": [
       "<div>\n",
       "<style scoped>\n",
       "    .dataframe tbody tr th:only-of-type {\n",
       "        vertical-align: middle;\n",
       "    }\n",
       "\n",
       "    .dataframe tbody tr th {\n",
       "        vertical-align: top;\n",
       "    }\n",
       "\n",
       "    .dataframe thead th {\n",
       "        text-align: right;\n",
       "    }\n",
       "</style>\n",
       "<table border=\"1\" class=\"dataframe\">\n",
       "  <thead>\n",
       "    <tr style=\"text-align: right;\">\n",
       "      <th></th>\n",
       "      <th>S@ID</th>\n",
       "      <th>Marks</th>\n",
       "    </tr>\n",
       "  </thead>\n",
       "  <tbody>\n",
       "    <tr>\n",
       "      <th>1</th>\n",
       "      <td>S102</td>\n",
       "      <td>45</td>\n",
       "    </tr>\n",
       "  </tbody>\n",
       "</table>\n",
       "</div>"
      ],
      "text/plain": [
       "   S@ID  Marks\n",
       "1  S102     45"
      ]
     },
     "execution_count": 68,
     "metadata": {},
     "output_type": "execute_result"
    }
   ],
   "source": [
    "df[df[\"Marks\"]  > 40] [[ \"S@ID\", \"Marks\"]]"
   ]
  },
  {
   "cell_type": "code",
   "execution_count": 69,
   "id": "35986559",
   "metadata": {},
   "outputs": [
    {
     "data": {
      "text/html": [
       "<div>\n",
       "<style scoped>\n",
       "    .dataframe tbody tr th:only-of-type {\n",
       "        vertical-align: middle;\n",
       "    }\n",
       "\n",
       "    .dataframe tbody tr th {\n",
       "        vertical-align: top;\n",
       "    }\n",
       "\n",
       "    .dataframe thead th {\n",
       "        text-align: right;\n",
       "    }\n",
       "</style>\n",
       "<table border=\"1\" class=\"dataframe\">\n",
       "  <thead>\n",
       "    <tr style=\"text-align: right;\">\n",
       "      <th></th>\n",
       "      <th>S@ID</th>\n",
       "      <th>Marks</th>\n",
       "      <th>city</th>\n",
       "      <th>course</th>\n",
       "    </tr>\n",
       "  </thead>\n",
       "  <tbody>\n",
       "    <tr>\n",
       "      <th>0</th>\n",
       "      <td>S101</td>\n",
       "      <td>38</td>\n",
       "      <td>BLR</td>\n",
       "      <td>DSE</td>\n",
       "    </tr>\n",
       "    <tr>\n",
       "      <th>1</th>\n",
       "      <td>S102</td>\n",
       "      <td>45</td>\n",
       "      <td>CHN</td>\n",
       "      <td>DSE</td>\n",
       "    </tr>\n",
       "    <tr>\n",
       "      <th>2</th>\n",
       "      <td>S103</td>\n",
       "      <td>18</td>\n",
       "      <td>MUM</td>\n",
       "      <td>DSE</td>\n",
       "    </tr>\n",
       "    <tr>\n",
       "      <th>3</th>\n",
       "      <td>S104</td>\n",
       "      <td>22</td>\n",
       "      <td>CHN</td>\n",
       "      <td>DSE</td>\n",
       "    </tr>\n",
       "  </tbody>\n",
       "</table>\n",
       "</div>"
      ],
      "text/plain": [
       "   S@ID  Marks city course\n",
       "0  S101     38  BLR    DSE\n",
       "1  S102     45  CHN    DSE\n",
       "2  S103     18  MUM    DSE\n",
       "3  S104     22  CHN    DSE"
      ]
     },
     "execution_count": 69,
     "metadata": {},
     "output_type": "execute_result"
    }
   ],
   "source": [
    "df"
   ]
  },
  {
   "cell_type": "code",
   "execution_count": 70,
   "id": "89cad22c",
   "metadata": {},
   "outputs": [
    {
     "data": {
      "text/html": [
       "<div>\n",
       "<style scoped>\n",
       "    .dataframe tbody tr th:only-of-type {\n",
       "        vertical-align: middle;\n",
       "    }\n",
       "\n",
       "    .dataframe tbody tr th {\n",
       "        vertical-align: top;\n",
       "    }\n",
       "\n",
       "    .dataframe thead th {\n",
       "        text-align: right;\n",
       "    }\n",
       "</style>\n",
       "<table border=\"1\" class=\"dataframe\">\n",
       "  <thead>\n",
       "    <tr style=\"text-align: right;\">\n",
       "      <th></th>\n",
       "      <th>S@ID</th>\n",
       "      <th>Marks</th>\n",
       "      <th>city</th>\n",
       "      <th>course</th>\n",
       "    </tr>\n",
       "  </thead>\n",
       "  <tbody>\n",
       "    <tr>\n",
       "      <th>0</th>\n",
       "      <td>S101</td>\n",
       "      <td>38</td>\n",
       "      <td>BLR</td>\n",
       "      <td>DSE</td>\n",
       "    </tr>\n",
       "    <tr>\n",
       "      <th>1</th>\n",
       "      <td>S102</td>\n",
       "      <td>45</td>\n",
       "      <td>CHN</td>\n",
       "      <td>DSE</td>\n",
       "    </tr>\n",
       "  </tbody>\n",
       "</table>\n",
       "</div>"
      ],
      "text/plain": [
       "   S@ID  Marks city course\n",
       "0  S101     38  BLR    DSE\n",
       "1  S102     45  CHN    DSE"
      ]
     },
     "execution_count": 70,
     "metadata": {},
     "output_type": "execute_result"
    }
   ],
   "source": [
    "df[df[\"Marks\"] > 30]"
   ]
  },
  {
   "cell_type": "code",
   "execution_count": 71,
   "id": "6b211127",
   "metadata": {},
   "outputs": [
    {
     "data": {
      "text/html": [
       "<div>\n",
       "<style scoped>\n",
       "    .dataframe tbody tr th:only-of-type {\n",
       "        vertical-align: middle;\n",
       "    }\n",
       "\n",
       "    .dataframe tbody tr th {\n",
       "        vertical-align: top;\n",
       "    }\n",
       "\n",
       "    .dataframe thead th {\n",
       "        text-align: right;\n",
       "    }\n",
       "</style>\n",
       "<table border=\"1\" class=\"dataframe\">\n",
       "  <thead>\n",
       "    <tr style=\"text-align: right;\">\n",
       "      <th></th>\n",
       "      <th>S@ID</th>\n",
       "      <th>Marks</th>\n",
       "      <th>city</th>\n",
       "      <th>course</th>\n",
       "    </tr>\n",
       "  </thead>\n",
       "  <tbody>\n",
       "    <tr>\n",
       "      <th>0</th>\n",
       "      <td>S101</td>\n",
       "      <td>38</td>\n",
       "      <td>BLR</td>\n",
       "      <td>DSE</td>\n",
       "    </tr>\n",
       "  </tbody>\n",
       "</table>\n",
       "</div>"
      ],
      "text/plain": [
       "   S@ID  Marks city course\n",
       "0  S101     38  BLR    DSE"
      ]
     },
     "execution_count": 71,
     "metadata": {},
     "output_type": "execute_result"
    }
   ],
   "source": [
    "df[df[\"city\"] == \"BLR\"]"
   ]
  },
  {
   "cell_type": "code",
   "execution_count": 72,
   "id": "2b1c744d",
   "metadata": {},
   "outputs": [
    {
     "data": {
      "text/html": [
       "<div>\n",
       "<style scoped>\n",
       "    .dataframe tbody tr th:only-of-type {\n",
       "        vertical-align: middle;\n",
       "    }\n",
       "\n",
       "    .dataframe tbody tr th {\n",
       "        vertical-align: top;\n",
       "    }\n",
       "\n",
       "    .dataframe thead th {\n",
       "        text-align: right;\n",
       "    }\n",
       "</style>\n",
       "<table border=\"1\" class=\"dataframe\">\n",
       "  <thead>\n",
       "    <tr style=\"text-align: right;\">\n",
       "      <th></th>\n",
       "      <th>S@ID</th>\n",
       "      <th>Marks</th>\n",
       "      <th>city</th>\n",
       "      <th>course</th>\n",
       "    </tr>\n",
       "  </thead>\n",
       "  <tbody>\n",
       "    <tr>\n",
       "      <th>0</th>\n",
       "      <td>S101</td>\n",
       "      <td>38</td>\n",
       "      <td>BLR</td>\n",
       "      <td>DSE</td>\n",
       "    </tr>\n",
       "  </tbody>\n",
       "</table>\n",
       "</div>"
      ],
      "text/plain": [
       "   S@ID  Marks city course\n",
       "0  S101     38  BLR    DSE"
      ]
     },
     "execution_count": 72,
     "metadata": {},
     "output_type": "execute_result"
    }
   ],
   "source": [
    "df[   (df[\"Marks\"] > 30 ) &   (df[\"city\"] == \"BLR\")]"
   ]
  },
  {
   "cell_type": "code",
   "execution_count": 73,
   "id": "c1b5a4f2",
   "metadata": {},
   "outputs": [
    {
     "data": {
      "text/html": [
       "<div>\n",
       "<style scoped>\n",
       "    .dataframe tbody tr th:only-of-type {\n",
       "        vertical-align: middle;\n",
       "    }\n",
       "\n",
       "    .dataframe tbody tr th {\n",
       "        vertical-align: top;\n",
       "    }\n",
       "\n",
       "    .dataframe thead th {\n",
       "        text-align: right;\n",
       "    }\n",
       "</style>\n",
       "<table border=\"1\" class=\"dataframe\">\n",
       "  <thead>\n",
       "    <tr style=\"text-align: right;\">\n",
       "      <th></th>\n",
       "      <th>S@ID</th>\n",
       "      <th>Marks</th>\n",
       "      <th>city</th>\n",
       "      <th>course</th>\n",
       "    </tr>\n",
       "  </thead>\n",
       "  <tbody>\n",
       "    <tr>\n",
       "      <th>0</th>\n",
       "      <td>S101</td>\n",
       "      <td>38</td>\n",
       "      <td>BLR</td>\n",
       "      <td>DSE</td>\n",
       "    </tr>\n",
       "    <tr>\n",
       "      <th>1</th>\n",
       "      <td>S102</td>\n",
       "      <td>45</td>\n",
       "      <td>CHN</td>\n",
       "      <td>DSE</td>\n",
       "    </tr>\n",
       "  </tbody>\n",
       "</table>\n",
       "</div>"
      ],
      "text/plain": [
       "   S@ID  Marks city course\n",
       "0  S101     38  BLR    DSE\n",
       "1  S102     45  CHN    DSE"
      ]
     },
     "execution_count": 73,
     "metadata": {},
     "output_type": "execute_result"
    }
   ],
   "source": [
    "df[   (df[\"Marks\"] > 30 ) |   (df[\"city\"] == \"BLR\")]"
   ]
  },
  {
   "cell_type": "code",
   "execution_count": 74,
   "id": "557159f9",
   "metadata": {},
   "outputs": [
    {
     "data": {
      "text/html": [
       "<div>\n",
       "<style scoped>\n",
       "    .dataframe tbody tr th:only-of-type {\n",
       "        vertical-align: middle;\n",
       "    }\n",
       "\n",
       "    .dataframe tbody tr th {\n",
       "        vertical-align: top;\n",
       "    }\n",
       "\n",
       "    .dataframe thead th {\n",
       "        text-align: right;\n",
       "    }\n",
       "</style>\n",
       "<table border=\"1\" class=\"dataframe\">\n",
       "  <thead>\n",
       "    <tr style=\"text-align: right;\">\n",
       "      <th></th>\n",
       "      <th>S@ID</th>\n",
       "      <th>Marks</th>\n",
       "      <th>city</th>\n",
       "      <th>course</th>\n",
       "    </tr>\n",
       "  </thead>\n",
       "  <tbody>\n",
       "    <tr>\n",
       "      <th>2</th>\n",
       "      <td>S103</td>\n",
       "      <td>18</td>\n",
       "      <td>MUM</td>\n",
       "      <td>DSE</td>\n",
       "    </tr>\n",
       "    <tr>\n",
       "      <th>3</th>\n",
       "      <td>S104</td>\n",
       "      <td>22</td>\n",
       "      <td>CHN</td>\n",
       "      <td>DSE</td>\n",
       "    </tr>\n",
       "  </tbody>\n",
       "</table>\n",
       "</div>"
      ],
      "text/plain": [
       "   S@ID  Marks city course\n",
       "2  S103     18  MUM    DSE\n",
       "3  S104     22  CHN    DSE"
      ]
     },
     "execution_count": 74,
     "metadata": {},
     "output_type": "execute_result"
    }
   ],
   "source": [
    "df[~(df[\"Marks\"] > 30 )]"
   ]
  },
  {
   "cell_type": "code",
   "execution_count": 75,
   "id": "f38084d9",
   "metadata": {},
   "outputs": [
    {
     "data": {
      "text/plain": [
       "Index(['S@ID', 'Marks', 'city', 'course'], dtype='object')"
      ]
     },
     "execution_count": 75,
     "metadata": {},
     "output_type": "execute_result"
    }
   ],
   "source": [
    "df.columns"
   ]
  },
  {
   "cell_type": "code",
   "execution_count": 76,
   "id": "5c3880a9",
   "metadata": {},
   "outputs": [
    {
     "data": {
      "text/plain": [
       "0    40\n",
       "1    47\n",
       "2    20\n",
       "3    24\n",
       "Name: Marks, dtype: int64"
      ]
     },
     "execution_count": 76,
     "metadata": {},
     "output_type": "execute_result"
    }
   ],
   "source": [
    "df[\"Marks\"] + 2"
   ]
  },
  {
   "cell_type": "code",
   "execution_count": 77,
   "id": "1788a94f",
   "metadata": {},
   "outputs": [
    {
     "data": {
      "text/html": [
       "<div>\n",
       "<style scoped>\n",
       "    .dataframe tbody tr th:only-of-type {\n",
       "        vertical-align: middle;\n",
       "    }\n",
       "\n",
       "    .dataframe tbody tr th {\n",
       "        vertical-align: top;\n",
       "    }\n",
       "\n",
       "    .dataframe thead th {\n",
       "        text-align: right;\n",
       "    }\n",
       "</style>\n",
       "<table border=\"1\" class=\"dataframe\">\n",
       "  <thead>\n",
       "    <tr style=\"text-align: right;\">\n",
       "      <th></th>\n",
       "      <th>S@ID</th>\n",
       "      <th>Marks</th>\n",
       "      <th>city</th>\n",
       "      <th>course</th>\n",
       "    </tr>\n",
       "  </thead>\n",
       "  <tbody>\n",
       "    <tr>\n",
       "      <th>0</th>\n",
       "      <td>S101</td>\n",
       "      <td>40</td>\n",
       "      <td>BLR</td>\n",
       "      <td>DSE</td>\n",
       "    </tr>\n",
       "    <tr>\n",
       "      <th>1</th>\n",
       "      <td>S102</td>\n",
       "      <td>47</td>\n",
       "      <td>CHN</td>\n",
       "      <td>DSE</td>\n",
       "    </tr>\n",
       "    <tr>\n",
       "      <th>2</th>\n",
       "      <td>S103</td>\n",
       "      <td>20</td>\n",
       "      <td>MUM</td>\n",
       "      <td>DSE</td>\n",
       "    </tr>\n",
       "    <tr>\n",
       "      <th>3</th>\n",
       "      <td>S104</td>\n",
       "      <td>24</td>\n",
       "      <td>CHN</td>\n",
       "      <td>DSE</td>\n",
       "    </tr>\n",
       "  </tbody>\n",
       "</table>\n",
       "</div>"
      ],
      "text/plain": [
       "   S@ID  Marks city course\n",
       "0  S101     40  BLR    DSE\n",
       "1  S102     47  CHN    DSE\n",
       "2  S103     20  MUM    DSE\n",
       "3  S104     24  CHN    DSE"
      ]
     },
     "execution_count": 77,
     "metadata": {},
     "output_type": "execute_result"
    }
   ],
   "source": [
    "df[\"Marks\"] =  df[\"Marks\"] + 2\n",
    "df"
   ]
  },
  {
   "cell_type": "code",
   "execution_count": 78,
   "id": "85a13809",
   "metadata": {},
   "outputs": [
    {
     "data": {
      "text/plain": [
       "{'S@ID': ['S101', 'S102', 'S103', 'S104'],\n",
       " 'Marks': (32, 45, 18, 22),\n",
       " 'city': ['BLR', 'CHN', 'MUM', 'CHN'],\n",
       " 'course': 'DSE',\n",
       " 'Age': 20}"
      ]
     },
     "execution_count": 78,
     "metadata": {},
     "output_type": "execute_result"
    }
   ],
   "source": [
    "d[\"Age\"] = 20\n",
    "d"
   ]
  },
  {
   "cell_type": "code",
   "execution_count": 80,
   "id": "f941e574",
   "metadata": {},
   "outputs": [
    {
     "data": {
      "text/html": [
       "<div>\n",
       "<style scoped>\n",
       "    .dataframe tbody tr th:only-of-type {\n",
       "        vertical-align: middle;\n",
       "    }\n",
       "\n",
       "    .dataframe tbody tr th {\n",
       "        vertical-align: top;\n",
       "    }\n",
       "\n",
       "    .dataframe thead th {\n",
       "        text-align: right;\n",
       "    }\n",
       "</style>\n",
       "<table border=\"1\" class=\"dataframe\">\n",
       "  <thead>\n",
       "    <tr style=\"text-align: right;\">\n",
       "      <th></th>\n",
       "      <th>S@ID</th>\n",
       "      <th>Marks</th>\n",
       "      <th>city</th>\n",
       "      <th>course</th>\n",
       "      <th>age</th>\n",
       "    </tr>\n",
       "  </thead>\n",
       "  <tbody>\n",
       "    <tr>\n",
       "      <th>0</th>\n",
       "      <td>S101</td>\n",
       "      <td>40</td>\n",
       "      <td>BLR</td>\n",
       "      <td>DSE</td>\n",
       "      <td>20</td>\n",
       "    </tr>\n",
       "    <tr>\n",
       "      <th>1</th>\n",
       "      <td>S102</td>\n",
       "      <td>47</td>\n",
       "      <td>CHN</td>\n",
       "      <td>DSE</td>\n",
       "      <td>22</td>\n",
       "    </tr>\n",
       "    <tr>\n",
       "      <th>2</th>\n",
       "      <td>S103</td>\n",
       "      <td>20</td>\n",
       "      <td>MUM</td>\n",
       "      <td>DSE</td>\n",
       "      <td>26</td>\n",
       "    </tr>\n",
       "    <tr>\n",
       "      <th>3</th>\n",
       "      <td>S104</td>\n",
       "      <td>24</td>\n",
       "      <td>CHN</td>\n",
       "      <td>DSE</td>\n",
       "      <td>21</td>\n",
       "    </tr>\n",
       "  </tbody>\n",
       "</table>\n",
       "</div>"
      ],
      "text/plain": [
       "   S@ID  Marks city course  age\n",
       "0  S101     40  BLR    DSE   20\n",
       "1  S102     47  CHN    DSE   22\n",
       "2  S103     20  MUM    DSE   26\n",
       "3  S104     24  CHN    DSE   21"
      ]
     },
     "execution_count": 80,
     "metadata": {},
     "output_type": "execute_result"
    }
   ],
   "source": [
    "df[\"age\"] = [20,22,26,21]\n",
    "df"
   ]
  },
  {
   "cell_type": "code",
   "execution_count": 81,
   "id": "c83e3457",
   "metadata": {},
   "outputs": [],
   "source": [
    "df.drop(columns = \"age\", inplace=True)"
   ]
  },
  {
   "cell_type": "code",
   "execution_count": 82,
   "id": "1c02da40",
   "metadata": {},
   "outputs": [
    {
     "data": {
      "text/html": [
       "<div>\n",
       "<style scoped>\n",
       "    .dataframe tbody tr th:only-of-type {\n",
       "        vertical-align: middle;\n",
       "    }\n",
       "\n",
       "    .dataframe tbody tr th {\n",
       "        vertical-align: top;\n",
       "    }\n",
       "\n",
       "    .dataframe thead th {\n",
       "        text-align: right;\n",
       "    }\n",
       "</style>\n",
       "<table border=\"1\" class=\"dataframe\">\n",
       "  <thead>\n",
       "    <tr style=\"text-align: right;\">\n",
       "      <th></th>\n",
       "      <th>S@ID</th>\n",
       "      <th>Marks</th>\n",
       "      <th>city</th>\n",
       "      <th>course</th>\n",
       "    </tr>\n",
       "  </thead>\n",
       "  <tbody>\n",
       "    <tr>\n",
       "      <th>0</th>\n",
       "      <td>S101</td>\n",
       "      <td>40</td>\n",
       "      <td>BLR</td>\n",
       "      <td>DSE</td>\n",
       "    </tr>\n",
       "    <tr>\n",
       "      <th>1</th>\n",
       "      <td>S102</td>\n",
       "      <td>47</td>\n",
       "      <td>CHN</td>\n",
       "      <td>DSE</td>\n",
       "    </tr>\n",
       "    <tr>\n",
       "      <th>2</th>\n",
       "      <td>S103</td>\n",
       "      <td>20</td>\n",
       "      <td>MUM</td>\n",
       "      <td>DSE</td>\n",
       "    </tr>\n",
       "    <tr>\n",
       "      <th>3</th>\n",
       "      <td>S104</td>\n",
       "      <td>24</td>\n",
       "      <td>CHN</td>\n",
       "      <td>DSE</td>\n",
       "    </tr>\n",
       "  </tbody>\n",
       "</table>\n",
       "</div>"
      ],
      "text/plain": [
       "   S@ID  Marks city course\n",
       "0  S101     40  BLR    DSE\n",
       "1  S102     47  CHN    DSE\n",
       "2  S103     20  MUM    DSE\n",
       "3  S104     24  CHN    DSE"
      ]
     },
     "execution_count": 82,
     "metadata": {},
     "output_type": "execute_result"
    }
   ],
   "source": [
    "df"
   ]
  },
  {
   "cell_type": "code",
   "execution_count": 83,
   "id": "1b683215",
   "metadata": {},
   "outputs": [
    {
     "data": {
      "text/html": [
       "<div>\n",
       "<style scoped>\n",
       "    .dataframe tbody tr th:only-of-type {\n",
       "        vertical-align: middle;\n",
       "    }\n",
       "\n",
       "    .dataframe tbody tr th {\n",
       "        vertical-align: top;\n",
       "    }\n",
       "\n",
       "    .dataframe thead th {\n",
       "        text-align: right;\n",
       "    }\n",
       "</style>\n",
       "<table border=\"1\" class=\"dataframe\">\n",
       "  <thead>\n",
       "    <tr style=\"text-align: right;\">\n",
       "      <th></th>\n",
       "      <th>Description</th>\n",
       "    </tr>\n",
       "  </thead>\n",
       "  <tbody>\n",
       "    <tr>\n",
       "      <th>0</th>\n",
       "      <td>Iphone-14-65000</td>\n",
       "    </tr>\n",
       "    <tr>\n",
       "      <th>1</th>\n",
       "      <td>Iphone-13-56000</td>\n",
       "    </tr>\n",
       "  </tbody>\n",
       "</table>\n",
       "</div>"
      ],
      "text/plain": [
       "       Description\n",
       "0  Iphone-14-65000\n",
       "1  Iphone-13-56000"
      ]
     },
     "execution_count": 83,
     "metadata": {},
     "output_type": "execute_result"
    }
   ],
   "source": [
    "data = {\"Description\" : [\"Iphone-14-65000\", \n",
    "                         \"Iphone-13-56000\"]}\n",
    "data = pd.DataFrame(data)\n",
    "data"
   ]
  },
  {
   "cell_type": "code",
   "execution_count": 84,
   "id": "0badac49",
   "metadata": {},
   "outputs": [
    {
     "data": {
      "text/plain": [
       "0    [Iphone, 14, 65000]\n",
       "1    [Iphone, 13, 56000]\n",
       "Name: Description, dtype: object"
      ]
     },
     "execution_count": 84,
     "metadata": {},
     "output_type": "execute_result"
    }
   ],
   "source": [
    "data[\"Description\"].str.split(\"-\")"
   ]
  },
  {
   "cell_type": "code",
   "execution_count": 85,
   "id": "dd8d6ce7",
   "metadata": {},
   "outputs": [
    {
     "data": {
      "text/plain": [
       "['Iphone', '14', '65000']"
      ]
     },
     "execution_count": 85,
     "metadata": {},
     "output_type": "execute_result"
    }
   ],
   "source": [
    "\"Iphone-14-65000\".split(\"-\")"
   ]
  },
  {
   "cell_type": "code",
   "execution_count": 86,
   "id": "4a9bc81c",
   "metadata": {},
   "outputs": [
    {
     "data": {
      "text/html": [
       "<div>\n",
       "<style scoped>\n",
       "    .dataframe tbody tr th:only-of-type {\n",
       "        vertical-align: middle;\n",
       "    }\n",
       "\n",
       "    .dataframe tbody tr th {\n",
       "        vertical-align: top;\n",
       "    }\n",
       "\n",
       "    .dataframe thead th {\n",
       "        text-align: right;\n",
       "    }\n",
       "</style>\n",
       "<table border=\"1\" class=\"dataframe\">\n",
       "  <thead>\n",
       "    <tr style=\"text-align: right;\">\n",
       "      <th></th>\n",
       "      <th>0</th>\n",
       "      <th>1</th>\n",
       "      <th>2</th>\n",
       "    </tr>\n",
       "  </thead>\n",
       "  <tbody>\n",
       "    <tr>\n",
       "      <th>0</th>\n",
       "      <td>Iphone</td>\n",
       "      <td>14</td>\n",
       "      <td>65000</td>\n",
       "    </tr>\n",
       "    <tr>\n",
       "      <th>1</th>\n",
       "      <td>Iphone</td>\n",
       "      <td>13</td>\n",
       "      <td>56000</td>\n",
       "    </tr>\n",
       "  </tbody>\n",
       "</table>\n",
       "</div>"
      ],
      "text/plain": [
       "        0   1      2\n",
       "0  Iphone  14  65000\n",
       "1  Iphone  13  56000"
      ]
     },
     "execution_count": 86,
     "metadata": {},
     "output_type": "execute_result"
    }
   ],
   "source": [
    "data[\"Description\"].str.split(\"-\", expand=True)"
   ]
  },
  {
   "cell_type": "code",
   "execution_count": 87,
   "id": "038108eb",
   "metadata": {},
   "outputs": [
    {
     "data": {
      "text/plain": [
       "0    [Iphone, 14, 128, 65000]\n",
       "1         [Iphone, 13, 56000]\n",
       "Name: Description, dtype: object"
      ]
     },
     "execution_count": 87,
     "metadata": {},
     "output_type": "execute_result"
    }
   ],
   "source": [
    "data = {\"Description\" : [\"Iphone-14-128-65000\", \n",
    "                         \"Iphone-13-56000\"]}\n",
    "data = pd.DataFrame(data)\n",
    "data[\"Description\"].str.split(\"-\")"
   ]
  },
  {
   "cell_type": "code",
   "execution_count": 88,
   "id": "5a576924",
   "metadata": {},
   "outputs": [
    {
     "data": {
      "text/html": [
       "<div>\n",
       "<style scoped>\n",
       "    .dataframe tbody tr th:only-of-type {\n",
       "        vertical-align: middle;\n",
       "    }\n",
       "\n",
       "    .dataframe tbody tr th {\n",
       "        vertical-align: top;\n",
       "    }\n",
       "\n",
       "    .dataframe thead th {\n",
       "        text-align: right;\n",
       "    }\n",
       "</style>\n",
       "<table border=\"1\" class=\"dataframe\">\n",
       "  <thead>\n",
       "    <tr style=\"text-align: right;\">\n",
       "      <th></th>\n",
       "      <th>0</th>\n",
       "      <th>1</th>\n",
       "      <th>2</th>\n",
       "      <th>3</th>\n",
       "    </tr>\n",
       "  </thead>\n",
       "  <tbody>\n",
       "    <tr>\n",
       "      <th>0</th>\n",
       "      <td>Iphone</td>\n",
       "      <td>14</td>\n",
       "      <td>128</td>\n",
       "      <td>65000</td>\n",
       "    </tr>\n",
       "    <tr>\n",
       "      <th>1</th>\n",
       "      <td>Iphone</td>\n",
       "      <td>13</td>\n",
       "      <td>56000</td>\n",
       "      <td>None</td>\n",
       "    </tr>\n",
       "  </tbody>\n",
       "</table>\n",
       "</div>"
      ],
      "text/plain": [
       "        0   1      2      3\n",
       "0  Iphone  14    128  65000\n",
       "1  Iphone  13  56000   None"
      ]
     },
     "execution_count": 88,
     "metadata": {},
     "output_type": "execute_result"
    }
   ],
   "source": [
    "data[\"Description\"].str.split(\"-\", expand=True)"
   ]
  }
 ],
 "metadata": {
  "kernelspec": {
   "display_name": "Python 3 (ipykernel)",
   "language": "python",
   "name": "python3"
  },
  "language_info": {
   "codemirror_mode": {
    "name": "ipython",
    "version": 3
   },
   "file_extension": ".py",
   "mimetype": "text/x-python",
   "name": "python",
   "nbconvert_exporter": "python",
   "pygments_lexer": "ipython3",
   "version": "3.11.4"
  }
 },
 "nbformat": 4,
 "nbformat_minor": 5
}
