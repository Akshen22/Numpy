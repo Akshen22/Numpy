{
 "cells": [
  {
   "cell_type": "raw",
   "id": "801769cf",
   "metadata": {},
   "source": [
    "*) rows: ----, columns: |\n",
    "1) Cannot add arrary with a int/float\n",
    "2) np.array([]): list to numpy array number\n",
    "3) type(num): to know its in numpy or not\n",
    "4) .dtype: to know its it int, float, str inside numpy array\n",
    "5) len(): know total length of row\n",
    "6) .size: total of rows and columns\n",
    "7) .shape: row, column\n",
    "8) .ndim: to know the numpy dimension, its it 1D, 2D or 3D\n",
    ".head(), .tail(), .info(), .describe()\n",
    "9) np.arange(2.0,10, 0.5): 2.0, 2.5,....9.5, 10.0\n",
    "10) .reshape(2,10): 2 rows 10 columns\n",
    "11) .reshape(10,2): 10 rows 2 columns\n",
    "12) np.zeros(4): gives 0 in the 4 rows\n",
    "13) np.zeros(4,2): 4 rows=0, 2 columns=0\n",
    "14) similarly with np.ones\n",
    "15) np.identity(4): 4 rows, diagonal 1 rest 0\n",
    "16) np.random.randint(10): displays any one number between 1-10\n",
    "17) np.random.randint(low=10, high=20, size=5): displays 5 number between 10 to 20\n",
    "18) np.random.seed(200): once the output that comes stays same\n",
    "19) index= arr[1]: shows that's second in the row\n",
    "20) slicing= arr[1:3]: shows value there at 1 and 2\n",
    "21) arr[1][1]: value there at 2nd row 2nd column \n",
    "22) arr[::2]: first 2 rows\n",
    "23) arr[ :  : 2  , : : 2  ]: 0 and 1 rows, 0 and 1 columns\n",
    "24) arr[ :   ,    [0,-1, 0]    ]: all rows, first 0 column then last then again 0 column\n",
    "25) arr[[0,-1, 0],   :    ]: first 0 row then last then again 0 row, all columns\n",
    "26) arr[[0,1], [1,0]]: 0 row 1 column, 1 row 0 column\n",
    "27) arr[ [-1,0,-1,1] ,    0 : 2 ]: -1 row then 0 than -1 and 1, 0 to 1 column \n",
    "28) arr[  [1,2,0]  , [0,2,2]  ]: 1 row, 0 column, 2 row 2 column, 0 row 2 column\n",
    "29) arr.transpose(): row->column, column->row\n",
    "30) operations: ard+1: add all the values by 1, similarly with -, *\n",
    "31) ar2d.dot(newAr.reshape(3,1)): first multiply then totals all as 4 rows 1 columns\n",
    "32) arr > 18: gives all value r true or false\n",
    "33) arr [arr > 18]: instead of true or false just gives the values\n",
    "34) np.where(arr < 18): gives the values and its description \n",
    "35) np.where(arr < 18,  \"<18\" , \">=18\"): replaces by <18, >=18\n",
    "36) np.sum(A1): total, np.min(A1), np.max(A1), np.mean(A1), np.std(A1), np.var(A1), np.power(A1,2), np.sqrt(A1), np.log(A1)\n",
    "37) np.sum(arr, axis=0): rows but adds column wise\n",
    "38) np.sum((0.0), initial = 2): 0.0+2=2.0"
   ]
  },
  {
   "cell_type": "code",
   "execution_count": 1,
   "id": "93112000",
   "metadata": {},
   "outputs": [
    {
     "name": "stderr",
     "output_type": "stream",
     "text": [
      "Unable to create process using 'C:\\Users\\Akshem Dhami\\anaconda3\\python.exe \"C:\\Users\\Akshem Dhami\\anaconda3\\Scripts\\pip-script.py\" install numpy'\n"
     ]
    }
   ],
   "source": [
    "# install \n",
    "!pip install numpy"
   ]
  },
  {
   "cell_type": "code",
   "execution_count": 2,
   "id": "c7234b01",
   "metadata": {},
   "outputs": [],
   "source": [
    "import numpy as np"
   ]
  },
  {
   "cell_type": "code",
   "execution_count": 176,
   "id": "4945e275",
   "metadata": {},
   "outputs": [
    {
     "ename": "TypeError",
     "evalue": "can only concatenate list (not \"int\") to list",
     "output_type": "error",
     "traceback": [
      "\u001b[1;31m---------------------------------------------------------------------------\u001b[0m",
      "\u001b[1;31mTypeError\u001b[0m                                 Traceback (most recent call last)",
      "Cell \u001b[1;32mIn[176], line 3\u001b[0m\n\u001b[0;32m      1\u001b[0m \u001b[38;5;66;03m# difference b/w list and numpy array\u001b[39;00m\n\u001b[0;32m      2\u001b[0m num \u001b[38;5;241m=\u001b[39m [\u001b[38;5;241m10\u001b[39m,\u001b[38;5;241m20\u001b[39m,\u001b[38;5;241m30\u001b[39m,\u001b[38;5;241m50\u001b[39m]\n\u001b[1;32m----> 3\u001b[0m \u001b[43mnum\u001b[49m\u001b[43m \u001b[49m\u001b[38;5;241;43m+\u001b[39;49m\u001b[43m \u001b[49m\u001b[38;5;241;43m10\u001b[39;49m\n",
      "\u001b[1;31mTypeError\u001b[0m: can only concatenate list (not \"int\") to list"
     ]
    }
   ],
   "source": [
    "# difference b/w list and numpy array\n",
    "num = [10,20,30,50]\n",
    "num + 10"
   ]
  },
  {
   "cell_type": "code",
   "execution_count": 3,
   "id": "209224cc",
   "metadata": {},
   "outputs": [
    {
     "data": {
      "text/plain": [
       "[20, 30, 40, 60]"
      ]
     },
     "execution_count": 3,
     "metadata": {},
     "output_type": "execute_result"
    }
   ],
   "source": [
    "num = [10,20,30,50]\n",
    "[ i + 10   for i in num]"
   ]
  },
  {
   "cell_type": "code",
   "execution_count": 4,
   "id": "a1151b36",
   "metadata": {},
   "outputs": [
    {
     "data": {
      "text/plain": [
       "array([10, 20, 30, 50])"
      ]
     },
     "execution_count": 4,
     "metadata": {},
     "output_type": "execute_result"
    }
   ],
   "source": [
    "ar1 = np.array(num)\n",
    "ar1"
   ]
  },
  {
   "cell_type": "code",
   "execution_count": 5,
   "id": "0d4bb06a",
   "metadata": {},
   "outputs": [
    {
     "name": "stdout",
     "output_type": "stream",
     "text": [
      "[10 20 30 50]\n"
     ]
    }
   ],
   "source": [
    "print(ar1)"
   ]
  },
  {
   "cell_type": "code",
   "execution_count": 6,
   "id": "021da01c",
   "metadata": {},
   "outputs": [
    {
     "data": {
      "text/plain": [
       "array([20, 30, 40, 60])"
      ]
     },
     "execution_count": 6,
     "metadata": {},
     "output_type": "execute_result"
    }
   ],
   "source": [
    "ar1 + 10"
   ]
  },
  {
   "cell_type": "code",
   "execution_count": 7,
   "id": "a97e535f",
   "metadata": {},
   "outputs": [
    {
     "data": {
      "text/plain": [
       "[10, 20, 'a', 'b']"
      ]
     },
     "execution_count": 7,
     "metadata": {},
     "output_type": "execute_result"
    }
   ],
   "source": [
    "# \n",
    "num = [10,20,\"a\",\"b\"]\n",
    "num"
   ]
  },
  {
   "cell_type": "code",
   "execution_count": 8,
   "id": "dab5e3e7",
   "metadata": {},
   "outputs": [
    {
     "data": {
      "text/plain": [
       "int"
      ]
     },
     "execution_count": 8,
     "metadata": {},
     "output_type": "execute_result"
    }
   ],
   "source": [
    "type(num[0])"
   ]
  },
  {
   "cell_type": "code",
   "execution_count": 9,
   "id": "330a17f6",
   "metadata": {},
   "outputs": [
    {
     "data": {
      "text/plain": [
       "str"
      ]
     },
     "execution_count": 9,
     "metadata": {},
     "output_type": "execute_result"
    }
   ],
   "source": [
    "type(num[-1])"
   ]
  },
  {
   "cell_type": "code",
   "execution_count": 10,
   "id": "e66e4534",
   "metadata": {},
   "outputs": [
    {
     "data": {
      "text/plain": [
       "array(['10', '20', 'a', 'b'], dtype='<U11')"
      ]
     },
     "execution_count": 10,
     "metadata": {},
     "output_type": "execute_result"
    }
   ],
   "source": [
    "ar1 = np.array(num)\n",
    "ar1"
   ]
  },
  {
   "cell_type": "code",
   "execution_count": 11,
   "id": "4544f617",
   "metadata": {},
   "outputs": [
    {
     "data": {
      "text/plain": [
       "array(['10', '20.0', '30', 'python'], dtype='<U32')"
      ]
     },
     "execution_count": 11,
     "metadata": {},
     "output_type": "execute_result"
    }
   ],
   "source": [
    "np.array([10,20.0,30, \"python\"])"
   ]
  },
  {
   "cell_type": "code",
   "execution_count": 12,
   "id": "484174d6",
   "metadata": {},
   "outputs": [
    {
     "name": "stdout",
     "output_type": "stream",
     "text": [
      "time taken 0.057776689529418945\n"
     ]
    }
   ],
   "source": [
    "# 3. Numpy is faster than list\n",
    "\n",
    "import time\n",
    "start_time = time.time()\n",
    "[ ((i**2) + 10)/2   for i in range(0,100000)]\n",
    "end_time = time.time()\n",
    "print(\"time taken\", end_time - start_time)"
   ]
  },
  {
   "cell_type": "code",
   "execution_count": 13,
   "id": "fbdf62f8",
   "metadata": {},
   "outputs": [
    {
     "name": "stdout",
     "output_type": "stream",
     "text": [
      "time taken 0.002040386199951172\n"
     ]
    }
   ],
   "source": [
    "# 3. Numpy is faster than list\n",
    "import time\n",
    "import numpy as np\n",
    "ar1 = np.array(range(0,100000))\n",
    "start_time = time.time()\n",
    "((ar1**2)+10)/2\n",
    "end_time = time.time()\n",
    "print(\"time taken\", end_time - start_time)"
   ]
  },
  {
   "cell_type": "code",
   "execution_count": 14,
   "id": "6e6bf050",
   "metadata": {},
   "outputs": [
    {
     "data": {
      "text/plain": [
       "array(['10', '20.0', '30', 'python'], dtype='<U32')"
      ]
     },
     "execution_count": 14,
     "metadata": {},
     "output_type": "execute_result"
    }
   ],
   "source": [
    "ar1 = np.array([10,20.0,30, \"python\"])\n",
    "ar1"
   ]
  },
  {
   "cell_type": "code",
   "execution_count": 15,
   "id": "bfe964ff",
   "metadata": {},
   "outputs": [
    {
     "data": {
      "text/plain": [
       "numpy.ndarray"
      ]
     },
     "execution_count": 15,
     "metadata": {},
     "output_type": "execute_result"
    }
   ],
   "source": [
    "type(ar1)"
   ]
  },
  {
   "cell_type": "code",
   "execution_count": 16,
   "id": "f81c1091",
   "metadata": {},
   "outputs": [
    {
     "data": {
      "text/plain": [
       "numpy.str_"
      ]
     },
     "execution_count": 16,
     "metadata": {},
     "output_type": "execute_result"
    }
   ],
   "source": [
    "num = list(ar1)\n",
    "type(num[0])"
   ]
  },
  {
   "cell_type": "code",
   "execution_count": 17,
   "id": "24de66c9",
   "metadata": {},
   "outputs": [],
   "source": [
    "# list is 1 dimensional\n",
    "# numpy array can be n-dimensional"
   ]
  },
  {
   "cell_type": "code",
   "execution_count": 18,
   "id": "1a0d0eae",
   "metadata": {},
   "outputs": [
    {
     "data": {
      "text/plain": [
       "[[10, 20, 30], [1, 2, 3], [11, 12, 13]]"
      ]
     },
     "execution_count": 18,
     "metadata": {},
     "output_type": "execute_result"
    }
   ],
   "source": [
    "listolist = [  [10,20,30],  [1,2,3],   [11,12,13] ]\n",
    "listolist"
   ]
  },
  {
   "cell_type": "code",
   "execution_count": 19,
   "id": "0afb7d95",
   "metadata": {},
   "outputs": [
    {
     "data": {
      "text/plain": [
       "array([[10, 20, 30],\n",
       "       [ 1,  2,  3],\n",
       "       [11, 12, 13]])"
      ]
     },
     "execution_count": 19,
     "metadata": {},
     "output_type": "execute_result"
    }
   ],
   "source": [
    "np.array(listolist)"
   ]
  },
  {
   "cell_type": "code",
   "execution_count": 20,
   "id": "11fee5db",
   "metadata": {},
   "outputs": [
    {
     "data": {
      "text/plain": [
       "array([[[10, 20],\n",
       "        [30, 40]],\n",
       "\n",
       "       [[ 1,  2],\n",
       "        [ 3,  4]],\n",
       "\n",
       "       [[11, 12],\n",
       "        [13, 14]]])"
      ]
     },
     "execution_count": 20,
     "metadata": {},
     "output_type": "execute_result"
    }
   ],
   "source": [
    "listolist = [  [ [10,20],[30, 40]],  [[1,2],[3,4]],   [[11,12],[13,14]] ]\n",
    "np.array(listolist)"
   ]
  },
  {
   "cell_type": "code",
   "execution_count": 21,
   "id": "fb8f8011",
   "metadata": {},
   "outputs": [
    {
     "data": {
      "text/plain": [
       "array([10, 20, 30])"
      ]
     },
     "execution_count": 21,
     "metadata": {},
     "output_type": "execute_result"
    }
   ],
   "source": [
    "import numpy as np\n",
    "listo =  [10,20,30]\n",
    "ar1d = np.array(listo)\n",
    "ar1d"
   ]
  },
  {
   "cell_type": "code",
   "execution_count": 187,
   "id": "471d3a9d",
   "metadata": {},
   "outputs": [
    {
     "data": {
      "text/plain": [
       "3"
      ]
     },
     "execution_count": 187,
     "metadata": {},
     "output_type": "execute_result"
    }
   ],
   "source": [
    "# attributes of arrays\n",
    "len(ar1d)"
   ]
  },
  {
   "cell_type": "code",
   "execution_count": 23,
   "id": "fafcb68d",
   "metadata": {},
   "outputs": [
    {
     "data": {
      "text/plain": [
       "3"
      ]
     },
     "execution_count": 23,
     "metadata": {},
     "output_type": "execute_result"
    }
   ],
   "source": [
    "ar1d.size"
   ]
  },
  {
   "cell_type": "code",
   "execution_count": 24,
   "id": "698ad89e",
   "metadata": {},
   "outputs": [
    {
     "data": {
      "text/plain": [
       "(3,)"
      ]
     },
     "execution_count": 24,
     "metadata": {},
     "output_type": "execute_result"
    }
   ],
   "source": [
    "ar1d.shape"
   ]
  },
  {
   "cell_type": "code",
   "execution_count": 25,
   "id": "eaab6abb",
   "metadata": {},
   "outputs": [
    {
     "data": {
      "text/plain": [
       "dtype('int32')"
      ]
     },
     "execution_count": 25,
     "metadata": {},
     "output_type": "execute_result"
    }
   ],
   "source": [
    "ar1d.dtype"
   ]
  },
  {
   "cell_type": "code",
   "execution_count": 26,
   "id": "1274c00b",
   "metadata": {},
   "outputs": [
    {
     "data": {
      "text/plain": [
       "numpy.ndarray"
      ]
     },
     "execution_count": 26,
     "metadata": {},
     "output_type": "execute_result"
    }
   ],
   "source": [
    "type(ar1d)"
   ]
  },
  {
   "cell_type": "code",
   "execution_count": 27,
   "id": "14b1394e",
   "metadata": {},
   "outputs": [
    {
     "data": {
      "text/plain": [
       "array([[10, 20, 30],\n",
       "       [ 1,  2,  3],\n",
       "       [11, 12, 13],\n",
       "       [34, 35, 36]])"
      ]
     },
     "execution_count": 27,
     "metadata": {},
     "output_type": "execute_result"
    }
   ],
   "source": [
    "listolist = [  [10,20,30],  [1,2,3],   [11,12,13], [34,35,36] ]\n",
    "ar2d = np.array(listolist)\n",
    "ar2d"
   ]
  },
  {
   "cell_type": "code",
   "execution_count": 28,
   "id": "798691a0",
   "metadata": {},
   "outputs": [
    {
     "data": {
      "text/plain": [
       "4"
      ]
     },
     "execution_count": 28,
     "metadata": {},
     "output_type": "execute_result"
    }
   ],
   "source": [
    "len(ar2d)"
   ]
  },
  {
   "cell_type": "code",
   "execution_count": 29,
   "id": "af8e4eb9",
   "metadata": {},
   "outputs": [
    {
     "data": {
      "text/plain": [
       "12"
      ]
     },
     "execution_count": 29,
     "metadata": {},
     "output_type": "execute_result"
    }
   ],
   "source": [
    "ar2d.size"
   ]
  },
  {
   "cell_type": "code",
   "execution_count": 30,
   "id": "dd3b5173",
   "metadata": {},
   "outputs": [
    {
     "data": {
      "text/plain": [
       "4"
      ]
     },
     "execution_count": 30,
     "metadata": {},
     "output_type": "execute_result"
    }
   ],
   "source": [
    "r,c = ar2d.shape\n",
    "r"
   ]
  },
  {
   "cell_type": "code",
   "execution_count": 31,
   "id": "23bd0875",
   "metadata": {},
   "outputs": [
    {
     "data": {
      "text/plain": [
       "3"
      ]
     },
     "execution_count": 31,
     "metadata": {},
     "output_type": "execute_result"
    }
   ],
   "source": [
    "c"
   ]
  },
  {
   "cell_type": "code",
   "execution_count": 32,
   "id": "597b0699",
   "metadata": {},
   "outputs": [
    {
     "data": {
      "text/plain": [
       "array([[[10, 20],\n",
       "        [30, 40]],\n",
       "\n",
       "       [[ 1,  2],\n",
       "        [ 3,  4]],\n",
       "\n",
       "       [[11, 12],\n",
       "        [13, 14]]])"
      ]
     },
     "execution_count": 32,
     "metadata": {},
     "output_type": "execute_result"
    }
   ],
   "source": [
    "listolist = [  [ [10,20],[30, 40]],  [[1,2],[3,4]],   [[11,12],[13,14]] ]\n",
    "ar3d = np.array(listolist)\n",
    "ar3d"
   ]
  },
  {
   "cell_type": "code",
   "execution_count": 33,
   "id": "360d2db2",
   "metadata": {},
   "outputs": [
    {
     "data": {
      "text/plain": [
       "3"
      ]
     },
     "execution_count": 33,
     "metadata": {},
     "output_type": "execute_result"
    }
   ],
   "source": [
    "len(ar3d)"
   ]
  },
  {
   "cell_type": "code",
   "execution_count": 34,
   "id": "f3b071d9",
   "metadata": {},
   "outputs": [
    {
     "data": {
      "text/plain": [
       "12"
      ]
     },
     "execution_count": 34,
     "metadata": {},
     "output_type": "execute_result"
    }
   ],
   "source": [
    "ar3d.size"
   ]
  },
  {
   "cell_type": "code",
   "execution_count": 35,
   "id": "49cc0e03",
   "metadata": {},
   "outputs": [
    {
     "data": {
      "text/plain": [
       "(3, 2, 2)"
      ]
     },
     "execution_count": 35,
     "metadata": {},
     "output_type": "execute_result"
    }
   ],
   "source": [
    "ar3d.shape"
   ]
  },
  {
   "cell_type": "code",
   "execution_count": 36,
   "id": "381cf591",
   "metadata": {},
   "outputs": [
    {
     "data": {
      "text/plain": [
       "dtype('int32')"
      ]
     },
     "execution_count": 36,
     "metadata": {},
     "output_type": "execute_result"
    }
   ],
   "source": [
    "ar3d.dtype"
   ]
  },
  {
   "cell_type": "code",
   "execution_count": 37,
   "id": "ab003528",
   "metadata": {},
   "outputs": [
    {
     "data": {
      "text/plain": [
       "1"
      ]
     },
     "execution_count": 37,
     "metadata": {},
     "output_type": "execute_result"
    }
   ],
   "source": [
    "ar1d.ndim"
   ]
  },
  {
   "cell_type": "code",
   "execution_count": 38,
   "id": "8e395c84",
   "metadata": {},
   "outputs": [
    {
     "data": {
      "text/plain": [
       "2"
      ]
     },
     "execution_count": 38,
     "metadata": {},
     "output_type": "execute_result"
    }
   ],
   "source": [
    "ar2d.ndim"
   ]
  },
  {
   "cell_type": "code",
   "execution_count": 39,
   "id": "752369c8",
   "metadata": {},
   "outputs": [
    {
     "data": {
      "text/plain": [
       "3"
      ]
     },
     "execution_count": 39,
     "metadata": {},
     "output_type": "execute_result"
    }
   ],
   "source": [
    "ar3d.ndim"
   ]
  },
  {
   "cell_type": "code",
   "execution_count": 40,
   "id": "e44d578d",
   "metadata": {},
   "outputs": [],
   "source": [
    "# different ways of creating arrays using numpy functions"
   ]
  },
  {
   "cell_type": "code",
   "execution_count": 41,
   "id": "f608a812",
   "metadata": {},
   "outputs": [],
   "source": [
    "# range(2.1,10, 1)"
   ]
  },
  {
   "cell_type": "code",
   "execution_count": 42,
   "id": "8a670a3d",
   "metadata": {},
   "outputs": [
    {
     "data": {
      "text/plain": [
       "array([2.1, 2.6, 3.1, 3.6, 4.1, 4.6, 5.1, 5.6, 6.1, 6.6, 7.1, 7.6, 8.1,\n",
       "       8.6, 9.1, 9.6])"
      ]
     },
     "execution_count": 42,
     "metadata": {},
     "output_type": "execute_result"
    }
   ],
   "source": [
    "np.arange(2.1,10, 0.5)"
   ]
  },
  {
   "cell_type": "code",
   "execution_count": 178,
   "id": "d54312ce",
   "metadata": {},
   "outputs": [
    {
     "data": {
      "text/plain": [
       "(20,)"
      ]
     },
     "execution_count": 178,
     "metadata": {},
     "output_type": "execute_result"
    }
   ],
   "source": [
    "arr = np.arange(0,10, 0.5)\n",
    "arr.shape"
   ]
  },
  {
   "cell_type": "code",
   "execution_count": 179,
   "id": "57fd84e9",
   "metadata": {},
   "outputs": [
    {
     "data": {
      "text/plain": [
       "20"
      ]
     },
     "execution_count": 179,
     "metadata": {},
     "output_type": "execute_result"
    }
   ],
   "source": [
    "arr.size"
   ]
  },
  {
   "cell_type": "code",
   "execution_count": 180,
   "id": "f6292ece",
   "metadata": {},
   "outputs": [
    {
     "data": {
      "text/plain": [
       "array([[0. , 0.5, 1. , 1.5, 2. , 2.5, 3. , 3.5, 4. , 4.5, 5. , 5.5, 6. ,\n",
       "        6.5, 7. , 7.5, 8. , 8.5, 9. , 9.5]])"
      ]
     },
     "execution_count": 180,
     "metadata": {},
     "output_type": "execute_result"
    }
   ],
   "source": [
    "arr.reshape(1,20)"
   ]
  },
  {
   "cell_type": "code",
   "execution_count": 181,
   "id": "f086cc18",
   "metadata": {},
   "outputs": [
    {
     "data": {
      "text/plain": [
       "array([[0. ],\n",
       "       [0.5],\n",
       "       [1. ],\n",
       "       [1.5],\n",
       "       [2. ],\n",
       "       [2.5],\n",
       "       [3. ],\n",
       "       [3.5],\n",
       "       [4. ],\n",
       "       [4.5],\n",
       "       [5. ],\n",
       "       [5.5],\n",
       "       [6. ],\n",
       "       [6.5],\n",
       "       [7. ],\n",
       "       [7.5],\n",
       "       [8. ],\n",
       "       [8.5],\n",
       "       [9. ],\n",
       "       [9.5]])"
      ]
     },
     "execution_count": 181,
     "metadata": {},
     "output_type": "execute_result"
    }
   ],
   "source": [
    "arr.reshape(20,1)"
   ]
  },
  {
   "cell_type": "code",
   "execution_count": 182,
   "id": "e04e058e",
   "metadata": {},
   "outputs": [
    {
     "data": {
      "text/plain": [
       "array([[0. , 0.5, 1. , 1.5, 2. , 2.5, 3. , 3.5, 4. , 4.5],\n",
       "       [5. , 5.5, 6. , 6.5, 7. , 7.5, 8. , 8.5, 9. , 9.5]])"
      ]
     },
     "execution_count": 182,
     "metadata": {},
     "output_type": "execute_result"
    }
   ],
   "source": [
    "arr.reshape(2,10)"
   ]
  },
  {
   "cell_type": "code",
   "execution_count": 183,
   "id": "e1dae0ea",
   "metadata": {},
   "outputs": [
    {
     "data": {
      "text/plain": [
       "array([[0. , 0.5, 1. , 1.5, 2. ],\n",
       "       [2.5, 3. , 3.5, 4. , 4.5],\n",
       "       [5. , 5.5, 6. , 6.5, 7. ],\n",
       "       [7.5, 8. , 8.5, 9. , 9.5]])"
      ]
     },
     "execution_count": 183,
     "metadata": {},
     "output_type": "execute_result"
    }
   ],
   "source": [
    "arr.reshape(4,5)"
   ]
  },
  {
   "cell_type": "code",
   "execution_count": 184,
   "id": "e303886b",
   "metadata": {},
   "outputs": [
    {
     "ename": "ValueError",
     "evalue": "cannot reshape array of size 20 into shape (5,5)",
     "output_type": "error",
     "traceback": [
      "\u001b[1;31m---------------------------------------------------------------------------\u001b[0m",
      "\u001b[1;31mValueError\u001b[0m                                Traceback (most recent call last)",
      "Cell \u001b[1;32mIn[184], line 1\u001b[0m\n\u001b[1;32m----> 1\u001b[0m \u001b[43marr\u001b[49m\u001b[38;5;241;43m.\u001b[39;49m\u001b[43mreshape\u001b[49m\u001b[43m(\u001b[49m\u001b[38;5;241;43m5\u001b[39;49m\u001b[43m,\u001b[49m\u001b[38;5;241;43m5\u001b[39;49m\u001b[43m)\u001b[49m\n",
      "\u001b[1;31mValueError\u001b[0m: cannot reshape array of size 20 into shape (5,5)"
     ]
    }
   ],
   "source": [
    "arr.reshape(5,5)"
   ]
  },
  {
   "cell_type": "code",
   "execution_count": 49,
   "id": "f7224b5c",
   "metadata": {},
   "outputs": [
    {
     "data": {
      "text/plain": [
       "array([0., 0., 0., 0.])"
      ]
     },
     "execution_count": 49,
     "metadata": {},
     "output_type": "execute_result"
    }
   ],
   "source": [
    "np.zeros(4)"
   ]
  },
  {
   "cell_type": "code",
   "execution_count": 50,
   "id": "fc65f75b",
   "metadata": {},
   "outputs": [
    {
     "data": {
      "text/plain": [
       "array([[0., 0., 0., 0.],\n",
       "       [0., 0., 0., 0.]])"
      ]
     },
     "execution_count": 50,
     "metadata": {},
     "output_type": "execute_result"
    }
   ],
   "source": [
    "np.zeros( (2,4)  )"
   ]
  },
  {
   "cell_type": "code",
   "execution_count": 51,
   "id": "ba935868",
   "metadata": {},
   "outputs": [
    {
     "data": {
      "text/plain": [
       "array(['1', '1', '1', '1'], dtype='<U1')"
      ]
     },
     "execution_count": 51,
     "metadata": {},
     "output_type": "execute_result"
    }
   ],
   "source": [
    "np.ones( 4  , dtype = \"str\")"
   ]
  },
  {
   "cell_type": "code",
   "execution_count": 52,
   "id": "5ef32559",
   "metadata": {},
   "outputs": [
    {
     "data": {
      "text/plain": [
       "array([[1., 1.],\n",
       "       [1., 1.],\n",
       "       [1., 1.],\n",
       "       [1., 1.]])"
      ]
     },
     "execution_count": 52,
     "metadata": {},
     "output_type": "execute_result"
    }
   ],
   "source": [
    "np.ones( (4 , 2) )"
   ]
  },
  {
   "cell_type": "code",
   "execution_count": 53,
   "id": "c3eb7771",
   "metadata": {},
   "outputs": [
    {
     "data": {
      "text/plain": [
       "array([[1., 0., 0., 0.],\n",
       "       [0., 1., 0., 0.],\n",
       "       [0., 0., 1., 0.],\n",
       "       [0., 0., 0., 1.]])"
      ]
     },
     "execution_count": 53,
     "metadata": {},
     "output_type": "execute_result"
    }
   ],
   "source": [
    "np.identity(4)"
   ]
  },
  {
   "cell_type": "code",
   "execution_count": 54,
   "id": "3a24bb34",
   "metadata": {},
   "outputs": [
    {
     "data": {
      "text/plain": [
       "3"
      ]
     },
     "execution_count": 54,
     "metadata": {},
     "output_type": "execute_result"
    }
   ],
   "source": [
    "np.random.randint(10)"
   ]
  },
  {
   "cell_type": "code",
   "execution_count": 55,
   "id": "c33743cf",
   "metadata": {},
   "outputs": [
    {
     "data": {
      "text/plain": [
       "11"
      ]
     },
     "execution_count": 55,
     "metadata": {},
     "output_type": "execute_result"
    }
   ],
   "source": [
    "np.random.randint(low = 10, high = 20)"
   ]
  },
  {
   "cell_type": "code",
   "execution_count": 56,
   "id": "3b3a690a",
   "metadata": {},
   "outputs": [
    {
     "data": {
      "text/plain": [
       "array([15, 15, 17, 15, 13])"
      ]
     },
     "execution_count": 56,
     "metadata": {},
     "output_type": "execute_result"
    }
   ],
   "source": [
    "np.random.randint(low = 10, high = 20, size = 5)"
   ]
  },
  {
   "cell_type": "code",
   "execution_count": 57,
   "id": "fc3af43f",
   "metadata": {},
   "outputs": [
    {
     "data": {
      "text/plain": [
       "array([19, 10, 14, 17, 19])"
      ]
     },
     "execution_count": 57,
     "metadata": {},
     "output_type": "execute_result"
    }
   ],
   "source": [
    "np.random.seed(200)\n",
    "np.random.randint(low = 10, high = 20, size = 5)"
   ]
  },
  {
   "cell_type": "code",
   "execution_count": 58,
   "id": "d1d57061",
   "metadata": {},
   "outputs": [
    {
     "data": {
      "text/plain": [
       "array([19, 10, 14, 17, 19])"
      ]
     },
     "execution_count": 58,
     "metadata": {},
     "output_type": "execute_result"
    }
   ],
   "source": [
    "np.random.seed(200)\n",
    "np.random.randint(low = 10, high = 20, size = 5)"
   ]
  },
  {
   "cell_type": "code",
   "execution_count": null,
   "id": "4530e5e2",
   "metadata": {},
   "outputs": [],
   "source": []
  },
  {
   "cell_type": "code",
   "execution_count": 191,
   "id": "66d8d79b",
   "metadata": {},
   "outputs": [
    {
     "name": "stdout",
     "output_type": "stream",
     "text": [
      "[[ 10  20  30]\n",
      " [  1   2   3]\n",
      " [101 102 103]]\n"
     ]
    }
   ],
   "source": [
    "# indexing and slicing on 2d array\n",
    "n = [[10,20,30],[1,2,3], [101,102,103]]\n",
    "arr = np.array(n)\n",
    "print(arr)"
   ]
  },
  {
   "cell_type": "code",
   "execution_count": 60,
   "id": "79df6f7b",
   "metadata": {},
   "outputs": [
    {
     "data": {
      "text/plain": [
       "array([10, 20, 30])"
      ]
     },
     "execution_count": 60,
     "metadata": {},
     "output_type": "execute_result"
    }
   ],
   "source": [
    "Aarr[0]"
   ]
  },
  {
   "cell_type": "code",
   "execution_count": 61,
   "id": "58fcc03f",
   "metadata": {},
   "outputs": [
    {
     "data": {
      "text/plain": [
       "array([101, 102, 103])"
      ]
     },
     "execution_count": 61,
     "metadata": {},
     "output_type": "execute_result"
    }
   ],
   "source": [
    "arr[-1]"
   ]
  },
  {
   "cell_type": "code",
   "execution_count": 62,
   "id": "0f35b3c4",
   "metadata": {},
   "outputs": [
    {
     "data": {
      "text/plain": [
       "array([[10, 20, 30],\n",
       "       [ 1,  2,  3]])"
      ]
     },
     "execution_count": 62,
     "metadata": {},
     "output_type": "execute_result"
    }
   ],
   "source": [
    "arr[ 0 : 2]  # same dim"
   ]
  },
  {
   "cell_type": "code",
   "execution_count": 63,
   "id": "0f664d3d",
   "metadata": {},
   "outputs": [
    {
     "data": {
      "text/plain": [
       "10"
      ]
     },
     "execution_count": 63,
     "metadata": {},
     "output_type": "execute_result"
    }
   ],
   "source": [
    "arr[0][0]"
   ]
  },
  {
   "cell_type": "code",
   "execution_count": 64,
   "id": "d77e791d",
   "metadata": {},
   "outputs": [
    {
     "data": {
      "text/plain": [
       "102"
      ]
     },
     "execution_count": 64,
     "metadata": {},
     "output_type": "execute_result"
    }
   ],
   "source": [
    "arr[-1][1]"
   ]
  },
  {
   "cell_type": "code",
   "execution_count": 65,
   "id": "d3bbab40",
   "metadata": {},
   "outputs": [
    {
     "data": {
      "text/plain": [
       "array([[ 10,  20,  30],\n",
       "       [101, 102, 103]])"
      ]
     },
     "execution_count": 65,
     "metadata": {},
     "output_type": "execute_result"
    }
   ],
   "source": [
    "arr[ : :2]"
   ]
  },
  {
   "cell_type": "code",
   "execution_count": 66,
   "id": "e95093e3",
   "metadata": {},
   "outputs": [
    {
     "data": {
      "text/plain": [
       "array([[ 10,  20,  30],\n",
       "       [  1,   2,   3],\n",
       "       [101, 102, 103]])"
      ]
     },
     "execution_count": 66,
     "metadata": {},
     "output_type": "execute_result"
    }
   ],
   "source": [
    "# arr[row   , col]\n",
    "arr"
   ]
  },
  {
   "cell_type": "code",
   "execution_count": 67,
   "id": "ab0a879a",
   "metadata": {},
   "outputs": [
    {
     "data": {
      "text/plain": [
       "10"
      ]
     },
     "execution_count": 67,
     "metadata": {},
     "output_type": "execute_result"
    }
   ],
   "source": [
    "arr[0,0]"
   ]
  },
  {
   "cell_type": "code",
   "execution_count": 68,
   "id": "0285598d",
   "metadata": {},
   "outputs": [
    {
     "data": {
      "text/plain": [
       "2"
      ]
     },
     "execution_count": 68,
     "metadata": {},
     "output_type": "execute_result"
    }
   ],
   "source": [
    "arr[1,1]"
   ]
  },
  {
   "cell_type": "code",
   "execution_count": 69,
   "id": "495d21d7",
   "metadata": {},
   "outputs": [
    {
     "data": {
      "text/plain": [
       "30"
      ]
     },
     "execution_count": 69,
     "metadata": {},
     "output_type": "execute_result"
    }
   ],
   "source": [
    "arr[0,2]"
   ]
  },
  {
   "cell_type": "code",
   "execution_count": 70,
   "id": "a9617c7c",
   "metadata": {},
   "outputs": [
    {
     "data": {
      "text/plain": [
       "array([[10, 20],\n",
       "       [ 1,  2]])"
      ]
     },
     "execution_count": 70,
     "metadata": {},
     "output_type": "execute_result"
    }
   ],
   "source": [
    "# slicing\n",
    "arr[ 0 : 2   , 0 : 2   ]"
   ]
  },
  {
   "cell_type": "code",
   "execution_count": 71,
   "id": "0b0946b1",
   "metadata": {},
   "outputs": [
    {
     "data": {
      "text/plain": [
       "array([[ 10,  20,  30],\n",
       "       [  1,   2,   3],\n",
       "       [101, 102, 103]])"
      ]
     },
     "execution_count": 71,
     "metadata": {},
     "output_type": "execute_result"
    }
   ],
   "source": [
    "arr"
   ]
  },
  {
   "cell_type": "code",
   "execution_count": 72,
   "id": "d6f1161b",
   "metadata": {},
   "outputs": [
    {
     "data": {
      "text/plain": [
       "array([[ 10,  20],\n",
       "       [  1,   2],\n",
       "       [101, 102]])"
      ]
     },
     "execution_count": 72,
     "metadata": {},
     "output_type": "execute_result"
    }
   ],
   "source": [
    "# slicing\n",
    "arr[ :    , 0 : 2   ]"
   ]
  },
  {
   "cell_type": "code",
   "execution_count": 73,
   "id": "486a0a2c",
   "metadata": {},
   "outputs": [
    {
     "data": {
      "text/plain": [
       "array([[ 10,  30],\n",
       "       [  1,   3],\n",
       "       [101, 103]])"
      ]
     },
     "execution_count": 73,
     "metadata": {},
     "output_type": "execute_result"
    }
   ],
   "source": [
    "# slicing\n",
    "arr[ :    , : : 2  ]"
   ]
  },
  {
   "cell_type": "code",
   "execution_count": 192,
   "id": "d6c3b0bc",
   "metadata": {},
   "outputs": [
    {
     "data": {
      "text/plain": [
       "array([[ 10,  20,  30],\n",
       "       [  1,   2,   3],\n",
       "       [101, 102, 103]])"
      ]
     },
     "execution_count": 192,
     "metadata": {},
     "output_type": "execute_result"
    }
   ],
   "source": [
    "arr"
   ]
  },
  {
   "cell_type": "code",
   "execution_count": 196,
   "id": "ecfcdf57",
   "metadata": {
    "scrolled": true
   },
   "outputs": [
    {
     "data": {
      "text/plain": [
       "array([[ 10,  20,  30],\n",
       "       [  1,   2,   3],\n",
       "       [101, 102, 103]])"
      ]
     },
     "execution_count": 196,
     "metadata": {},
     "output_type": "execute_result"
    }
   ],
   "source": [
    "arr[ :  :   , : :   ]"
   ]
  },
  {
   "cell_type": "code",
   "execution_count": 76,
   "id": "601957f4",
   "metadata": {},
   "outputs": [
    {
     "data": {
      "text/plain": [
       "array([[ 10,  30],\n",
       "       [  1,   3],\n",
       "       [101, 103]])"
      ]
     },
     "execution_count": 76,
     "metadata": {},
     "output_type": "execute_result"
    }
   ],
   "source": [
    "arr[ :   ,    [0,-1]    ]"
   ]
  },
  {
   "cell_type": "code",
   "execution_count": 77,
   "id": "3d3ca92c",
   "metadata": {},
   "outputs": [
    {
     "data": {
      "text/plain": [
       "array([[ 10,  30,  10],\n",
       "       [  1,   3,   1],\n",
       "       [101, 103, 101]])"
      ]
     },
     "execution_count": 77,
     "metadata": {},
     "output_type": "execute_result"
    }
   ],
   "source": [
    "arr[ :   ,    [0,-1, 0]    ]"
   ]
  },
  {
   "cell_type": "code",
   "execution_count": 78,
   "id": "69fc8dd9",
   "metadata": {},
   "outputs": [
    {
     "data": {
      "text/plain": [
       "array([[101, 102, 103],\n",
       "       [ 10,  20,  30],\n",
       "       [101, 102, 103],\n",
       "       [  1,   2,   3]])"
      ]
     },
     "execution_count": 78,
     "metadata": {},
     "output_type": "execute_result"
    }
   ],
   "source": [
    "arr[ [-1,0,-1,1] ,    : ]"
   ]
  },
  {
   "cell_type": "code",
   "execution_count": 79,
   "id": "0164d925",
   "metadata": {},
   "outputs": [
    {
     "data": {
      "text/plain": [
       "array([[ 10,  20,  30],\n",
       "       [  1,   2,   3],\n",
       "       [101, 102, 103]])"
      ]
     },
     "execution_count": 79,
     "metadata": {},
     "output_type": "execute_result"
    }
   ],
   "source": [
    "arr"
   ]
  },
  {
   "cell_type": "code",
   "execution_count": 80,
   "id": "0d74d655",
   "metadata": {},
   "outputs": [
    {
     "data": {
      "text/plain": [
       "array([[101, 102],\n",
       "       [ 10,  20],\n",
       "       [101, 102],\n",
       "       [  1,   2]])"
      ]
     },
     "execution_count": 80,
     "metadata": {},
     "output_type": "execute_result"
    }
   ],
   "source": [
    "arr[ [-1,0,-1,1] ,    0 : 2 ]"
   ]
  },
  {
   "cell_type": "code",
   "execution_count": 81,
   "id": "52195016",
   "metadata": {},
   "outputs": [
    {
     "data": {
      "text/plain": [
       "array([[ 10,  20,  30],\n",
       "       [  1,   2,   3],\n",
       "       [101, 102, 103]])"
      ]
     },
     "execution_count": 81,
     "metadata": {},
     "output_type": "execute_result"
    }
   ],
   "source": [
    "arr"
   ]
  },
  {
   "cell_type": "code",
   "execution_count": 198,
   "id": "6a5f5c09",
   "metadata": {},
   "outputs": [
    {
     "data": {
      "text/plain": [
       "array([101,  20])"
      ]
     },
     "execution_count": 198,
     "metadata": {},
     "output_type": "execute_result"
    }
   ],
   "source": [
    "arr[ [-1,0] ,   [0,1]]"
   ]
  },
  {
   "cell_type": "code",
   "execution_count": 208,
   "id": "53c63938",
   "metadata": {},
   "outputs": [
    {
     "data": {
      "text/plain": [
       "array([  1, 103,  30])"
      ]
     },
     "execution_count": 208,
     "metadata": {},
     "output_type": "execute_result"
    }
   ],
   "source": [
    "arr[  [1,2,0]  , [0,2,2]  ]\n",
    "\n",
    "# A10\n",
    "# A22\n",
    "# A02"
   ]
  },
  {
   "cell_type": "code",
   "execution_count": null,
   "id": "b5449b03",
   "metadata": {},
   "outputs": [],
   "source": []
  },
  {
   "cell_type": "code",
   "execution_count": 84,
   "id": "240c7a24",
   "metadata": {},
   "outputs": [
    {
     "data": {
      "text/plain": [
       "array([[36, 26, 78, 52, 65],\n",
       "       [86, 89, 99, 24, 67],\n",
       "       [99, 21, 16, 52, 66],\n",
       "       [11, 17, 61, 37, 83],\n",
       "       [25, 11, 33, 95, 34]])"
      ]
     },
     "execution_count": 84,
     "metadata": {},
     "output_type": "execute_result"
    }
   ],
   "source": [
    "np.random.seed(200)\n",
    "arr = np.random.randint(low = 10, high = 100, size = 25).reshape(5,5)\n",
    "arr"
   ]
  },
  {
   "cell_type": "code",
   "execution_count": 85,
   "id": "968398cd",
   "metadata": {},
   "outputs": [],
   "source": [
    "# display the first 3 rows\n",
    "# display the first 3 columns\n",
    "# display the alternate rows\n",
    "# display aletrnate columns\n",
    "# display the alternate rows and alternate columns\n",
    "# display  rows index(2 to 4) , cols index(1 to 3)\n",
    "# display the alternate rows and last 3 columns\n",
    "\n",
    "# fetch 86, 66, 24, 83\n",
    "# fetch 0th,2nd and last rows ,all the columns"
   ]
  },
  {
   "cell_type": "code",
   "execution_count": 86,
   "id": "8b4a58e3",
   "metadata": {},
   "outputs": [
    {
     "data": {
      "text/plain": [
       "array([[36, 26, 78, 52, 65],\n",
       "       [86, 89, 99, 24, 67],\n",
       "       [99, 21, 16, 52, 66]])"
      ]
     },
     "execution_count": 86,
     "metadata": {},
     "output_type": "execute_result"
    }
   ],
   "source": [
    "# display the first 3 rows\n",
    "arr[ : 3]"
   ]
  },
  {
   "cell_type": "code",
   "execution_count": 87,
   "id": "a2e15209",
   "metadata": {},
   "outputs": [
    {
     "data": {
      "text/plain": [
       "array([[36, 26, 78],\n",
       "       [86, 89, 99],\n",
       "       [99, 21, 16],\n",
       "       [11, 17, 61],\n",
       "       [25, 11, 33]])"
      ]
     },
     "execution_count": 87,
     "metadata": {},
     "output_type": "execute_result"
    }
   ],
   "source": [
    "# display the first 3 columns\n",
    "arr[ :  , : 3]"
   ]
  },
  {
   "cell_type": "code",
   "execution_count": 88,
   "id": "9fccd6b0",
   "metadata": {},
   "outputs": [
    {
     "data": {
      "text/plain": [
       "array([[36, 26, 78, 52, 65],\n",
       "       [99, 21, 16, 52, 66],\n",
       "       [25, 11, 33, 95, 34]])"
      ]
     },
     "execution_count": 88,
     "metadata": {},
     "output_type": "execute_result"
    }
   ],
   "source": [
    "# display the alternate rows\n",
    "arr[ : :2]"
   ]
  },
  {
   "cell_type": "code",
   "execution_count": 89,
   "id": "d1c56e5b",
   "metadata": {},
   "outputs": [
    {
     "data": {
      "text/plain": [
       "array([[36, 78, 65],\n",
       "       [86, 99, 67],\n",
       "       [99, 16, 66],\n",
       "       [11, 61, 83],\n",
       "       [25, 33, 34]])"
      ]
     },
     "execution_count": 89,
     "metadata": {},
     "output_type": "execute_result"
    }
   ],
   "source": [
    "# display the alternate cols\n",
    "arr[ : , : :2]"
   ]
  },
  {
   "cell_type": "code",
   "execution_count": 90,
   "id": "84241663",
   "metadata": {},
   "outputs": [
    {
     "data": {
      "text/plain": [
       "array([[36, 78, 65],\n",
       "       [99, 16, 66],\n",
       "       [25, 33, 34]])"
      ]
     },
     "execution_count": 90,
     "metadata": {},
     "output_type": "execute_result"
    }
   ],
   "source": [
    "arr[ : :2, : :2]"
   ]
  },
  {
   "cell_type": "code",
   "execution_count": 91,
   "id": "fc7137de",
   "metadata": {},
   "outputs": [
    {
     "data": {
      "text/plain": [
       "array([[21, 16, 52],\n",
       "       [17, 61, 37],\n",
       "       [11, 33, 95]])"
      ]
     },
     "execution_count": 91,
     "metadata": {},
     "output_type": "execute_result"
    }
   ],
   "source": [
    "# display  rows index)(2 to 4 , cols index(1 to 3)\n",
    "arr[ 2 : 5,   1 : 4]"
   ]
  },
  {
   "cell_type": "code",
   "execution_count": 92,
   "id": "77409999",
   "metadata": {},
   "outputs": [
    {
     "data": {
      "text/plain": [
       "array([[78, 52, 65],\n",
       "       [16, 52, 66],\n",
       "       [33, 95, 34]])"
      ]
     },
     "execution_count": 92,
     "metadata": {},
     "output_type": "execute_result"
    }
   ],
   "source": [
    "# display the alternate rows and last 3 columns\n",
    "\n",
    "arr[ : :2,   -3 : ]"
   ]
  },
  {
   "cell_type": "code",
   "execution_count": 93,
   "id": "a879d443",
   "metadata": {},
   "outputs": [],
   "source": [
    "# fetch 86, 66, 24, 83"
   ]
  },
  {
   "cell_type": "code",
   "execution_count": 94,
   "id": "dfddcc4d",
   "metadata": {},
   "outputs": [
    {
     "data": {
      "text/plain": [
       "array([[36, 26, 78, 52, 65],\n",
       "       [86, 89, 99, 24, 67],\n",
       "       [99, 21, 16, 52, 66],\n",
       "       [11, 17, 61, 37, 83],\n",
       "       [25, 11, 33, 95, 34]])"
      ]
     },
     "execution_count": 94,
     "metadata": {},
     "output_type": "execute_result"
    }
   ],
   "source": [
    "arr"
   ]
  },
  {
   "cell_type": "code",
   "execution_count": 95,
   "id": "3c2bfb39",
   "metadata": {},
   "outputs": [
    {
     "data": {
      "text/plain": [
       "array([86, 66, 24, 83])"
      ]
     },
     "execution_count": 95,
     "metadata": {},
     "output_type": "execute_result"
    }
   ],
   "source": [
    "# 86 - A10\n",
    "# 66 - A24\n",
    "# 24 - A13\n",
    "# 83 - A34\n",
    "arr [ [1,2,1,3],  [0,4,3,4] ]"
   ]
  },
  {
   "cell_type": "code",
   "execution_count": 96,
   "id": "87ecffea",
   "metadata": {},
   "outputs": [
    {
     "data": {
      "text/plain": [
       "array([[36, 26, 78, 52, 65],\n",
       "       [99, 21, 16, 52, 66],\n",
       "       [25, 11, 33, 95, 34]])"
      ]
     },
     "execution_count": 96,
     "metadata": {},
     "output_type": "execute_result"
    }
   ],
   "source": [
    "# fetch 0th,2nd and last rows ,all the columns\n",
    "arr[  [0,2,4], : ]"
   ]
  },
  {
   "cell_type": "code",
   "execution_count": 97,
   "id": "5a8a962a",
   "metadata": {},
   "outputs": [
    {
     "data": {
      "text/plain": [
       "array([[36, 26, 78, 52, 65],\n",
       "       [86, 89, 99, 24, 67],\n",
       "       [99, 21, 16, 52, 66],\n",
       "       [11, 17, 61, 37, 83],\n",
       "       [25, 11, 33, 95, 34]])"
      ]
     },
     "execution_count": 97,
     "metadata": {},
     "output_type": "execute_result"
    }
   ],
   "source": [
    "arr"
   ]
  },
  {
   "cell_type": "code",
   "execution_count": 98,
   "id": "40622910",
   "metadata": {},
   "outputs": [
    {
     "data": {
      "text/plain": [
       "array([[25, 11, 33, 95, 34],\n",
       "       [11, 17, 61, 37, 83],\n",
       "       [99, 21, 16, 52, 66],\n",
       "       [86, 89, 99, 24, 67],\n",
       "       [36, 26, 78, 52, 65]])"
      ]
     },
     "execution_count": 98,
     "metadata": {},
     "output_type": "execute_result"
    }
   ],
   "source": [
    "arr[ : :-1]"
   ]
  },
  {
   "cell_type": "code",
   "execution_count": 99,
   "id": "d93afd45",
   "metadata": {},
   "outputs": [
    {
     "data": {
      "text/plain": [
       "array([[65, 52, 78, 26, 36],\n",
       "       [67, 24, 99, 89, 86],\n",
       "       [66, 52, 16, 21, 99],\n",
       "       [83, 37, 61, 17, 11],\n",
       "       [34, 95, 33, 11, 25]])"
      ]
     },
     "execution_count": 99,
     "metadata": {},
     "output_type": "execute_result"
    }
   ],
   "source": [
    "arr[ :   , : :-1]"
   ]
  },
  {
   "cell_type": "code",
   "execution_count": 100,
   "id": "e33491a4",
   "metadata": {},
   "outputs": [
    {
     "data": {
      "text/plain": [
       "array([[34, 95, 33, 11, 25],\n",
       "       [83, 37, 61, 17, 11],\n",
       "       [66, 52, 16, 21, 99],\n",
       "       [67, 24, 99, 89, 86],\n",
       "       [65, 52, 78, 26, 36]])"
      ]
     },
     "execution_count": 100,
     "metadata": {},
     "output_type": "execute_result"
    }
   ],
   "source": [
    "arr[ : :-1 , : :-1 ]"
   ]
  },
  {
   "cell_type": "code",
   "execution_count": 101,
   "id": "9a365ce2",
   "metadata": {},
   "outputs": [],
   "source": [
    "# indexing"
   ]
  },
  {
   "cell_type": "code",
   "execution_count": 209,
   "id": "a8618648",
   "metadata": {},
   "outputs": [
    {
     "data": {
      "text/plain": [
       "array([[1, 0, 2],\n",
       "       [2, 4, 5]])"
      ]
     },
     "execution_count": 209,
     "metadata": {},
     "output_type": "execute_result"
    }
   ],
   "source": [
    "arr = np.array([[1,0,2],[ 2,4,5]])\n",
    "arr\n",
    "# [[1,2]\n",
    "# [0,4]\n",
    "# [2,5]]"
   ]
  },
  {
   "cell_type": "code",
   "execution_count": 210,
   "id": "5e72f51b",
   "metadata": {},
   "outputs": [
    {
     "data": {
      "text/plain": [
       "array([[1, 2],\n",
       "       [0, 4],\n",
       "       [2, 5]])"
      ]
     },
     "execution_count": 210,
     "metadata": {},
     "output_type": "execute_result"
    }
   ],
   "source": [
    "arr.transpose()"
   ]
  },
  {
   "cell_type": "code",
   "execution_count": 211,
   "id": "51b31ea5",
   "metadata": {},
   "outputs": [
    {
     "data": {
      "text/plain": [
       "array([[[10, 20],\n",
       "        [30, 40]],\n",
       "\n",
       "       [[ 1,  2],\n",
       "        [ 3,  4]],\n",
       "\n",
       "       [[11, 12],\n",
       "        [13, 14]]])"
      ]
     },
     "execution_count": 211,
     "metadata": {},
     "output_type": "execute_result"
    }
   ],
   "source": [
    "ar3d"
   ]
  },
  {
   "cell_type": "code",
   "execution_count": 105,
   "id": "68b3dee6",
   "metadata": {},
   "outputs": [
    {
     "data": {
      "text/plain": [
       "10"
      ]
     },
     "execution_count": 105,
     "metadata": {},
     "output_type": "execute_result"
    }
   ],
   "source": [
    "ar3d[0,0,0]"
   ]
  },
  {
   "cell_type": "code",
   "execution_count": 106,
   "id": "35c6f814",
   "metadata": {},
   "outputs": [
    {
     "data": {
      "text/plain": [
       "array([[[10]],\n",
       "\n",
       "       [[ 1]]])"
      ]
     },
     "execution_count": 106,
     "metadata": {},
     "output_type": "execute_result"
    }
   ],
   "source": [
    "ar3d[0 : 2, 0 : 1 , 0 : 1]"
   ]
  },
  {
   "cell_type": "code",
   "execution_count": 212,
   "id": "9b00ba4b",
   "metadata": {},
   "outputs": [
    {
     "data": {
      "text/plain": [
       "array([10, 20, 30])"
      ]
     },
     "execution_count": 212,
     "metadata": {},
     "output_type": "execute_result"
    }
   ],
   "source": [
    "ar1d"
   ]
  },
  {
   "cell_type": "code",
   "execution_count": 107,
   "id": "ad16ce6b",
   "metadata": {},
   "outputs": [
    {
     "data": {
      "text/plain": [
       "array([20, 30, 40])"
      ]
     },
     "execution_count": 107,
     "metadata": {},
     "output_type": "execute_result"
    }
   ],
   "source": [
    "# Performing arithmatic operations on arrays\n",
    "# +, -, *, /,//,%,**\n",
    "ar1d  + 10"
   ]
  },
  {
   "cell_type": "code",
   "execution_count": 108,
   "id": "f4ed595e",
   "metadata": {},
   "outputs": [
    {
     "data": {
      "text/plain": [
       "array([20, 40, 60])"
      ]
     },
     "execution_count": 108,
     "metadata": {},
     "output_type": "execute_result"
    }
   ],
   "source": [
    "ar1d  * 2"
   ]
  },
  {
   "cell_type": "code",
   "execution_count": 109,
   "id": "9e8a1558",
   "metadata": {},
   "outputs": [
    {
     "data": {
      "text/plain": [
       "array([[20, 30, 40],\n",
       "       [11, 12, 13],\n",
       "       [21, 22, 23],\n",
       "       [44, 45, 46]])"
      ]
     },
     "execution_count": 109,
     "metadata": {},
     "output_type": "execute_result"
    }
   ],
   "source": [
    "ar2d  + 10"
   ]
  },
  {
   "cell_type": "code",
   "execution_count": 110,
   "id": "aadc2f9a",
   "metadata": {},
   "outputs": [
    {
     "data": {
      "text/plain": [
       "array([[[20, 30],\n",
       "        [40, 50]],\n",
       "\n",
       "       [[11, 12],\n",
       "        [13, 14]],\n",
       "\n",
       "       [[21, 22],\n",
       "        [23, 24]]])"
      ]
     },
     "execution_count": 110,
     "metadata": {},
     "output_type": "execute_result"
    }
   ],
   "source": [
    "ar3d + 10"
   ]
  },
  {
   "cell_type": "code",
   "execution_count": 111,
   "id": "490313de",
   "metadata": {},
   "outputs": [
    {
     "data": {
      "text/plain": [
       "array([12, 24, 35])"
      ]
     },
     "execution_count": 111,
     "metadata": {},
     "output_type": "execute_result"
    }
   ],
   "source": [
    "ar1d + np.array([2,4,5])"
   ]
  },
  {
   "cell_type": "code",
   "execution_count": 175,
   "id": "47d9dc66",
   "metadata": {},
   "outputs": [
    {
     "ename": "ValueError",
     "evalue": "operands could not be broadcast together with shapes (3,) (4,) ",
     "output_type": "error",
     "traceback": [
      "\u001b[1;31m---------------------------------------------------------------------------\u001b[0m",
      "\u001b[1;31mValueError\u001b[0m                                Traceback (most recent call last)",
      "Cell \u001b[1;32mIn[175], line 1\u001b[0m\n\u001b[1;32m----> 1\u001b[0m \u001b[43mar1d\u001b[49m\u001b[43m \u001b[49m\u001b[38;5;241;43m+\u001b[39;49m\u001b[43m \u001b[49m\u001b[43mnp\u001b[49m\u001b[38;5;241;43m.\u001b[39;49m\u001b[43marray\u001b[49m\u001b[43m(\u001b[49m\u001b[43m[\u001b[49m\u001b[38;5;241;43m2\u001b[39;49m\u001b[43m,\u001b[49m\u001b[38;5;241;43m4\u001b[39;49m\u001b[43m,\u001b[49m\u001b[38;5;241;43m5\u001b[39;49m\u001b[43m,\u001b[49m\u001b[38;5;241;43m9\u001b[39;49m\u001b[43m]\u001b[49m\u001b[43m)\u001b[49m\n",
      "\u001b[1;31mValueError\u001b[0m: operands could not be broadcast together with shapes (3,) (4,) "
     ]
    }
   ],
   "source": [
    "ar1d + np.array([2,4,5,9])"
   ]
  },
  {
   "cell_type": "code",
   "execution_count": 213,
   "id": "15f39a26",
   "metadata": {},
   "outputs": [
    {
     "data": {
      "text/plain": [
       "array([[1, 2, 3],\n",
       "       [1, 2, 3],\n",
       "       [1, 2, 3],\n",
       "       [1, 2, 3]])"
      ]
     },
     "execution_count": 213,
     "metadata": {},
     "output_type": "execute_result"
    }
   ],
   "source": [
    "ar2d2 = np.array([[1,2,3], [1,2,3],[1,2,3],[1,2,3]])\n",
    "ar2d2"
   ]
  },
  {
   "cell_type": "code",
   "execution_count": 113,
   "id": "970eeee4",
   "metadata": {},
   "outputs": [
    {
     "data": {
      "text/plain": [
       "array([[11, 22, 33],\n",
       "       [ 2,  4,  6],\n",
       "       [12, 14, 16],\n",
       "       [35, 37, 39]])"
      ]
     },
     "execution_count": 113,
     "metadata": {},
     "output_type": "execute_result"
    }
   ],
   "source": [
    "ar2d + ar2d2"
   ]
  },
  {
   "cell_type": "code",
   "execution_count": 114,
   "id": "db04a819",
   "metadata": {},
   "outputs": [
    {
     "data": {
      "text/plain": [
       "array([[ 10,  40,  90],\n",
       "       [  1,   4,   9],\n",
       "       [ 11,  24,  39],\n",
       "       [ 34,  70, 108]])"
      ]
     },
     "execution_count": 114,
     "metadata": {},
     "output_type": "execute_result"
    }
   ],
   "source": [
    "ar2d * ar2d2"
   ]
  },
  {
   "cell_type": "code",
   "execution_count": 214,
   "id": "d4bac01b",
   "metadata": {},
   "outputs": [
    {
     "data": {
      "text/plain": [
       "array([1, 2, 3])"
      ]
     },
     "execution_count": 214,
     "metadata": {},
     "output_type": "execute_result"
    }
   ],
   "source": [
    "newAr = np.array([1,2,3])\n",
    "newAr"
   ]
  },
  {
   "cell_type": "code",
   "execution_count": 116,
   "id": "7521b0df",
   "metadata": {},
   "outputs": [
    {
     "data": {
      "text/plain": [
       "array([[10, 20, 30],\n",
       "       [ 1,  2,  3],\n",
       "       [11, 12, 13],\n",
       "       [34, 35, 36]])"
      ]
     },
     "execution_count": 116,
     "metadata": {},
     "output_type": "execute_result"
    }
   ],
   "source": [
    "ar2d"
   ]
  },
  {
   "cell_type": "code",
   "execution_count": 117,
   "id": "c48b45d8",
   "metadata": {},
   "outputs": [
    {
     "data": {
      "text/plain": [
       "array([[11, 22, 33],\n",
       "       [ 2,  4,  6],\n",
       "       [12, 14, 16],\n",
       "       [35, 37, 39]])"
      ]
     },
     "execution_count": 117,
     "metadata": {},
     "output_type": "execute_result"
    }
   ],
   "source": [
    "ar2d + newAr"
   ]
  },
  {
   "cell_type": "code",
   "execution_count": 118,
   "id": "0f0f3702",
   "metadata": {},
   "outputs": [
    {
     "data": {
      "text/plain": [
       "(4, 3)"
      ]
     },
     "execution_count": 118,
     "metadata": {},
     "output_type": "execute_result"
    }
   ],
   "source": [
    "ar2d.shape"
   ]
  },
  {
   "cell_type": "code",
   "execution_count": 119,
   "id": "69e1a541",
   "metadata": {},
   "outputs": [
    {
     "data": {
      "text/plain": [
       "(3,)"
      ]
     },
     "execution_count": 119,
     "metadata": {},
     "output_type": "execute_result"
    }
   ],
   "source": [
    "newAr.shape"
   ]
  },
  {
   "cell_type": "code",
   "execution_count": 120,
   "id": "88046d79",
   "metadata": {},
   "outputs": [
    {
     "data": {
      "text/plain": [
       "array([[10, 20, 30],\n",
       "       [ 1,  2,  3],\n",
       "       [11, 12, 13],\n",
       "       [34, 35, 36]])"
      ]
     },
     "execution_count": 120,
     "metadata": {},
     "output_type": "execute_result"
    }
   ],
   "source": [
    "ar2d"
   ]
  },
  {
   "cell_type": "code",
   "execution_count": 121,
   "id": "78555564",
   "metadata": {},
   "outputs": [
    {
     "data": {
      "text/plain": [
       "array([1, 2, 3])"
      ]
     },
     "execution_count": 121,
     "metadata": {},
     "output_type": "execute_result"
    }
   ],
   "source": [
    "newAr"
   ]
  },
  {
   "cell_type": "code",
   "execution_count": 122,
   "id": "bdb6510a",
   "metadata": {},
   "outputs": [
    {
     "data": {
      "text/plain": [
       "array([[ 6,  9, 10],\n",
       "       [ 6,  1,  1],\n",
       "       [ 2,  8,  7],\n",
       "       [10,  3,  5]])"
      ]
     },
     "execution_count": 122,
     "metadata": {},
     "output_type": "execute_result"
    }
   ],
   "source": [
    "import numpy as np\n",
    "np.random.seed(1)\n",
    "arr2d =np.random.randint(low=1 , high= 12, size = 12).reshape(4,3)\n",
    "arr2d"
   ]
  },
  {
   "cell_type": "code",
   "execution_count": 123,
   "id": "6fad685b",
   "metadata": {},
   "outputs": [
    {
     "data": {
      "text/plain": [
       "array([[ 6, 18, 30],\n",
       "       [ 6,  2,  3],\n",
       "       [ 2, 16, 21],\n",
       "       [10,  6, 15]])"
      ]
     },
     "execution_count": 123,
     "metadata": {},
     "output_type": "execute_result"
    }
   ],
   "source": [
    "arr2d * newAr"
   ]
  },
  {
   "cell_type": "code",
   "execution_count": 124,
   "id": "f77e5ce8",
   "metadata": {},
   "outputs": [
    {
     "data": {
      "text/plain": [
       "array([1, 2, 3])"
      ]
     },
     "execution_count": 124,
     "metadata": {},
     "output_type": "execute_result"
    }
   ],
   "source": [
    "newAr"
   ]
  },
  {
   "cell_type": "code",
   "execution_count": 125,
   "id": "b50d9e9d",
   "metadata": {},
   "outputs": [
    {
     "data": {
      "text/plain": [
       "array([[10, 20, 30],\n",
       "       [ 1,  2,  3],\n",
       "       [11, 12, 13],\n",
       "       [34, 35, 36]])"
      ]
     },
     "execution_count": 125,
     "metadata": {},
     "output_type": "execute_result"
    }
   ],
   "source": [
    "ar2d"
   ]
  },
  {
   "cell_type": "code",
   "execution_count": 126,
   "id": "98219005",
   "metadata": {},
   "outputs": [
    {
     "data": {
      "text/plain": [
       "(4, 3)"
      ]
     },
     "execution_count": 126,
     "metadata": {},
     "output_type": "execute_result"
    }
   ],
   "source": [
    "ar2d.shape"
   ]
  },
  {
   "cell_type": "code",
   "execution_count": 127,
   "id": "fb4e680d",
   "metadata": {},
   "outputs": [
    {
     "data": {
      "text/plain": [
       "(3,)"
      ]
     },
     "execution_count": 127,
     "metadata": {},
     "output_type": "execute_result"
    }
   ],
   "source": [
    "newAr.shape"
   ]
  },
  {
   "cell_type": "code",
   "execution_count": 128,
   "id": "7ca91964",
   "metadata": {},
   "outputs": [
    {
     "data": {
      "text/plain": [
       "array([[140],\n",
       "       [ 14],\n",
       "       [ 74],\n",
       "       [212]])"
      ]
     },
     "execution_count": 128,
     "metadata": {},
     "output_type": "execute_result"
    }
   ],
   "source": [
    "ar2d.dot(newAr.reshape(3,1))"
   ]
  },
  {
   "cell_type": "code",
   "execution_count": 129,
   "id": "669a8a0b",
   "metadata": {},
   "outputs": [
    {
     "data": {
      "text/plain": [
       "array([[36, 26, 78, 52, 65],\n",
       "       [86, 89, 99, 24, 67],\n",
       "       [99, 21, 16, 52, 66],\n",
       "       [11, 17, 61, 37, 83],\n",
       "       [25, 11, 33, 95, 34]])"
      ]
     },
     "execution_count": 129,
     "metadata": {},
     "output_type": "execute_result"
    }
   ],
   "source": [
    "# comparison operators\n",
    "# >, <, >=, <= , !=, ==\n",
    "np.random.seed(200)\n",
    "arr = np.random.randint(low = 10, \n",
    "                        high = 100, \n",
    "                        size = 25).reshape(5,5)\n",
    "arr"
   ]
  },
  {
   "cell_type": "code",
   "execution_count": 130,
   "id": "05f4090a",
   "metadata": {},
   "outputs": [
    {
     "data": {
      "text/plain": [
       "array([[ True,  True,  True,  True,  True],\n",
       "       [ True,  True,  True,  True,  True],\n",
       "       [ True,  True, False,  True,  True],\n",
       "       [False, False,  True,  True,  True],\n",
       "       [ True, False,  True,  True,  True]])"
      ]
     },
     "execution_count": 130,
     "metadata": {},
     "output_type": "execute_result"
    }
   ],
   "source": [
    "arr > 18"
   ]
  },
  {
   "cell_type": "code",
   "execution_count": 131,
   "id": "312c2544",
   "metadata": {},
   "outputs": [
    {
     "data": {
      "text/plain": [
       "array([36, 26, 78, 52, 65, 86, 89, 99, 24, 67, 99, 21, 52, 66, 61, 37, 83,\n",
       "       25, 33, 95, 34])"
      ]
     },
     "execution_count": 131,
     "metadata": {},
     "output_type": "execute_result"
    }
   ],
   "source": [
    "arr [arr > 18]"
   ]
  },
  {
   "cell_type": "code",
   "execution_count": 132,
   "id": "b0949069",
   "metadata": {},
   "outputs": [
    {
     "data": {
      "text/plain": [
       "array([16, 11, 17, 11])"
      ]
     },
     "execution_count": 132,
     "metadata": {},
     "output_type": "execute_result"
    }
   ],
   "source": [
    "arr [arr < 18]"
   ]
  },
  {
   "cell_type": "code",
   "execution_count": 133,
   "id": "ce58fc83",
   "metadata": {},
   "outputs": [
    {
     "data": {
      "text/plain": [
       "(array([2, 3, 3, 4], dtype=int64), array([2, 0, 1, 1], dtype=int64))"
      ]
     },
     "execution_count": 133,
     "metadata": {},
     "output_type": "execute_result"
    }
   ],
   "source": [
    "np.where(arr < 18)"
   ]
  },
  {
   "cell_type": "code",
   "execution_count": 134,
   "id": "50d31606",
   "metadata": {},
   "outputs": [
    {
     "data": {
      "text/plain": [
       "array([['>=18', '>=18', '>=18', '>=18', '>=18'],\n",
       "       ['>=18', '>=18', '>=18', '>=18', '>=18'],\n",
       "       ['>=18', '>=18', '<18', '>=18', '>=18'],\n",
       "       ['<18', '<18', '>=18', '>=18', '>=18'],\n",
       "       ['>=18', '<18', '>=18', '>=18', '>=18']], dtype='<U4')"
      ]
     },
     "execution_count": 134,
     "metadata": {},
     "output_type": "execute_result"
    }
   ],
   "source": [
    "np.where(arr < 18,  \"<18\" , \">=18\")"
   ]
  },
  {
   "cell_type": "code",
   "execution_count": 135,
   "id": "66ea30fe",
   "metadata": {},
   "outputs": [
    {
     "data": {
      "text/plain": [
       "array([['>=18', '>=18', '>=18', '>=18', '>=18'],\n",
       "       ['>=18', '>=18', '>=18', '>=18', '>=18'],\n",
       "       ['>=18', '>=18', '<18', '>=18', '>=18'],\n",
       "       ['<18', '<18', '>=18', '>=18', '>=18'],\n",
       "       ['>=18', '<18', '>=18', '>=18', '>=18']], dtype='<U4')"
      ]
     },
     "execution_count": 135,
     "metadata": {},
     "output_type": "execute_result"
    }
   ],
   "source": [
    "np.where(arr < 18, \"<18\", \">=18\")"
   ]
  },
  {
   "cell_type": "code",
   "execution_count": null,
   "id": "0c1802d7",
   "metadata": {},
   "outputs": [],
   "source": []
  },
  {
   "cell_type": "code",
   "execution_count": 136,
   "id": "4cda63ca",
   "metadata": {},
   "outputs": [
    {
     "data": {
      "text/plain": [
       "array([ 1,  2,  5, 10])"
      ]
     },
     "execution_count": 136,
     "metadata": {},
     "output_type": "execute_result"
    }
   ],
   "source": [
    "import numpy as np\n",
    "\n",
    "A1 = np.array([1,2,5,10])\n",
    "A1"
   ]
  },
  {
   "cell_type": "code",
   "execution_count": 137,
   "id": "8add6af6",
   "metadata": {},
   "outputs": [
    {
     "data": {
      "text/plain": [
       "18"
      ]
     },
     "execution_count": 137,
     "metadata": {},
     "output_type": "execute_result"
    }
   ],
   "source": [
    "np.sum(A1)"
   ]
  },
  {
   "cell_type": "code",
   "execution_count": 138,
   "id": "a052cdea",
   "metadata": {},
   "outputs": [
    {
     "data": {
      "text/plain": [
       "1"
      ]
     },
     "execution_count": 138,
     "metadata": {},
     "output_type": "execute_result"
    }
   ],
   "source": [
    "np.min(A1)"
   ]
  },
  {
   "cell_type": "code",
   "execution_count": 139,
   "id": "4d4111d6",
   "metadata": {},
   "outputs": [
    {
     "data": {
      "text/plain": [
       "10"
      ]
     },
     "execution_count": 139,
     "metadata": {},
     "output_type": "execute_result"
    }
   ],
   "source": [
    "np.max(A1)"
   ]
  },
  {
   "cell_type": "code",
   "execution_count": 140,
   "id": "8cd43cb9",
   "metadata": {},
   "outputs": [
    {
     "data": {
      "text/plain": [
       "4.5"
      ]
     },
     "execution_count": 140,
     "metadata": {},
     "output_type": "execute_result"
    }
   ],
   "source": [
    "np.mean(A1)"
   ]
  },
  {
   "cell_type": "code",
   "execution_count": 141,
   "id": "f8168057",
   "metadata": {},
   "outputs": [
    {
     "data": {
      "text/plain": [
       "3.5"
      ]
     },
     "execution_count": 141,
     "metadata": {},
     "output_type": "execute_result"
    }
   ],
   "source": [
    "np.std(A1)"
   ]
  },
  {
   "cell_type": "code",
   "execution_count": 142,
   "id": "93f4ae79",
   "metadata": {},
   "outputs": [
    {
     "data": {
      "text/plain": [
       "12.25"
      ]
     },
     "execution_count": 142,
     "metadata": {},
     "output_type": "execute_result"
    }
   ],
   "source": [
    "np.var(A1)"
   ]
  },
  {
   "cell_type": "code",
   "execution_count": 143,
   "id": "bffbd629",
   "metadata": {},
   "outputs": [
    {
     "data": {
      "text/plain": [
       "array([  1,   4,  25, 100], dtype=int32)"
      ]
     },
     "execution_count": 143,
     "metadata": {},
     "output_type": "execute_result"
    }
   ],
   "source": [
    "np.power(A1,2)"
   ]
  },
  {
   "cell_type": "code",
   "execution_count": 144,
   "id": "fb1df79e",
   "metadata": {},
   "outputs": [
    {
     "data": {
      "text/plain": [
       "array([1.        , 1.41421356, 2.23606798, 3.16227766])"
      ]
     },
     "execution_count": 144,
     "metadata": {},
     "output_type": "execute_result"
    }
   ],
   "source": [
    "np.sqrt(A1)"
   ]
  },
  {
   "cell_type": "code",
   "execution_count": 145,
   "id": "e9f12995",
   "metadata": {},
   "outputs": [
    {
     "data": {
      "text/plain": [
       "array([0.        , 0.69314718, 1.60943791, 2.30258509])"
      ]
     },
     "execution_count": 145,
     "metadata": {},
     "output_type": "execute_result"
    }
   ],
   "source": [
    "np.log(A1)"
   ]
  },
  {
   "cell_type": "code",
   "execution_count": 146,
   "id": "8af1313a",
   "metadata": {},
   "outputs": [
    {
     "data": {
      "text/plain": [
       "array([[36, 26, 78, 52, 65],\n",
       "       [86, 89, 99, 24, 67],\n",
       "       [99, 21, 16, 52, 66],\n",
       "       [11, 17, 61, 37, 83],\n",
       "       [25, 11, 33, 95, 34]])"
      ]
     },
     "execution_count": 146,
     "metadata": {},
     "output_type": "execute_result"
    }
   ],
   "source": [
    "# comparison operators\n",
    "# >, <, >=, <= , !=, ==\n",
    "np.random.seed(200)\n",
    "arr = np.random.randint(low = 10, \n",
    "                        high = 100, \n",
    "                        size = 25).reshape(5,5)\n",
    "arr"
   ]
  },
  {
   "cell_type": "code",
   "execution_count": 147,
   "id": "2586d178",
   "metadata": {},
   "outputs": [
    {
     "data": {
      "text/plain": [
       "11"
      ]
     },
     "execution_count": 147,
     "metadata": {},
     "output_type": "execute_result"
    }
   ],
   "source": [
    "np.min(arr)"
   ]
  },
  {
   "cell_type": "code",
   "execution_count": 148,
   "id": "930226b2",
   "metadata": {},
   "outputs": [
    {
     "data": {
      "text/plain": [
       "99"
      ]
     },
     "execution_count": 148,
     "metadata": {},
     "output_type": "execute_result"
    }
   ],
   "source": [
    "np.max(arr)"
   ]
  },
  {
   "cell_type": "code",
   "execution_count": 149,
   "id": "c74ef5a4",
   "metadata": {},
   "outputs": [
    {
     "data": {
      "text/plain": [
       "1283"
      ]
     },
     "execution_count": 149,
     "metadata": {},
     "output_type": "execute_result"
    }
   ],
   "source": [
    "np.sum(arr)"
   ]
  },
  {
   "cell_type": "code",
   "execution_count": 150,
   "id": "c23cc5d5",
   "metadata": {},
   "outputs": [
    {
     "data": {
      "text/plain": [
       "257"
      ]
     },
     "execution_count": 150,
     "metadata": {},
     "output_type": "execute_result"
    }
   ],
   "source": [
    "36+ 26 + 78 + 52 + 65"
   ]
  },
  {
   "cell_type": "code",
   "execution_count": 151,
   "id": "ae6c1470",
   "metadata": {},
   "outputs": [
    {
     "data": {
      "text/plain": [
       "array([257, 164, 287, 260, 315])"
      ]
     },
     "execution_count": 151,
     "metadata": {},
     "output_type": "execute_result"
    }
   ],
   "source": [
    "np.sum(arr, axis=0)"
   ]
  },
  {
   "cell_type": "code",
   "execution_count": 152,
   "id": "eb456a93",
   "metadata": {},
   "outputs": [
    {
     "data": {
      "text/plain": [
       "365"
      ]
     },
     "execution_count": 152,
     "metadata": {},
     "output_type": "execute_result"
    }
   ],
   "source": [
    "86+ 89+ 99+ 24+ 67"
   ]
  },
  {
   "cell_type": "code",
   "execution_count": 153,
   "id": "803b25be",
   "metadata": {},
   "outputs": [
    {
     "data": {
      "text/plain": [
       "254"
      ]
     },
     "execution_count": 153,
     "metadata": {},
     "output_type": "execute_result"
    }
   ],
   "source": [
    "sum((99, 21, 16, 52, 66))"
   ]
  },
  {
   "cell_type": "code",
   "execution_count": null,
   "id": "26bef0ec",
   "metadata": {},
   "outputs": [],
   "source": []
  },
  {
   "cell_type": "code",
   "execution_count": 154,
   "id": "85504a48",
   "metadata": {},
   "outputs": [
    {
     "data": {
      "text/plain": [
       "257"
      ]
     },
     "execution_count": 154,
     "metadata": {},
     "output_type": "execute_result"
    }
   ],
   "source": [
    "sum((36,\n",
    "86,\n",
    "99,\n",
    "11,\n",
    "25))"
   ]
  },
  {
   "cell_type": "code",
   "execution_count": 155,
   "id": "7ca94bd6",
   "metadata": {},
   "outputs": [
    {
     "data": {
      "text/plain": [
       "164"
      ]
     },
     "execution_count": 155,
     "metadata": {},
     "output_type": "execute_result"
    }
   ],
   "source": [
    "sum((26,\n",
    "89,\n",
    "21,\n",
    "17,\n",
    "11))"
   ]
  },
  {
   "cell_type": "code",
   "execution_count": 156,
   "id": "11b1ad13",
   "metadata": {},
   "outputs": [
    {
     "data": {
      "text/plain": [
       "array([[36, 26, 78, 52, 65],\n",
       "       [86, 89, 99, 24, 67],\n",
       "       [99, 21, 16, 52, 66],\n",
       "       [11, 17, 61, 37, 83],\n",
       "       [25, 11, 33, 95, 34]])"
      ]
     },
     "execution_count": 156,
     "metadata": {},
     "output_type": "execute_result"
    }
   ],
   "source": [
    "arr"
   ]
  },
  {
   "cell_type": "code",
   "execution_count": 157,
   "id": "f1a0737c",
   "metadata": {},
   "outputs": [
    {
     "data": {
      "text/plain": [
       "array([257, 164, 287, 260, 315])"
      ]
     },
     "execution_count": 157,
     "metadata": {},
     "output_type": "execute_result"
    }
   ],
   "source": [
    "np.sum(arr,axis=0)"
   ]
  },
  {
   "cell_type": "code",
   "execution_count": 158,
   "id": "d368a064",
   "metadata": {},
   "outputs": [
    {
     "data": {
      "text/plain": [
       "257"
      ]
     },
     "execution_count": 158,
     "metadata": {},
     "output_type": "execute_result"
    }
   ],
   "source": [
    "sum(arr[ :  , 0])"
   ]
  },
  {
   "cell_type": "code",
   "execution_count": 159,
   "id": "d45f9741",
   "metadata": {},
   "outputs": [
    {
     "data": {
      "text/plain": [
       "164"
      ]
     },
     "execution_count": 159,
     "metadata": {},
     "output_type": "execute_result"
    }
   ],
   "source": [
    "sum(arr[ :  , 1])"
   ]
  },
  {
   "cell_type": "code",
   "execution_count": 160,
   "id": "c28f0006",
   "metadata": {},
   "outputs": [
    {
     "data": {
      "text/plain": [
       "287"
      ]
     },
     "execution_count": 160,
     "metadata": {},
     "output_type": "execute_result"
    }
   ],
   "source": [
    "sum(arr[ :  , 2])"
   ]
  },
  {
   "cell_type": "code",
   "execution_count": 161,
   "id": "9cfc75db",
   "metadata": {},
   "outputs": [
    {
     "data": {
      "text/plain": [
       "260"
      ]
     },
     "execution_count": 161,
     "metadata": {},
     "output_type": "execute_result"
    }
   ],
   "source": [
    "sum(arr[ :  , 3])"
   ]
  },
  {
   "cell_type": "code",
   "execution_count": 162,
   "id": "117bb10b",
   "metadata": {},
   "outputs": [
    {
     "data": {
      "text/plain": [
       "315"
      ]
     },
     "execution_count": 162,
     "metadata": {},
     "output_type": "execute_result"
    }
   ],
   "source": [
    "sum(arr[ :  , 4])"
   ]
  },
  {
   "cell_type": "code",
   "execution_count": 163,
   "id": "7cae9cf8",
   "metadata": {},
   "outputs": [
    {
     "data": {
      "text/plain": [
       "array([257, 365, 254, 209, 198])"
      ]
     },
     "execution_count": 163,
     "metadata": {},
     "output_type": "execute_result"
    }
   ],
   "source": [
    "np.sum(arr,axis=1)"
   ]
  },
  {
   "cell_type": "code",
   "execution_count": 164,
   "id": "72e5ff47",
   "metadata": {},
   "outputs": [
    {
     "data": {
      "text/plain": [
       "257"
      ]
     },
     "execution_count": 164,
     "metadata": {},
     "output_type": "execute_result"
    }
   ],
   "source": [
    "sum(arr[ 0   ,   :  ])"
   ]
  },
  {
   "cell_type": "code",
   "execution_count": 165,
   "id": "56a80116",
   "metadata": {},
   "outputs": [
    {
     "data": {
      "text/plain": [
       "365"
      ]
     },
     "execution_count": 165,
     "metadata": {},
     "output_type": "execute_result"
    }
   ],
   "source": [
    "sum(arr[ 1   ,   :  ])"
   ]
  },
  {
   "cell_type": "code",
   "execution_count": 166,
   "id": "12c5053b",
   "metadata": {},
   "outputs": [
    {
     "data": {
      "text/plain": [
       "254"
      ]
     },
     "execution_count": 166,
     "metadata": {},
     "output_type": "execute_result"
    }
   ],
   "source": [
    "sum(arr[ 2   ,   :  ])"
   ]
  },
  {
   "cell_type": "code",
   "execution_count": 167,
   "id": "b1b2b38b",
   "metadata": {},
   "outputs": [
    {
     "data": {
      "text/plain": [
       "209"
      ]
     },
     "execution_count": 167,
     "metadata": {},
     "output_type": "execute_result"
    }
   ],
   "source": [
    "sum(arr[ 3  ,   :  ])"
   ]
  },
  {
   "cell_type": "code",
   "execution_count": 168,
   "id": "4d0ed255",
   "metadata": {},
   "outputs": [
    {
     "data": {
      "text/plain": [
       "198"
      ]
     },
     "execution_count": 168,
     "metadata": {},
     "output_type": "execute_result"
    }
   ],
   "source": [
    "sum(arr[ 4  ,   :  ])"
   ]
  },
  {
   "cell_type": "code",
   "execution_count": null,
   "id": "9450d049",
   "metadata": {},
   "outputs": [],
   "source": []
  },
  {
   "cell_type": "code",
   "execution_count": null,
   "id": "d626a96f",
   "metadata": {},
   "outputs": [],
   "source": []
  },
  {
   "cell_type": "code",
   "execution_count": 169,
   "id": "d1b38458",
   "metadata": {},
   "outputs": [],
   "source": [
    "# [ [10,12,18],\n",
    "#   [ 2, 5, 9]]"
   ]
  },
  {
   "cell_type": "code",
   "execution_count": 170,
   "id": "cbadf024",
   "metadata": {},
   "outputs": [],
   "source": [
    "# find rows and cols sum"
   ]
  },
  {
   "cell_type": "code",
   "execution_count": 171,
   "id": "7d4b4fcf",
   "metadata": {},
   "outputs": [
    {
     "data": {
      "text/plain": [
       "array([[10, 12, 18],\n",
       "       [ 2,  5,  9]])"
      ]
     },
     "execution_count": 171,
     "metadata": {},
     "output_type": "execute_result"
    }
   ],
   "source": [
    "newarr = np.array([ [10,12,18],\n",
    "          [ 2, 5, 9]])\n",
    "newarr"
   ]
  },
  {
   "cell_type": "code",
   "execution_count": 172,
   "id": "cf936859",
   "metadata": {},
   "outputs": [
    {
     "data": {
      "text/plain": [
       "array([40, 16])"
      ]
     },
     "execution_count": 172,
     "metadata": {},
     "output_type": "execute_result"
    }
   ],
   "source": [
    "np.sum(newarr, axis= 1)"
   ]
  },
  {
   "cell_type": "code",
   "execution_count": 173,
   "id": "3784973a",
   "metadata": {},
   "outputs": [
    {
     "data": {
      "text/plain": [
       "array([12, 17, 27])"
      ]
     },
     "execution_count": 173,
     "metadata": {},
     "output_type": "execute_result"
    }
   ],
   "source": [
    "np.sum(newarr, axis= 0)"
   ]
  },
  {
   "cell_type": "code",
   "execution_count": null,
   "id": "186a939b",
   "metadata": {},
   "outputs": [],
   "source": []
  },
  {
   "cell_type": "code",
   "execution_count": 219,
   "id": "d9f8e05e",
   "metadata": {},
   "outputs": [
    {
     "data": {
      "text/plain": [
       "2.0"
      ]
     },
     "execution_count": 219,
     "metadata": {},
     "output_type": "execute_result"
    }
   ],
   "source": [
    "a=np.sum((0.0), initial = 2)\n",
    "a"
   ]
  },
  {
   "cell_type": "code",
   "execution_count": 218,
   "id": "d3ddc6ed",
   "metadata": {},
   "outputs": [
    {
     "data": {
      "text/plain": [
       "array([[10, 12, 18],\n",
       "       [ 2,  5,  9]])"
      ]
     },
     "execution_count": 218,
     "metadata": {},
     "output_type": "execute_result"
    }
   ],
   "source": [
    "newarr"
   ]
  }
 ],
 "metadata": {
  "kernelspec": {
   "display_name": "Python 3 (ipykernel)",
   "language": "python",
   "name": "python3"
  },
  "language_info": {
   "codemirror_mode": {
    "name": "ipython",
    "version": 3
   },
   "file_extension": ".py",
   "mimetype": "text/x-python",
   "name": "python",
   "nbconvert_exporter": "python",
   "pygments_lexer": "ipython3",
   "version": "3.11.4"
  }
 },
 "nbformat": 4,
 "nbformat_minor": 5
}
